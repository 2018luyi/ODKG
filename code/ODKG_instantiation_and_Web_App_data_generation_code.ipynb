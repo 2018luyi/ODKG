{
 "cells": [
  {
   "cell_type": "markdown",
   "metadata": {},
   "source": [
    "### These python libraries are already installed in the VM so no need to run the next two snippets"
   ]
  },
  {
   "cell_type": "code",
   "execution_count": null,
   "metadata": {
    "collapsed": false
   },
   "outputs": [],
   "source": [
    "#!pip install datalab\n",
    "#!pip install jupyter_contrib_nbextensions\n",
    "#!jupyter nbextension install --py datalab.notebook --sys-prefix\n",
    "#!pip install --upgrade oauth2client\n",
    "#!pip install google-cloud-monitoring"
   ]
  },
  {
   "cell_type": "code",
   "execution_count": 10,
   "metadata": {
    "collapsed": false
   },
   "outputs": [
    {
     "name": "stdout",
     "output_type": "stream",
     "text": [
      "Requirement already satisfied (use --upgrade to upgrade): networkx in ./anaconda3/lib/python3.5/site-packages\r\n",
      "Requirement already satisfied (use --upgrade to upgrade): decorator>=3.4.0 in ./anaconda3/lib/python3.5/site-packages (from networkx)\r\n",
      "\u001b[33mYou are using pip version 8.1.1, however version 18.1 is available.\r\n",
      "You should consider upgrading via the 'pip install --upgrade pip' command.\u001b[0m\r\n"
     ]
    }
   ],
   "source": [
    "#!pip install networkx"
   ]
  },
  {
   "cell_type": "markdown",
   "metadata": {},
   "source": [
    "---\n",
    "# First IPython Block to run\n",
    "--- this gives error but its ok run it. will try to fix later"
   ]
  },
  {
   "cell_type": "code",
   "execution_count": null,
   "metadata": {
    "collapsed": false,
    "scrolled": true
   },
   "outputs": [],
   "source": [
    "%load_ext google.datalab.kernel"
   ]
  },
  {
   "cell_type": "markdown",
   "metadata": {},
   "source": [
    "# Import libraries "
   ]
  },
  {
   "cell_type": "code",
   "execution_count": 32,
   "metadata": {
    "collapsed": true
   },
   "outputs": [],
   "source": [
    "import numpy as np\n",
    "import pandas as pd\n",
    "import time\n",
    "import os, re, csv\n",
    "import networkx as nx\n",
    "import matplotlib.pyplot as plt\n",
    "from copy import deepcopy\n",
    "import operator\n",
    "\n",
    "pd.set_option('display.max_rows', 500)\n",
    "pd.set_option('display.max_columns', 500)\n",
    "pd.set_option('display.width', 200)\n",
    "\n",
    "# BQ imports\n",
    "import google.datalab.bigquery as bq\n",
    "%matplotlib inline"
   ]
  },
  {
   "cell_type": "markdown",
   "metadata": {},
   "source": [
    "---\n",
    "# Actual Python Code for Drug Annotation\n",
    "### Retrieve all Drug Strings from FPM Data and Save it to a Pandas CSV file for processing via MedEx"
   ]
  },
  {
   "cell_type": "code",
   "execution_count": 9,
   "metadata": {
    "collapsed": true
   },
   "outputs": [],
   "source": [
    "%%bq query -n requests\n",
    "SELECT Charge_Desc\n",
    "FROM `data.All_Drugs_charge_master_pharmacy`"
   ]
  },
  {
   "cell_type": "code",
   "execution_count": null,
   "metadata": {
    "collapsed": false
   },
   "outputs": [],
   "source": [
    "df = requests.execute(output_options=bq.QueryOutput.dataframe()).result()\n",
    "\n",
    "print (df.shape)\n",
    "df.head()"
   ]
  },
  {
   "cell_type": "code",
   "execution_count": 11,
   "metadata": {
    "collapsed": false
   },
   "outputs": [
    {
     "name": "stdout",
     "output_type": "stream",
     "text": [
      "MORPHINE *PF* 1MG/ML INJ NICU-IV ITEM\n",
      "FENTANYL CIT 100MCG PA,E\"\n",
      "LIDOCAINE JELLY 2% 5ML URO-JET\n",
      "AMINOPHYLLINE 25 MG/ML INJ 20ML\n"
     ]
    }
   ],
   "source": [
    "def _refine(s):\n",
    "    r = re.compile(r\"^[^A-Za-z]+\")\n",
    "    a = r.sub(\"\", s.strip()).upper()\n",
    "    a = \" \".join(a.split())\n",
    "    return a\n",
    "\n",
    "print (_refine(\"##Morphine *PF* 1mg/mL inj NICU-IV Item\"))\n",
    "print (_refine('\"FENTANYL CIT 100MCG PA,E\"'))\n",
    "print (_refine(\"LIDOCAINE JELLY 2% 5ML URO-JET \"))\n",
    "print (_refine(\"aminophylline 25 mg/mL inj 20mL\"))"
   ]
  },
  {
   "cell_type": "code",
   "execution_count": 45,
   "metadata": {
    "collapsed": true
   },
   "outputs": [],
   "source": [
    "df = pd.concat([df[\"Charge_Desc\"].apply(_refine)], axis=1)"
   ]
  },
  {
   "cell_type": "code",
   "execution_count": 51,
   "metadata": {
    "collapsed": true
   },
   "outputs": [],
   "source": [
    "df.to_csv(\"PharmaCodes.tsv\", sep=\"\\t\", index=False, header=False, quoting=csv.QUOTE_NONE)"
   ]
  },
  {
   "cell_type": "markdown",
   "metadata": {},
   "source": [
    "---\n",
    "\n",
    "### Run MedEx on the VM \n",
    "---\n",
    "\n",
    "--- Split the PharmaCodes file into multiple files with 1000 strings each\n",
    "\n",
    "<font color=green>split PharmaCodes.tsv</font>\n",
    "\n",
    "--- Run MedEx \n",
    "\n",
    "<font color=green>java -Xmx1024m -cp lib/*:bin org.apache.medex.Main -i [input directory] -o [output directory]</font>\n",
    "\n",
    "---\n",
    "\n",
    "### Retrieve and process all output files"
   ]
  },
  {
   "cell_type": "code",
   "execution_count": 52,
   "metadata": {
    "collapsed": true
   },
   "outputs": [],
   "source": [
    "def get_reqd_fileset(folder_path, exclusion_criteria=None):\n",
    "    \"A class of navigators on the file system\"\n",
    "    fileset = None\n",
    "    for root, dirs, files in os.walk(folder_path):\n",
    "        fileset = [x for x in files if not exclusion_criteria(x)] if exclusion_criteria else files\n",
    "    return fileset"
   ]
  },
  {
   "cell_type": "code",
   "execution_count": 53,
   "metadata": {
    "collapsed": true
   },
   "outputs": [],
   "source": [
    "files = get_reqd_fileset(\"Medex_UIMA_1.2.1/output_refined\")"
   ]
  },
  {
   "cell_type": "code",
   "execution_count": 54,
   "metadata": {
    "collapsed": true
   },
   "outputs": [],
   "source": [
    "folderName = \"Medex_UIMA_1.2.1/output_refined/\"\n",
    "fileOutput = {}\n",
    "columns = [\"index\", \"Sentence text\", \"Drug name\", \"Brand name\", \"Drug form\", \"Strength\", \"Dose amount\", \"Route\",\n",
    "           \"Frequency\", \"Duration\", \"Neccessity\", \"UMLS CUI\", \"RXNORM RxCUI\", \"RXNORM RxCUI for generic name\",\n",
    "           \"Generic name\"]\n",
    "\n",
    "for k in files:\n",
    "    df = pd.read_csv(folderName + k, sep=\"|\", header=None)\n",
    "    df = pd.concat([df[0].apply(lambda x: k + x.split(\"\\t\")[0]).to_frame(name=\"index\"), \n",
    "                               df[0].apply(lambda x: x.split(\"\\t\")[1]).to_frame(name=\"drugstr\"),\n",
    "                    df[[1, 2, 3, 4, 5, 6, 7, 8, 9, 10, 11, 12, 13]]], axis=1)\n",
    "    df.columns = columns\n",
    "    fileOutput[k] = df"
   ]
  },
  {
   "cell_type": "code",
   "execution_count": null,
   "metadata": {
    "collapsed": false,
    "scrolled": true
   },
   "outputs": [],
   "source": [
    "fileOutput['xjx'].head(30)"
   ]
  },
  {
   "cell_type": "markdown",
   "metadata": {},
   "source": [
    "### Combine and Upload to BigQuery"
   ]
  },
  {
   "cell_type": "markdown",
   "metadata": {},
   "source": [
    "#### This block combines all the individual data frames generated post-Medex code execution and uploads it to the BigQuery database\n",
    "#### No Need to run this block unless MedEx parameters are changed ~ would just update the BigQuery table"
   ]
  },
  {
   "cell_type": "code",
   "execution_count": null,
   "metadata": {
    "collapsed": false,
    "scrolled": true
   },
   "outputs": [],
   "source": [
    "columns = [\"index\", \"sentence_text\", \"drug_name\", \"brand_name\", \"drug_form\", \"strength\", \"dose_amount\", \"route\",\n",
    "           \"frequency\", \"duration\", \"neccessity\", \"umls_cui\", \"rxnorm_rxcui\", \"rxnorm_rxcui_generic\",\n",
    "           \"generic_name\"]\n",
    "\n",
    "ccount = 0\n",
    "for m in fileOutput:\n",
    "    if ccount == 0: df = deepcopy(fileOutput[m])\n",
    "    else: df = pd.concat([df, fileOutput[m]], axis=0, sort=False)\n",
    "    print (\"combined: \", m, \"final shape: \", df.shape[0])\n",
    "    ccount += 1\n",
    "    #if ccount > 10: break\n",
    "\n",
    "df = df.sort_values(\"index\", ascending=False)\n",
    "df.columns = columns\n",
    "df.loc[df[\"rxnorm_rxcui\"].isnull(), \"rxnorm_rxcui\"] = \"\"\n",
    "df[\"rxnorm_rxcui\"] = df[\"rxnorm_rxcui\"].apply(lambda x: str(int(x)) if not type(x) is str else \"\")\n",
    "df.loc[df[\"rxnorm_rxcui_generic\"].isnull(), \"rxnorm_rxcui_generic\"] = \"\"\n",
    "df[\"rxnorm_rxcui_generic\"] = df[\"rxnorm_rxcui_generic\"].apply(lambda x: str(int(x)) if not type(x) is str else \"\")\n",
    "#print (df.head())\n",
    "df.to_gbq(\"data.all_drugs_medex_processed_refined\", \"bds-opioid\", chunksize=10000, verbose=True, \n",
    "                         reauth=False, if_exists='replace', private_key=None)"
   ]
  },
  {
   "cell_type": "markdown",
   "metadata": {},
   "source": [
    "### Create a NetworkX Directed Graph with: \n",
    "#### --- 3 type of Nodes (CUI ID, RxCUI ID, Drug String), and \n",
    "#### --- 3 type of Edges (Cuiedge, Rxcuiedge, RxGenCuiedge)\n",
    "##### (Generic RX CUI and RX CUI are bundled within RxCUI IDs since there might be drug strings that are generic) i.e. RxCUI === RxGenericCui"
   ]
  },
  {
   "cell_type": "code",
   "execution_count": null,
   "metadata": {
    "collapsed": false,
    "scrolled": true
   },
   "outputs": [],
   "source": [
    "#outputFolder = \"nxfiles/\" #--- was hoping I will have to save one graph file at a time --not required\n",
    "#ccount = 0\n",
    "G = nx.DiGraph()\n",
    "for m in fileOutput:\n",
    "    #print (ccount, m)\n",
    "    ap = fileOutput[m].to_dict(orient=\"index\")\n",
    "    for k in ap:\n",
    "        rxcui = \"nan\"\n",
    "        G.add_node(ap[k][\"index\"], text=ap[k][\"Sentence text\"], name=ap[k][\"Drug name\"], ntype=\"drugstr\")\n",
    "        if str(ap[k][\"UMLS CUI\"]).lower() != \"nan\":\n",
    "            G.add_node(ap[k][\"UMLS CUI\"], ntype=\"cui\")\n",
    "            G.add_edge(ap[k][\"index\"], ap[k][\"UMLS CUI\"], etype=\"cuiedge\")\n",
    "        if str(ap[k][\"RXNORM RxCUI\"]).lower() != \"nan\":\n",
    "            try: \n",
    "                rxcui = str(int(ap[k][\"RXNORM RxCUI\"]))\n",
    "                G.add_node(rxcui, ntype=\"rxcui\")\n",
    "                G.add_edge(ap[k][\"index\"], rxcui, etype=\"rxcuiedge\")\n",
    "            except: \n",
    "                # faulty MedEx extractions\n",
    "                print (ap[k][\"RXNORM RxCUI\"], \"not processed\") \n",
    "        if str(ap[k][\"RXNORM RxCUI for generic name\"]).lower() != \"nan\":\n",
    "            rxgencui = str(int(ap[k][\"RXNORM RxCUI for generic name\"]))\n",
    "            G.add_node(rxgencui, name=ap[k][\"Generic name\"], ntype=\"rxcui\")\n",
    "            if rxcui != \"nan\": G.add_edge(rxcui, rxgencui, etype=\"rxgencuiedge\")\n",
    "    #print (len(G.nodes()), len(G.edges()))\n",
    "    #nx.write_gpickle(G, outputFolder + m + \".gpickle\")\n",
    "    #ccount += 1"
   ]
  },
  {
   "cell_type": "markdown",
   "metadata": {},
   "source": [
    "(393823, 746527) #unrefined"
   ]
  },
  {
   "cell_type": "code",
   "execution_count": 58,
   "metadata": {
    "collapsed": false
   },
   "outputs": [
    {
     "data": {
      "text/plain": [
       "(427026, 743057)"
      ]
     },
     "execution_count": 58,
     "metadata": {},
     "output_type": "execute_result"
    }
   ],
   "source": [
    "len(G.nodes()), len(G.edges())"
   ]
  },
  {
   "cell_type": "code",
   "execution_count": 59,
   "metadata": {
    "collapsed": true
   },
   "outputs": [],
   "source": [
    "# Save the networkx gpickle file\n",
    "nx.write_gpickle(G, \"alldrugcodes_m_refined.gpickle\")"
   ]
  },
  {
   "cell_type": "markdown",
   "metadata": {},
   "source": [
    "### Helper functions to look at characteristics of the Directed Graph"
   ]
  },
  {
   "cell_type": "code",
   "execution_count": 45,
   "metadata": {
    "collapsed": false
   },
   "outputs": [
    {
     "data": {
      "text/plain": [
       "(427026, 743057)"
      ]
     },
     "execution_count": 45,
     "metadata": {},
     "output_type": "execute_result"
    }
   ],
   "source": [
    "aG = nx.read_gpickle(\"alldrugcodes_m_refined.gpickle\")\n",
    "len(aG.nodes()), len(aG.edges())"
   ]
  },
  {
   "cell_type": "code",
   "execution_count": 42,
   "metadata": {
    "collapsed": true
   },
   "outputs": [],
   "source": [
    "# printer functions\n",
    "def get_all_isolates():\n",
    "    # These are drug strings with no CUI or RXCui\n",
    "    return nx.isolates(aG)\n",
    "\n",
    "def get_node_set(nodetype):\n",
    "    node_set = []\n",
    "    for n in aG.nodes():\n",
    "        if aG.node[n][\"ntype\"] == nodetype: node_set.append(n)\n",
    "    return node_set\n",
    "\n",
    "def get_node_count(nodetype):\n",
    "    ap = get_node_set(nodetype)\n",
    "    return len(ap)\n",
    "\n",
    "def get_node_edge_set(edgetype):\n",
    "    ## Get all incoming nodes\n",
    "    node_set = set([])\n",
    "    for k in aG.edges():\n",
    "        if aG[k[0]][k[1]][\"etype\"] == edgetype: node_set.add(k[0])\n",
    "    return node_set\n",
    "\n",
    "def _get_drug_strs1(_ui, is_cui=True):\n",
    "    #OBSOLETE\n",
    "    if not aG.has_node(_ui): return []\n",
    "    if is_cui: return [k[0] for k in aG.in_edges(_ui)]\n",
    "    else:\n",
    "        _strs = [k[0] for k in aG.in_edges(_ui)]\n",
    "        drstrs = []\n",
    "        for k in _strs:\n",
    "            if aG.node[k][\"ntype\"] == \"drugstr\": drstrs.append(k)\n",
    "            else:\n",
    "                _hopb = [m[0] for m in aG.in_edges(k)] \n",
    "                drstrs.extend(_hopb)\n",
    "        return drstrs\n",
    "    \n",
    "def _get_drug_strs(_ui):\n",
    "    #generic function to get drug strings given a CUI or RXCUI\n",
    "    #dealing with generic RxCuis, assuming some drug strings may be linked to generic CUIs, \n",
    "    #whereas other drug strings may be linked to RxCuis, which are in turn linked to generic CUIs\n",
    "    if not aG.has_node(_ui): return []\n",
    "    drstrs = []\n",
    "    for k in nx.ancestors(aG, _ui):\n",
    "        if aG.node[k][\"ntype\"] == \"drugstr\": drstrs.append(k)\n",
    "    return drstrs"
   ]
  },
  {
   "cell_type": "code",
   "execution_count": 46,
   "metadata": {
    "collapsed": false
   },
   "outputs": [
    {
     "name": "stdout",
     "output_type": "stream",
     "text": [
      "5380\n"
     ]
    }
   ],
   "source": [
    "# check how many drug strings are not matched to either a CUI or rxCUI\n",
    "print (len(nx.isolates(aG)))"
   ]
  },
  {
   "cell_type": "code",
   "execution_count": 47,
   "metadata": {
    "collapsed": false
   },
   "outputs": [
    {
     "data": {
      "text/plain": [
       "379588"
      ]
     },
     "execution_count": 47,
     "metadata": {},
     "output_type": "execute_result"
    }
   ],
   "source": [
    "# check how many drug strings exist in FPM\n",
    "get_node_count(\"drugstr\")"
   ]
  },
  {
   "cell_type": "code",
   "execution_count": 6,
   "metadata": {
    "collapsed": false
   },
   "outputs": [
    {
     "data": {
      "text/plain": [
       "27491"
      ]
     },
     "execution_count": 6,
     "metadata": {},
     "output_type": "execute_result"
    }
   ],
   "source": [
    "# check how many RxCUI Nodes are present post-MedEx processing\n",
    "get_node_count(\"rxcui\")"
   ]
  },
  {
   "cell_type": "markdown",
   "metadata": {},
   "source": [
    "#### Determine how many drug strings have associated CUI codes and RX Cui codes"
   ]
  },
  {
   "cell_type": "code",
   "execution_count": 7,
   "metadata": {
    "collapsed": true
   },
   "outputs": [],
   "source": [
    "# check how many drug strings are matched to RxCUIs and CUIs\n",
    "rxcuis = get_node_edge_set(\"rxcuiedge\")\n",
    "cuis = get_node_edge_set(\"cuiedge\")"
   ]
  },
  {
   "cell_type": "markdown",
   "metadata": {},
   "source": [
    "Old statistics # 268716 340270"
   ]
  },
  {
   "cell_type": "code",
   "execution_count": 8,
   "metadata": {
    "collapsed": false
   },
   "outputs": [
    {
     "name": "stdout",
     "output_type": "stream",
     "text": [
      "288983 374208\n"
     ]
    }
   ],
   "source": [
    "print (len(cuis), len(rxcuis))"
   ]
  },
  {
   "cell_type": "markdown",
   "metadata": {},
   "source": [
    "### Getting Opioid related Drugs"
   ]
  },
  {
   "cell_type": "code",
   "execution_count": 36,
   "metadata": {
    "collapsed": true
   },
   "outputs": [],
   "source": [
    "oG = nx.read_gpickle(\"opioid_drugs_wcod.gpickle\")"
   ]
  },
  {
   "cell_type": "code",
   "execution_count": 37,
   "metadata": {
    "collapsed": false
   },
   "outputs": [
    {
     "data": {
      "text/plain": [
       "(10156, 13581)"
      ]
     },
     "execution_count": 37,
     "metadata": {},
     "output_type": "execute_result"
    }
   ],
   "source": [
    "len(oG.nodes()), len(oG.edges())"
   ]
  },
  {
   "cell_type": "code",
   "execution_count": 38,
   "metadata": {
    "collapsed": true
   },
   "outputs": [],
   "source": [
    "def _get_node_set(G, node_type):\n",
    "    #redundant function -- merge with previous function get_node_set ...\n",
    "    node_set = []\n",
    "    for m in G.nodes():\n",
    "        if G.node[m][\"ntype\"] == node_type:\n",
    "            node_set.append(m)\n",
    "    return node_set\n",
    "\n",
    "def get_cuis(G):\n",
    "    cuis_all = {}\n",
    "    cui_nodes = _get_node_set(G, \"cui_id\")\n",
    "    for m in cui_nodes:\n",
    "        cuis_all[m] = [a[0] for a in G.in_edges(m)]\n",
    "    return cuis_all\n",
    "\n",
    "def get_rxcuis(G):\n",
    "    rxcuis_all = {}\n",
    "    for m in G.nodes():\n",
    "        if \"rxcuis\" in G.node[m]:\n",
    "            rxcuis = G.node[m][\"rxcuis\"].split(\":-:\")\n",
    "            for n in rxcuis:\n",
    "                if not n in rxcuis_all: rxcuis_all[n] = []\n",
    "                rxcuis_all[n].append(m)\n",
    "    return rxcuis_all"
   ]
  },
  {
   "cell_type": "code",
   "execution_count": 39,
   "metadata": {
    "collapsed": true
   },
   "outputs": [],
   "source": [
    "cui_nodes = get_cuis(oG)\n",
    "rxcui_nodes = get_rxcuis(oG)"
   ]
  },
  {
   "cell_type": "code",
   "execution_count": 40,
   "metadata": {
    "collapsed": false
   },
   "outputs": [
    {
     "data": {
      "text/plain": [
       "(5051, 5188)"
      ]
     },
     "execution_count": 40,
     "metadata": {},
     "output_type": "execute_result"
    }
   ],
   "source": [
    "len(cui_nodes), len(rxcui_nodes)"
   ]
  },
  {
   "cell_type": "markdown",
   "metadata": {
    "collapsed": true
   },
   "source": [
    "### Look for OPIOID related drug coverage"
   ]
  },
  {
   "cell_type": "code",
   "execution_count": 48,
   "metadata": {
    "collapsed": true
   },
   "outputs": [],
   "source": [
    "for k in rxcui_nodes:\n",
    "    strs = _get_drug_strs(k)\n",
    "    #print (strs)\n",
    "    rxcui_nodes[k] = {\"ids\": rxcui_nodes[k], \"strs\": strs, \"lstrs\": len(strs), \n",
    "                      \"lab\": \"; \".join([oG.node[m][\"label\"] for m in rxcui_nodes[k]]), \n",
    "                      \"labstrs\": \"; \".join([aG.node[m][\"text\"] for m in strs])}"
   ]
  },
  {
   "cell_type": "code",
   "execution_count": 49,
   "metadata": {
    "collapsed": false,
    "scrolled": true
   },
   "outputs": [
    {
     "name": "stdout",
     "output_type": "stream",
     "text": [
      "(727, 6)\n"
     ]
    },
    {
     "data": {
      "text/html": [
       "<div>\n",
       "<style scoped>\n",
       "    .dataframe tbody tr th:only-of-type {\n",
       "        vertical-align: middle;\n",
       "    }\n",
       "\n",
       "    .dataframe tbody tr th {\n",
       "        vertical-align: top;\n",
       "    }\n",
       "\n",
       "    .dataframe thead th {\n",
       "        text-align: right;\n",
       "    }\n",
       "</style>\n",
       "<table border=\"1\" class=\"dataframe\">\n",
       "  <thead>\n",
       "    <tr style=\"text-align: right;\">\n",
       "      <th></th>\n",
       "      <th>index</th>\n",
       "      <th>ids</th>\n",
       "      <th>lab</th>\n",
       "      <th>labstrs</th>\n",
       "      <th>strs</th>\n",
       "      <th>lstrs</th>\n",
       "    </tr>\n",
       "  </thead>\n",
       "  <tbody>\n",
       "    <tr>\n",
       "      <th>0</th>\n",
       "      <td>7052</td>\n",
       "      <td>[&lt;http://purl.bioontology.org/ontology/RXNORM/...</td>\n",
       "      <td>\"Morphine\"@en</td>\n",
       "      <td>MORPHINE 10MG (10MG) INJ; MORPHINE 1MG/0.5ML S...</td>\n",
       "      <td>[xmy789, xdi474, xnl360, xld155, xel973, xav69...</td>\n",
       "      <td>3949</td>\n",
       "    </tr>\n",
       "    <tr>\n",
       "      <th>1</th>\n",
       "      <td>4337</td>\n",
       "      <td>[&lt;http://purl.bioontology.org/ontology/RXNORM/...</td>\n",
       "      <td>\"Fentanyl\"@en</td>\n",
       "      <td>FENTANYL 75 MCG/HR PATCH; SUBLIMAZE 20ML; FENT...</td>\n",
       "      <td>[xad810, xep52, xaj283, xbj280, xio563, xbe43,...</td>\n",
       "      <td>2231</td>\n",
       "    </tr>\n",
       "    <tr>\n",
       "      <th>2</th>\n",
       "      <td>3423</td>\n",
       "      <td>[&lt;http://purl.bioontology.org/ontology/RXNORM/...</td>\n",
       "      <td>\"Hydromorphone\"@en</td>\n",
       "      <td>HYDROMORPHONE INJ, 1 MG; HYDROMORPHONE 1MG/ML ...</td>\n",
       "      <td>[xdu509, xnn627, xfm976, xag511, xmd919, xhf31...</td>\n",
       "      <td>1607</td>\n",
       "    </tr>\n",
       "    <tr>\n",
       "      <th>3</th>\n",
       "      <td>7804</td>\n",
       "      <td>[&lt;http://purl.bioontology.org/ontology/RXNORM/...</td>\n",
       "      <td>\"Oxycodone\"@en</td>\n",
       "      <td>OXYCODONE HCL 30MG TABLET; OXYCODONE SOLN 5MG/...</td>\n",
       "      <td>[xll909, xeb785, xfe174, xig513, xei396, xeo55...</td>\n",
       "      <td>1353</td>\n",
       "    </tr>\n",
       "    <tr>\n",
       "      <th>4</th>\n",
       "      <td>203177</td>\n",
       "      <td>[&lt;http://purl.bioontology.org/ontology/RXNORM/...</td>\n",
       "      <td>\"Hydromorphone Hydrochloride\"@en</td>\n",
       "      <td>HYDROMORPHONE HCL ER 8 MG PO TB24 8 MG; HYDROM...</td>\n",
       "      <td>[xhf319, xnn627, xag511, xdu509, xev801, xmu56...</td>\n",
       "      <td>1051</td>\n",
       "    </tr>\n",
       "    <tr>\n",
       "      <th>5</th>\n",
       "      <td>82063</td>\n",
       "      <td>[&lt;http://purl.bioontology.org/ontology/RXNORM/...</td>\n",
       "      <td>\"Oxycodone Hydrochloride\"@en</td>\n",
       "      <td>WCH OXYCODONE 5MG/5ML; OXYCODONE 40 MG SRCAP; ...</td>\n",
       "      <td>[xob817, xip229, xcs674, xeb785, xdh220, xfe17...</td>\n",
       "      <td>978</td>\n",
       "    </tr>\n",
       "    <tr>\n",
       "      <th>6</th>\n",
       "      <td>5489</td>\n",
       "      <td>[&lt;http://purl.bioontology.org/ontology/RXNORM/...</td>\n",
       "      <td>\"Hydrocodone\"@en</td>\n",
       "      <td>HYDROCODONE 7.5 MG/ACETAMINOPHEN 325 MG TABLET...</td>\n",
       "      <td>[xdh55, xae110, xgt730, xia332, xei548, xiy760...</td>\n",
       "      <td>910</td>\n",
       "    </tr>\n",
       "    <tr>\n",
       "      <th>7</th>\n",
       "      <td>6754</td>\n",
       "      <td>[&lt;http://purl.bioontology.org/ontology/RXNORM/...</td>\n",
       "      <td>\"Meperidine\"@en</td>\n",
       "      <td>DEMEROL 5 MG INJ; MEPERIDINE HCL 100 MG/ML ML;...</td>\n",
       "      <td>[xcu627, xmo582, xha622, xia294, xhh252, xga32...</td>\n",
       "      <td>904</td>\n",
       "    </tr>\n",
       "    <tr>\n",
       "      <th>8</th>\n",
       "      <td>6813</td>\n",
       "      <td>[&lt;http://purl.bioontology.org/ontology/RXNORM/...</td>\n",
       "      <td>\"Methadone\"@en</td>\n",
       "      <td>METHADONE PO SOLN 2 MG/1 ML DU; METHADONE TAB ...</td>\n",
       "      <td>[xib515, xcj489, xgt578, xhu888, xlg281, xik99...</td>\n",
       "      <td>698</td>\n",
       "    </tr>\n",
       "    <tr>\n",
       "      <th>9</th>\n",
       "      <td>2670</td>\n",
       "      <td>[&lt;http://purl.bioontology.org/ontology/RXNORM/...</td>\n",
       "      <td>\"Codeine\"@en</td>\n",
       "      <td>CODEINE SO4 TABLET 15MG UD 053218; TYLENOL &amp; C...</td>\n",
       "      <td>[xey164, xmk329, xjh666, xqa238, xdm897, xls14...</td>\n",
       "      <td>666</td>\n",
       "    </tr>\n",
       "    <tr>\n",
       "      <th>10</th>\n",
       "      <td>7242</td>\n",
       "      <td>[&lt;http://purl.bioontology.org/ontology/RXNORM/...</td>\n",
       "      <td>\"Naloxone\"@en</td>\n",
       "      <td>NARCAN 1MG/ML AMP 2ML FM:0005; NALOXONE 0.4MG/...</td>\n",
       "      <td>[xek807, xcv68, xpk37, xkc614, xif492, xqh49, ...</td>\n",
       "      <td>627</td>\n",
       "    </tr>\n",
       "    <tr>\n",
       "      <th>11</th>\n",
       "      <td>142436</td>\n",
       "      <td>[&lt;http://purl.bioontology.org/ontology/RXNORM/...</td>\n",
       "      <td>\"Fentanyl Citrate\"@en</td>\n",
       "      <td>FENTANYL (PF) 50 MCG/ML INTRAVENOUS SOLUTION 5...</td>\n",
       "      <td>[xkl550, xaj283, xhy457, xfu411, xbi265, xbj28...</td>\n",
       "      <td>591</td>\n",
       "    </tr>\n",
       "    <tr>\n",
       "      <th>12</th>\n",
       "      <td>214488</td>\n",
       "      <td>[&lt;http://purl.bioontology.org/ontology/RXNORM/...</td>\n",
       "      <td>\"Dextromethorphan / Guaifenesin\"@en</td>\n",
       "      <td>GUAIFENESIN 600MG ER TAB; GUAIFENESIN LIQ 100M...</td>\n",
       "      <td>[xae958, xgb780, xjy188, xir931, xan575, xpg71...</td>\n",
       "      <td>540</td>\n",
       "    </tr>\n",
       "    <tr>\n",
       "      <th>13</th>\n",
       "      <td>606642</td>\n",
       "      <td>[&lt;http://purl.bioontology.org/ontology/RXNORM/...</td>\n",
       "      <td>\"Fentanyl / ropivacaine\"@en</td>\n",
       "      <td>FENTANYL 75 MCG/HR PATCH; FENTANYL 75 MCG/HR T...</td>\n",
       "      <td>[xad810, xhd671, xie972, xdg536, xaa560, xka30...</td>\n",
       "      <td>492</td>\n",
       "    </tr>\n",
       "    <tr>\n",
       "      <th>14</th>\n",
       "      <td>1908</td>\n",
       "      <td>[&lt;http://purl.bioontology.org/ontology/RXNORM/...</td>\n",
       "      <td>\"Fentanyl\"@en</td>\n",
       "      <td>CALCIUM GLUCONATE .5% GEL 4 OZ; CALCIUM GLUCON...</td>\n",
       "      <td>[xnm490, xdq888, xgw382, xhz508, xhr151, xer50...</td>\n",
       "      <td>383</td>\n",
       "    </tr>\n",
       "    <tr>\n",
       "      <th>15</th>\n",
       "      <td>3289</td>\n",
       "      <td>[&lt;http://purl.bioontology.org/ontology/RXNORM/...</td>\n",
       "      <td>\"Dextromethorphan\"@en</td>\n",
       "      <td>RONDEC DM LIQ 5ML UD; MUCINEX DM TAB E.R.; FER...</td>\n",
       "      <td>[xov218, xhv62, xqh463, xdv134, xmg612, xox249...</td>\n",
       "      <td>355</td>\n",
       "    </tr>\n",
       "    <tr>\n",
       "      <th>16</th>\n",
       "      <td>1841</td>\n",
       "      <td>[&lt;http://purl.bioontology.org/ontology/RXNORM/...</td>\n",
       "      <td>\"Butorphanol\"@en</td>\n",
       "      <td>BUTORPHANOL TARTRATE 1 MG INJ; BUTORPHANOL 2.5...</td>\n",
       "      <td>[xhu812, xcx904, xgm151, xlc825, xhj36, xmg704...</td>\n",
       "      <td>303</td>\n",
       "    </tr>\n",
       "    <tr>\n",
       "      <th>17</th>\n",
       "      <td>1819</td>\n",
       "      <td>[&lt;http://purl.bioontology.org/ontology/RXNORM/...</td>\n",
       "      <td>\"Buprenorphine\"@en</td>\n",
       "      <td>BUPRENORPHINE 1MG T FOR 8MG; BUPRENORPHINE 2MG...</td>\n",
       "      <td>[xmb767, xee368, xqb366, xnq977, xkf497, xib33...</td>\n",
       "      <td>299</td>\n",
       "    </tr>\n",
       "    <tr>\n",
       "      <th>18</th>\n",
       "      <td>214183</td>\n",
       "      <td>[&lt;http://purl.bioontology.org/ontology/RXNORM/...</td>\n",
       "      <td>\"Acetaminophen / Oxycodone\"@en</td>\n",
       "      <td>OXYCODONE HCL IR 5MG CAP; OXYCODONE-ACETAMINOP...</td>\n",
       "      <td>[xfe174, xll390, xam755, xdp50, xhh869, xfs465...</td>\n",
       "      <td>281</td>\n",
       "    </tr>\n",
       "    <tr>\n",
       "      <th>19</th>\n",
       "      <td>7238</td>\n",
       "      <td>[&lt;http://purl.bioontology.org/ontology/RXNORM/...</td>\n",
       "      <td>\"Nalbuphine\"@en</td>\n",
       "      <td>NALBUPHINE 10MG/1ML INJ AMP; WCH NALBUPHINE 10...</td>\n",
       "      <td>[xgt221, xnr268, xht995, xpj593, xju158, xpt34...</td>\n",
       "      <td>271</td>\n",
       "    </tr>\n",
       "    <tr>\n",
       "      <th>20</th>\n",
       "      <td>892493</td>\n",
       "      <td>[&lt;http://purl.bioontology.org/ontology/RXNORM/...</td>\n",
       "      <td>\"Morphine Sulfate 10 MG\"@en</td>\n",
       "      <td>MORPHINE 10MG (10MG) INJ; MORPHINE ELIX 10MG; ...</td>\n",
       "      <td>[xmy789, xju61, xmb689, xla607, xen485, xpy615...</td>\n",
       "      <td>259</td>\n",
       "    </tr>\n",
       "    <tr>\n",
       "      <th>21</th>\n",
       "      <td>892588</td>\n",
       "      <td>[&lt;http://purl.bioontology.org/ontology/RXNORM/...</td>\n",
       "      <td>\"Morphine Sulfate 2 MG/ML\"@en</td>\n",
       "      <td>MORPHINE SYR 2 MG/1 ML; MORPHINE 2MG/1ML CARPU...</td>\n",
       "      <td>[xkc343, xcn812, xgb562, xdi474, xhv709, xhl82...</td>\n",
       "      <td>232</td>\n",
       "    </tr>\n",
       "    <tr>\n",
       "      <th>22</th>\n",
       "      <td>56795</td>\n",
       "      <td>[&lt;http://purl.bioontology.org/ontology/RXNORM/...</td>\n",
       "      <td>\"Sufentanil\"@en</td>\n",
       "      <td>SUFENTANIL CITRATE 50 MCG/ML INTRAVENOUS SOLUT...</td>\n",
       "      <td>[xez97, xpo881, xmi109, xed556, xda673, xot246...</td>\n",
       "      <td>223</td>\n",
       "    </tr>\n",
       "    <tr>\n",
       "      <th>23</th>\n",
       "      <td>10689</td>\n",
       "      <td>[&lt;http://purl.bioontology.org/ontology/RXNORM/...</td>\n",
       "      <td>\"Tramadol\"@en</td>\n",
       "      <td>TRAMADOL 37.5MG/AP 325MG TAB; TRAMADOL HCL ER ...</td>\n",
       "      <td>[xhz736, xlc702, xgz659, xjr210, xcn214, xgj56...</td>\n",
       "      <td>213</td>\n",
       "    </tr>\n",
       "    <tr>\n",
       "      <th>24</th>\n",
       "      <td>7676</td>\n",
       "      <td>[&lt;http://purl.bioontology.org/ontology/RXNORM/...</td>\n",
       "      <td>\"Opium\"@en</td>\n",
       "      <td>BELLADONNA &amp; OPIUM SUPP (16A) 60; BELLADONNA 1...</td>\n",
       "      <td>[xpq194, xlj817, xgc888, xmp884, xik219, xbu18...</td>\n",
       "      <td>202</td>\n",
       "    </tr>\n",
       "    <tr>\n",
       "      <th>25</th>\n",
       "      <td>892476</td>\n",
       "      <td>[&lt;http://purl.bioontology.org/ontology/RXNORM/...</td>\n",
       "      <td>\"Morphine Sulfate 1 MG/ML\"@en</td>\n",
       "      <td>MORPHINE 1MG/ML 50ML BXT; MORPHINE PF AMP 10 M...</td>\n",
       "      <td>[xfh656, xpf295, xjc407, xoy872, xjf518, xit74...</td>\n",
       "      <td>197</td>\n",
       "    </tr>\n",
       "    <tr>\n",
       "      <th>26</th>\n",
       "      <td>214442</td>\n",
       "      <td>[&lt;http://purl.bioontology.org/ontology/RXNORM/...</td>\n",
       "      <td>\"Codeine / Guaifenesin\"@en</td>\n",
       "      <td>GUAIFENESIN/CODEINE 100MG/10MG 5ML UD CUP; GUA...</td>\n",
       "      <td>[xje413, xhm109, xdv762, xgb780, xfk207, xfs60...</td>\n",
       "      <td>189</td>\n",
       "    </tr>\n",
       "    <tr>\n",
       "      <th>27</th>\n",
       "      <td>73032</td>\n",
       "      <td>[&lt;http://purl.bioontology.org/ontology/RXNORM/...</td>\n",
       "      <td>\"remifentanil\"@en</td>\n",
       "      <td>REMIFENTANIL 1MG VL; REMIFENTANIL 50MCG/ML NS ...</td>\n",
       "      <td>[xbn903, xmp126, xcu5, xer9, xah621, xid701, x...</td>\n",
       "      <td>182</td>\n",
       "    </tr>\n",
       "    <tr>\n",
       "      <th>28</th>\n",
       "      <td>1159056</td>\n",
       "      <td>[&lt;http://purl.bioontology.org/ontology/RXNORM/...</td>\n",
       "      <td>\"Fentanyl Injectable Product\"@en</td>\n",
       "      <td>FENTANYL CITR INJ 25MCG/0.5ML; FENTANYL INJ 50...</td>\n",
       "      <td>[xpv64, xbj314, xbv976, xbk904, xgj195, xbf835...</td>\n",
       "      <td>179</td>\n",
       "    </tr>\n",
       "    <tr>\n",
       "      <th>29</th>\n",
       "      <td>214627</td>\n",
       "      <td>[&lt;http://purl.bioontology.org/ontology/RXNORM/...</td>\n",
       "      <td>\"Hydrocodone / Ibuprofen\"@en</td>\n",
       "      <td>HYDROCODONE/APAP 7.5/325MG TAB; HYDROCODONE/AC...</td>\n",
       "      <td>[xae110, xod667, xpn699, xno582, xia332, xiq13...</td>\n",
       "      <td>171</td>\n",
       "    </tr>\n",
       "  </tbody>\n",
       "</table>\n",
       "</div>"
      ],
      "text/plain": [
       "      index                                                ids                                  lab                                            labstrs  \\\n",
       "0      7052  [<http://purl.bioontology.org/ontology/RXNORM/...                        \"Morphine\"@en  MORPHINE 10MG (10MG) INJ; MORPHINE 1MG/0.5ML S...   \n",
       "1      4337  [<http://purl.bioontology.org/ontology/RXNORM/...                        \"Fentanyl\"@en  FENTANYL 75 MCG/HR PATCH; SUBLIMAZE 20ML; FENT...   \n",
       "2      3423  [<http://purl.bioontology.org/ontology/RXNORM/...                   \"Hydromorphone\"@en  HYDROMORPHONE INJ, 1 MG; HYDROMORPHONE 1MG/ML ...   \n",
       "3      7804  [<http://purl.bioontology.org/ontology/RXNORM/...                       \"Oxycodone\"@en  OXYCODONE HCL 30MG TABLET; OXYCODONE SOLN 5MG/...   \n",
       "4    203177  [<http://purl.bioontology.org/ontology/RXNORM/...     \"Hydromorphone Hydrochloride\"@en  HYDROMORPHONE HCL ER 8 MG PO TB24 8 MG; HYDROM...   \n",
       "5     82063  [<http://purl.bioontology.org/ontology/RXNORM/...         \"Oxycodone Hydrochloride\"@en  WCH OXYCODONE 5MG/5ML; OXYCODONE 40 MG SRCAP; ...   \n",
       "6      5489  [<http://purl.bioontology.org/ontology/RXNORM/...                     \"Hydrocodone\"@en  HYDROCODONE 7.5 MG/ACETAMINOPHEN 325 MG TABLET...   \n",
       "7      6754  [<http://purl.bioontology.org/ontology/RXNORM/...                      \"Meperidine\"@en  DEMEROL 5 MG INJ; MEPERIDINE HCL 100 MG/ML ML;...   \n",
       "8      6813  [<http://purl.bioontology.org/ontology/RXNORM/...                       \"Methadone\"@en  METHADONE PO SOLN 2 MG/1 ML DU; METHADONE TAB ...   \n",
       "9      2670  [<http://purl.bioontology.org/ontology/RXNORM/...                         \"Codeine\"@en  CODEINE SO4 TABLET 15MG UD 053218; TYLENOL & C...   \n",
       "10     7242  [<http://purl.bioontology.org/ontology/RXNORM/...                        \"Naloxone\"@en  NARCAN 1MG/ML AMP 2ML FM:0005; NALOXONE 0.4MG/...   \n",
       "11   142436  [<http://purl.bioontology.org/ontology/RXNORM/...                \"Fentanyl Citrate\"@en  FENTANYL (PF) 50 MCG/ML INTRAVENOUS SOLUTION 5...   \n",
       "12   214488  [<http://purl.bioontology.org/ontology/RXNORM/...  \"Dextromethorphan / Guaifenesin\"@en  GUAIFENESIN 600MG ER TAB; GUAIFENESIN LIQ 100M...   \n",
       "13   606642  [<http://purl.bioontology.org/ontology/RXNORM/...          \"Fentanyl / ropivacaine\"@en  FENTANYL 75 MCG/HR PATCH; FENTANYL 75 MCG/HR T...   \n",
       "14     1908  [<http://purl.bioontology.org/ontology/RXNORM/...                        \"Fentanyl\"@en  CALCIUM GLUCONATE .5% GEL 4 OZ; CALCIUM GLUCON...   \n",
       "15     3289  [<http://purl.bioontology.org/ontology/RXNORM/...                \"Dextromethorphan\"@en  RONDEC DM LIQ 5ML UD; MUCINEX DM TAB E.R.; FER...   \n",
       "16     1841  [<http://purl.bioontology.org/ontology/RXNORM/...                     \"Butorphanol\"@en  BUTORPHANOL TARTRATE 1 MG INJ; BUTORPHANOL 2.5...   \n",
       "17     1819  [<http://purl.bioontology.org/ontology/RXNORM/...                   \"Buprenorphine\"@en  BUPRENORPHINE 1MG T FOR 8MG; BUPRENORPHINE 2MG...   \n",
       "18   214183  [<http://purl.bioontology.org/ontology/RXNORM/...       \"Acetaminophen / Oxycodone\"@en  OXYCODONE HCL IR 5MG CAP; OXYCODONE-ACETAMINOP...   \n",
       "19     7238  [<http://purl.bioontology.org/ontology/RXNORM/...                      \"Nalbuphine\"@en  NALBUPHINE 10MG/1ML INJ AMP; WCH NALBUPHINE 10...   \n",
       "20   892493  [<http://purl.bioontology.org/ontology/RXNORM/...          \"Morphine Sulfate 10 MG\"@en  MORPHINE 10MG (10MG) INJ; MORPHINE ELIX 10MG; ...   \n",
       "21   892588  [<http://purl.bioontology.org/ontology/RXNORM/...        \"Morphine Sulfate 2 MG/ML\"@en  MORPHINE SYR 2 MG/1 ML; MORPHINE 2MG/1ML CARPU...   \n",
       "22    56795  [<http://purl.bioontology.org/ontology/RXNORM/...                      \"Sufentanil\"@en  SUFENTANIL CITRATE 50 MCG/ML INTRAVENOUS SOLUT...   \n",
       "23    10689  [<http://purl.bioontology.org/ontology/RXNORM/...                        \"Tramadol\"@en  TRAMADOL 37.5MG/AP 325MG TAB; TRAMADOL HCL ER ...   \n",
       "24     7676  [<http://purl.bioontology.org/ontology/RXNORM/...                           \"Opium\"@en  BELLADONNA & OPIUM SUPP (16A) 60; BELLADONNA 1...   \n",
       "25   892476  [<http://purl.bioontology.org/ontology/RXNORM/...        \"Morphine Sulfate 1 MG/ML\"@en  MORPHINE 1MG/ML 50ML BXT; MORPHINE PF AMP 10 M...   \n",
       "26   214442  [<http://purl.bioontology.org/ontology/RXNORM/...           \"Codeine / Guaifenesin\"@en  GUAIFENESIN/CODEINE 100MG/10MG 5ML UD CUP; GUA...   \n",
       "27    73032  [<http://purl.bioontology.org/ontology/RXNORM/...                    \"remifentanil\"@en  REMIFENTANIL 1MG VL; REMIFENTANIL 50MCG/ML NS ...   \n",
       "28  1159056  [<http://purl.bioontology.org/ontology/RXNORM/...     \"Fentanyl Injectable Product\"@en  FENTANYL CITR INJ 25MCG/0.5ML; FENTANYL INJ 50...   \n",
       "29   214627  [<http://purl.bioontology.org/ontology/RXNORM/...         \"Hydrocodone / Ibuprofen\"@en  HYDROCODONE/APAP 7.5/325MG TAB; HYDROCODONE/AC...   \n",
       "\n",
       "                                                 strs  lstrs  \n",
       "0   [xmy789, xdi474, xnl360, xld155, xel973, xav69...   3949  \n",
       "1   [xad810, xep52, xaj283, xbj280, xio563, xbe43,...   2231  \n",
       "2   [xdu509, xnn627, xfm976, xag511, xmd919, xhf31...   1607  \n",
       "3   [xll909, xeb785, xfe174, xig513, xei396, xeo55...   1353  \n",
       "4   [xhf319, xnn627, xag511, xdu509, xev801, xmu56...   1051  \n",
       "5   [xob817, xip229, xcs674, xeb785, xdh220, xfe17...    978  \n",
       "6   [xdh55, xae110, xgt730, xia332, xei548, xiy760...    910  \n",
       "7   [xcu627, xmo582, xha622, xia294, xhh252, xga32...    904  \n",
       "8   [xib515, xcj489, xgt578, xhu888, xlg281, xik99...    698  \n",
       "9   [xey164, xmk329, xjh666, xqa238, xdm897, xls14...    666  \n",
       "10  [xek807, xcv68, xpk37, xkc614, xif492, xqh49, ...    627  \n",
       "11  [xkl550, xaj283, xhy457, xfu411, xbi265, xbj28...    591  \n",
       "12  [xae958, xgb780, xjy188, xir931, xan575, xpg71...    540  \n",
       "13  [xad810, xhd671, xie972, xdg536, xaa560, xka30...    492  \n",
       "14  [xnm490, xdq888, xgw382, xhz508, xhr151, xer50...    383  \n",
       "15  [xov218, xhv62, xqh463, xdv134, xmg612, xox249...    355  \n",
       "16  [xhu812, xcx904, xgm151, xlc825, xhj36, xmg704...    303  \n",
       "17  [xmb767, xee368, xqb366, xnq977, xkf497, xib33...    299  \n",
       "18  [xfe174, xll390, xam755, xdp50, xhh869, xfs465...    281  \n",
       "19  [xgt221, xnr268, xht995, xpj593, xju158, xpt34...    271  \n",
       "20  [xmy789, xju61, xmb689, xla607, xen485, xpy615...    259  \n",
       "21  [xkc343, xcn812, xgb562, xdi474, xhv709, xhl82...    232  \n",
       "22  [xez97, xpo881, xmi109, xed556, xda673, xot246...    223  \n",
       "23  [xhz736, xlc702, xgz659, xjr210, xcn214, xgj56...    213  \n",
       "24  [xpq194, xlj817, xgc888, xmp884, xik219, xbu18...    202  \n",
       "25  [xfh656, xpf295, xjc407, xoy872, xjf518, xit74...    197  \n",
       "26  [xje413, xhm109, xdv762, xgb780, xfk207, xfs60...    189  \n",
       "27  [xbn903, xmp126, xcu5, xer9, xah621, xid701, x...    182  \n",
       "28  [xpv64, xbj314, xbv976, xbk904, xgj195, xbf835...    179  \n",
       "29  [xae110, xod667, xpn699, xno582, xia332, xiq13...    171  "
      ]
     },
     "execution_count": 49,
     "metadata": {},
     "output_type": "execute_result"
    }
   ],
   "source": [
    "rxcui_nodes_df = pd.DataFrame.from_dict(rxcui_nodes, orient=\"index\")\n",
    "rxcui_nodes_df = rxcui_nodes_df.sort_values(\"lstrs\", ascending=False)\n",
    "rxcui_nodes_df = rxcui_nodes_df[rxcui_nodes_df[\"lstrs\"] > 0]\n",
    "rxcui_nodes_df = rxcui_nodes_df[[\"ids\", \"lab\", \"labstrs\", \"strs\", \"lstrs\"]]\n",
    "rxcui_nodes_df = rxcui_nodes_df.reset_index()\n",
    "rxcui_nodes_df.to_csv(\"opioid_rxcui_mappings_ref.tsv\", sep=\"\\t\", index=None)\n",
    "print (rxcui_nodes_df.shape)\n",
    "rxcui_nodes_df.head(30)"
   ]
  },
  {
   "cell_type": "code",
   "execution_count": 50,
   "metadata": {
    "collapsed": true
   },
   "outputs": [],
   "source": [
    "for k in cui_nodes:\n",
    "    strs = _get_drug_strs(k)\n",
    "    cui_nodes[k] = {\"ids\": cui_nodes[k], \"strs\": strs, \"lstrs\": len(strs), \n",
    "                    \"lab\": \"; \".join([oG.node[m][\"label\"] for m in cui_nodes[k]]), \n",
    "                    \"labstrs\": \"; \".join([aG.node[m][\"text\"] for m in strs])}"
   ]
  },
  {
   "cell_type": "code",
   "execution_count": 51,
   "metadata": {
    "collapsed": false,
    "scrolled": true
   },
   "outputs": [
    {
     "name": "stdout",
     "output_type": "stream",
     "text": [
      "(554, 6)\n"
     ]
    },
    {
     "data": {
      "text/html": [
       "<div>\n",
       "<style scoped>\n",
       "    .dataframe tbody tr th:only-of-type {\n",
       "        vertical-align: middle;\n",
       "    }\n",
       "\n",
       "    .dataframe tbody tr th {\n",
       "        vertical-align: top;\n",
       "    }\n",
       "\n",
       "    .dataframe thead th {\n",
       "        text-align: right;\n",
       "    }\n",
       "</style>\n",
       "<table border=\"1\" class=\"dataframe\">\n",
       "  <thead>\n",
       "    <tr style=\"text-align: right;\">\n",
       "      <th></th>\n",
       "      <th>index</th>\n",
       "      <th>ids</th>\n",
       "      <th>lab</th>\n",
       "      <th>labstrs</th>\n",
       "      <th>strs</th>\n",
       "      <th>lstrs</th>\n",
       "    </tr>\n",
       "  </thead>\n",
       "  <tbody>\n",
       "    <tr>\n",
       "      <th>0</th>\n",
       "      <td>C0015846</td>\n",
       "      <td>[&lt;http://purl.bioontology.org/ontology/UATC/N0...</td>\n",
       "      <td>\"fentanyl\"@en; \"fentanyl\"@en</td>\n",
       "      <td>FENTANYL INTRATHECAL SYRINGE; FENTANYL 100MCG/...</td>\n",
       "      <td>[xji630, xai970, xmc605, xoa951, xcw651, xpz89...</td>\n",
       "      <td>796</td>\n",
       "    </tr>\n",
       "    <tr>\n",
       "      <th>1</th>\n",
       "      <td>C0020264</td>\n",
       "      <td>[&lt;http://purl.bioontology.org/ontology/UATC/R0...</td>\n",
       "      <td>\"hydrocodone\"@en</td>\n",
       "      <td>HYDROCODONE 7.5 MG/ACETAMINOPHEN 325 MG TABLET...</td>\n",
       "      <td>[xdh55, xae110, xgt730, xei548, xiy760, xib764...</td>\n",
       "      <td>617</td>\n",
       "    </tr>\n",
       "    <tr>\n",
       "      <th>2</th>\n",
       "      <td>C0026549</td>\n",
       "      <td>[&lt;http://purl.bioontology.org/ontology/UATC/N0...</td>\n",
       "      <td>\"morphine\"@en</td>\n",
       "      <td>MORPHINE PFS PCA 30MG/30ML; MORPHINE SULFA 50 ...</td>\n",
       "      <td>[xew408, xom950, xdt21, xne672, xme896, xbh752...</td>\n",
       "      <td>492</td>\n",
       "    </tr>\n",
       "    <tr>\n",
       "      <th>3</th>\n",
       "      <td>C0012306</td>\n",
       "      <td>[&lt;http://purl.bioontology.org/ontology/UATC/N0...</td>\n",
       "      <td>\"hydromorphone\"@en</td>\n",
       "      <td>HYDROMORPHONE IN 0.9 % NACL 30 ML; HYDROMORPHO...</td>\n",
       "      <td>[xmd919, xkz947, xgk337, xbk356, xqd582, xhr93...</td>\n",
       "      <td>269</td>\n",
       "    </tr>\n",
       "    <tr>\n",
       "      <th>4</th>\n",
       "      <td>C2730170</td>\n",
       "      <td>[&lt;http://purl.bioontology.org/ontology/RXNORM/...</td>\n",
       "      <td>\"Morphine Sulfate 10 MG\"@en</td>\n",
       "      <td>MORPHINE 10MG (10MG) INJ; MORPHINE ELIX 10MG; ...</td>\n",
       "      <td>[xmy789, xju61, xmb689, xla607, xen485, xpy615...</td>\n",
       "      <td>259</td>\n",
       "    </tr>\n",
       "    <tr>\n",
       "      <th>5</th>\n",
       "      <td>C2730213</td>\n",
       "      <td>[&lt;http://purl.bioontology.org/ontology/RXNORM/...</td>\n",
       "      <td>\"Morphine Sulfate 2 MG/ML\"@en</td>\n",
       "      <td>MORPHINE SYR 2 MG/1 ML; MORPHINE 2MG/1ML CARPU...</td>\n",
       "      <td>[xkc343, xcn812, xgb562, xdi474, xhv709, xhl82...</td>\n",
       "      <td>232</td>\n",
       "    </tr>\n",
       "    <tr>\n",
       "      <th>6</th>\n",
       "      <td>C2730159</td>\n",
       "      <td>[&lt;http://purl.bioontology.org/ontology/RXNORM/...</td>\n",
       "      <td>\"Morphine Sulfate 1 MG/ML\"@en</td>\n",
       "      <td>MORPHINE 1MG/ML 50ML BXT; MORPHINE PF AMP 10 M...</td>\n",
       "      <td>[xfh656, xpf295, xjc407, xoy872, xjf518, xit74...</td>\n",
       "      <td>197</td>\n",
       "    </tr>\n",
       "    <tr>\n",
       "      <th>7</th>\n",
       "      <td>C0030049</td>\n",
       "      <td>[&lt;http://purl.bioontology.org/ontology/UATC/N0...</td>\n",
       "      <td>\"oxycodone\"@en</td>\n",
       "      <td>OXYCODONE/ACET TAB 5 MG/325 MG; OXYCODONE/APAP...</td>\n",
       "      <td>[xgj541, xcu350, xgh468, xmn968, xfl133, xec65...</td>\n",
       "      <td>196</td>\n",
       "    </tr>\n",
       "    <tr>\n",
       "      <th>8</th>\n",
       "      <td>C3213448</td>\n",
       "      <td>[&lt;http://purl.bioontology.org/ontology/RXNORM/...</td>\n",
       "      <td>\"Fentanyl Injectable Product\"@en</td>\n",
       "      <td>FENTANYL CITR INJ 25MCG/0.5ML; FENTANYL INJ 50...</td>\n",
       "      <td>[xpv64, xbj314, xbv976, xbk904, xgj195, xbf835...</td>\n",
       "      <td>179</td>\n",
       "    </tr>\n",
       "    <tr>\n",
       "      <th>9</th>\n",
       "      <td>C0009214</td>\n",
       "      <td>[&lt;http://purl.bioontology.org/ontology/UATC/R0...</td>\n",
       "      <td>\"codeine\"@en</td>\n",
       "      <td>CODEINE-BUTALBITAL-ASA-CAFF 30-50-325-40 MG OR...</td>\n",
       "      <td>[xjo701, xkv618, xpi966, xeu649, xho40, xdd371...</td>\n",
       "      <td>135</td>\n",
       "    </tr>\n",
       "    <tr>\n",
       "      <th>10</th>\n",
       "      <td>C1125132</td>\n",
       "      <td>[&lt;http://purl.bioontology.org/ontology/RXNORM/...</td>\n",
       "      <td>\"Fentanyl 0.1 MG\"@en</td>\n",
       "      <td>FENTANYL 0.1MG/2ML VIAL INJ; FENTANYL 0.1 MG P...</td>\n",
       "      <td>[xdp396, xlv489, xbj280, xaj554, xeq162, xae26...</td>\n",
       "      <td>134</td>\n",
       "    </tr>\n",
       "    <tr>\n",
       "      <th>11</th>\n",
       "      <td>C2740055</td>\n",
       "      <td>[&lt;http://purl.bioontology.org/ontology/RXNORM/...</td>\n",
       "      <td>\"Hydromorphone Hydrochloride 1 MG/ML\"@en</td>\n",
       "      <td>HYDROMORPHONE DRIP 1MG/ML 100ML; HYDROMORPHONE...</td>\n",
       "      <td>[xlq231, xnn627, xbm799, xfr881, xev801, xfs63...</td>\n",
       "      <td>126</td>\n",
       "    </tr>\n",
       "    <tr>\n",
       "      <th>12</th>\n",
       "      <td>C1123147</td>\n",
       "      <td>[&lt;http://purl.bioontology.org/ontology/RXNORM/...</td>\n",
       "      <td>\"Fentanyl 0.05 MG/ML\"@en</td>\n",
       "      <td>FENTANYL CITRATE 0.05 MG/ML IJ SOLN 5 ML; FENT...</td>\n",
       "      <td>[xae651, xaj283, xhx485, xcw810, xau783, xio56...</td>\n",
       "      <td>125</td>\n",
       "    </tr>\n",
       "    <tr>\n",
       "      <th>13</th>\n",
       "      <td>C0546864</td>\n",
       "      <td>[&lt;http://purl.bioontology.org/ontology/RXNORM/...</td>\n",
       "      <td>\"Fentanyl Citrate\"@en</td>\n",
       "      <td>FENTANYL CITRATE (PF); FENTANYL CITRATE; FENTA...</td>\n",
       "      <td>[xpy294, xbg510, xic896, xcj691, xlw949, xdn65...</td>\n",
       "      <td>114</td>\n",
       "    </tr>\n",
       "    <tr>\n",
       "      <th>14</th>\n",
       "      <td>C2731217</td>\n",
       "      <td>[&lt;http://purl.bioontology.org/ontology/RXNORM/...</td>\n",
       "      <td>\"Morphine Sulfate 4 MG/ML\"@en</td>\n",
       "      <td>MORPHINE 4 MG/ML SYRINGE 2 MG; MORPHINE 20 MG/...</td>\n",
       "      <td>[xad535, xkx609, xok621, xlm50, xlr47, xky290,...</td>\n",
       "      <td>112</td>\n",
       "    </tr>\n",
       "    <tr>\n",
       "      <th>15</th>\n",
       "      <td>C0982952</td>\n",
       "      <td>[&lt;http://purl.bioontology.org/ontology/RXNORM/...</td>\n",
       "      <td>\"Acetaminophen 325 MG\"@en</td>\n",
       "      <td>ACETAMINOPHEN-325 MG TABL; ACETAMINOPHEN 325 M...</td>\n",
       "      <td>[xcq620, xki723, xfl860, xkp71, xhb160, xjd789...</td>\n",
       "      <td>111</td>\n",
       "    </tr>\n",
       "    <tr>\n",
       "      <th>16</th>\n",
       "      <td>C0982960</td>\n",
       "      <td>[&lt;http://purl.bioontology.org/ontology/RXNORM/...</td>\n",
       "      <td>\"Acetaminophen 650 MG\"@en</td>\n",
       "      <td>ACETAMINOPHEN 650MG R; ACETAMINOPHEN UNISERT 6...</td>\n",
       "      <td>[xff796, xhm276, xeh200, xoe594, xch59, xbl63,...</td>\n",
       "      <td>108</td>\n",
       "    </tr>\n",
       "    <tr>\n",
       "      <th>17</th>\n",
       "      <td>C2730233</td>\n",
       "      <td>[&lt;http://purl.bioontology.org/ontology/RXNORM/...</td>\n",
       "      <td>\"Morphine Sulfate 20 MG/ML\"@en</td>\n",
       "      <td>MORPHINE CONC SOL 20MG/1ML; MORPHINE SULF 20MG...</td>\n",
       "      <td>[xai147, xkh530, xpz1000, xpt77, xky655, xqa68...</td>\n",
       "      <td>104</td>\n",
       "    </tr>\n",
       "    <tr>\n",
       "      <th>18</th>\n",
       "      <td>C2740060</td>\n",
       "      <td>[&lt;http://purl.bioontology.org/ontology/RXNORM/...</td>\n",
       "      <td>\"Hydromorphone Hydrochloride 10 MG/ML\"@en</td>\n",
       "      <td>HYDROMORPHONE HCL-HP 10 MG/ML 5ML; HYDROMORPHO...</td>\n",
       "      <td>[xll462, xck442, xol469, xmu566, xhk550, xph34...</td>\n",
       "      <td>101</td>\n",
       "    </tr>\n",
       "    <tr>\n",
       "      <th>19</th>\n",
       "      <td>C2955077</td>\n",
       "      <td>[&lt;http://purl.bioontology.org/ontology/RXNORM/...</td>\n",
       "      <td>\"Oxycodone Hydrochloride 40 MG\"@en</td>\n",
       "      <td>OXYCODONE CR 40MG TAB; OXYCODONE 40 MG SRCAP; ...</td>\n",
       "      <td>[xck919, xip229, xcs674, xgw814, xam959, xmg42...</td>\n",
       "      <td>97</td>\n",
       "    </tr>\n",
       "    <tr>\n",
       "      <th>20</th>\n",
       "      <td>C2740103</td>\n",
       "      <td>[&lt;http://purl.bioontology.org/ontology/RXNORM/...</td>\n",
       "      <td>\"Hydromorphone Hydrochloride 2 MG/ML\"@en</td>\n",
       "      <td>HYDROMORPHONE (PF) 2 MG/ML SYRINGE 1 ML; HYDRO...</td>\n",
       "      <td>[xet991, xkf43, xod917, xbc817, xev706, xdl579...</td>\n",
       "      <td>94</td>\n",
       "    </tr>\n",
       "    <tr>\n",
       "      <th>21</th>\n",
       "      <td>C2722697</td>\n",
       "      <td>[&lt;http://purl.bioontology.org/ontology/RXNORM/...</td>\n",
       "      <td>\"Methadone Hydrochloride 10 MG/ML\"@en</td>\n",
       "      <td>METHADONE 10MG/ML SOLN 1ML; METHADONE 10MG/1ML...</td>\n",
       "      <td>[xfq370, xiz333, xfm985, xpd514, xlb940, xeu11...</td>\n",
       "      <td>94</td>\n",
       "    </tr>\n",
       "    <tr>\n",
       "      <th>22</th>\n",
       "      <td>C2740079</td>\n",
       "      <td>[&lt;http://purl.bioontology.org/ontology/RXNORM/...</td>\n",
       "      <td>\"Hydromorphone Hydrochloride 4 MG\"@en</td>\n",
       "      <td>HYDROMORPHONE INJ PER 4 MG; HYDROMORPHONE INJ ...</td>\n",
       "      <td>[xdf492, xgh398, xfz243, xct348, xcv31, xpr456...</td>\n",
       "      <td>90</td>\n",
       "    </tr>\n",
       "    <tr>\n",
       "      <th>23</th>\n",
       "      <td>C0774388</td>\n",
       "      <td>[&lt;http://purl.bioontology.org/ontology/RXNORM/...</td>\n",
       "      <td>\"Naloxone Hydrochloride 0.4 MG/ML Injectable S...</td>\n",
       "      <td>NALOXONE INJ 0.4MG/ML 1ML SDV; NALOXONE 0.4 MG...</td>\n",
       "      <td>[xcz884, xeu128, xcd280, xoc991, xlv345, xfv72...</td>\n",
       "      <td>88</td>\n",
       "    </tr>\n",
       "    <tr>\n",
       "      <th>24</th>\n",
       "      <td>C0982762</td>\n",
       "      <td>[&lt;http://purl.bioontology.org/ontology/RXNORM/...</td>\n",
       "      <td>\"Hydromorphone Hydrochloride 2 MG/ML Injectabl...</td>\n",
       "      <td>HYDROMORPHONE 2 MG/ML INJECTION 20 ML; HYDROMO...</td>\n",
       "      <td>[xja922, xdh201, xcy275, xaw723, xge485, xce21...</td>\n",
       "      <td>88</td>\n",
       "    </tr>\n",
       "    <tr>\n",
       "      <th>25</th>\n",
       "      <td>C1656695</td>\n",
       "      <td>[&lt;http://purl.bioontology.org/ontology/RXNORM/...</td>\n",
       "      <td>\"Fentanyl / ropivacaine\"@en</td>\n",
       "      <td>RX-BUP/FENTANYL EPDRL 100ML; FENTANYL/NS 20MCG...</td>\n",
       "      <td>[xie972, xho787, xbp23, xft386, xfb441, xdf243...</td>\n",
       "      <td>85</td>\n",
       "    </tr>\n",
       "    <tr>\n",
       "      <th>26</th>\n",
       "      <td>C0981646</td>\n",
       "      <td>[&lt;http://purl.bioontology.org/ontology/RXNORM/...</td>\n",
       "      <td>\"Oxycodone Hydrochloride 15 MG Oral Tablet\"@en</td>\n",
       "      <td>OXYCODONE 15MG TABLET; OXYCODONE HCL 15MG SR T...</td>\n",
       "      <td>[xau109, xll574, xeu409, xei396, xhl223, xld32...</td>\n",
       "      <td>85</td>\n",
       "    </tr>\n",
       "    <tr>\n",
       "      <th>27</th>\n",
       "      <td>C1123450</td>\n",
       "      <td>[&lt;http://purl.bioontology.org/ontology/RXNORM/...</td>\n",
       "      <td>\"Naloxone Hydrochloride 0.4 MG/ML\"@en</td>\n",
       "      <td>NALOXONE 0.4 MG/ML SOL; NALOXONE 0.4 MG/ML SOL...</td>\n",
       "      <td>[xno326, xmr569, xnk350, xbo629, xlo155, xos95...</td>\n",
       "      <td>83</td>\n",
       "    </tr>\n",
       "    <tr>\n",
       "      <th>28</th>\n",
       "      <td>C2722195</td>\n",
       "      <td>[&lt;http://purl.bioontology.org/ontology/RXNORM/...</td>\n",
       "      <td>\"Morphine Sulfate 100 MG\"@en</td>\n",
       "      <td>MORPHINE INJECTION 100MG; MORPHINE 100MG PF AM...</td>\n",
       "      <td>[xdv309, xjw375, xnx59, xgq606, xbm595, xjx653...</td>\n",
       "      <td>82</td>\n",
       "    </tr>\n",
       "    <tr>\n",
       "      <th>29</th>\n",
       "      <td>C0025376</td>\n",
       "      <td>[&lt;http://purl.bioontology.org/ontology/UATC/N0...</td>\n",
       "      <td>\"pethidine\"@en</td>\n",
       "      <td>MEPERIDINE 300MG/30ML PCA; MEPERIDINE 100MG PC...</td>\n",
       "      <td>[xnt121, xhm818, xlw480, xox446, xmz147, xgk91...</td>\n",
       "      <td>79</td>\n",
       "    </tr>\n",
       "  </tbody>\n",
       "</table>\n",
       "</div>"
      ],
      "text/plain": [
       "       index                                                ids                                                lab                                            labstrs  \\\n",
       "0   C0015846  [<http://purl.bioontology.org/ontology/UATC/N0...                       \"fentanyl\"@en; \"fentanyl\"@en  FENTANYL INTRATHECAL SYRINGE; FENTANYL 100MCG/...   \n",
       "1   C0020264  [<http://purl.bioontology.org/ontology/UATC/R0...                                   \"hydrocodone\"@en  HYDROCODONE 7.5 MG/ACETAMINOPHEN 325 MG TABLET...   \n",
       "2   C0026549  [<http://purl.bioontology.org/ontology/UATC/N0...                                      \"morphine\"@en  MORPHINE PFS PCA 30MG/30ML; MORPHINE SULFA 50 ...   \n",
       "3   C0012306  [<http://purl.bioontology.org/ontology/UATC/N0...                                 \"hydromorphone\"@en  HYDROMORPHONE IN 0.9 % NACL 30 ML; HYDROMORPHO...   \n",
       "4   C2730170  [<http://purl.bioontology.org/ontology/RXNORM/...                        \"Morphine Sulfate 10 MG\"@en  MORPHINE 10MG (10MG) INJ; MORPHINE ELIX 10MG; ...   \n",
       "5   C2730213  [<http://purl.bioontology.org/ontology/RXNORM/...                      \"Morphine Sulfate 2 MG/ML\"@en  MORPHINE SYR 2 MG/1 ML; MORPHINE 2MG/1ML CARPU...   \n",
       "6   C2730159  [<http://purl.bioontology.org/ontology/RXNORM/...                      \"Morphine Sulfate 1 MG/ML\"@en  MORPHINE 1MG/ML 50ML BXT; MORPHINE PF AMP 10 M...   \n",
       "7   C0030049  [<http://purl.bioontology.org/ontology/UATC/N0...                                     \"oxycodone\"@en  OXYCODONE/ACET TAB 5 MG/325 MG; OXYCODONE/APAP...   \n",
       "8   C3213448  [<http://purl.bioontology.org/ontology/RXNORM/...                   \"Fentanyl Injectable Product\"@en  FENTANYL CITR INJ 25MCG/0.5ML; FENTANYL INJ 50...   \n",
       "9   C0009214  [<http://purl.bioontology.org/ontology/UATC/R0...                                       \"codeine\"@en  CODEINE-BUTALBITAL-ASA-CAFF 30-50-325-40 MG OR...   \n",
       "10  C1125132  [<http://purl.bioontology.org/ontology/RXNORM/...                               \"Fentanyl 0.1 MG\"@en  FENTANYL 0.1MG/2ML VIAL INJ; FENTANYL 0.1 MG P...   \n",
       "11  C2740055  [<http://purl.bioontology.org/ontology/RXNORM/...           \"Hydromorphone Hydrochloride 1 MG/ML\"@en  HYDROMORPHONE DRIP 1MG/ML 100ML; HYDROMORPHONE...   \n",
       "12  C1123147  [<http://purl.bioontology.org/ontology/RXNORM/...                           \"Fentanyl 0.05 MG/ML\"@en  FENTANYL CITRATE 0.05 MG/ML IJ SOLN 5 ML; FENT...   \n",
       "13  C0546864  [<http://purl.bioontology.org/ontology/RXNORM/...                              \"Fentanyl Citrate\"@en  FENTANYL CITRATE (PF); FENTANYL CITRATE; FENTA...   \n",
       "14  C2731217  [<http://purl.bioontology.org/ontology/RXNORM/...                      \"Morphine Sulfate 4 MG/ML\"@en  MORPHINE 4 MG/ML SYRINGE 2 MG; MORPHINE 20 MG/...   \n",
       "15  C0982952  [<http://purl.bioontology.org/ontology/RXNORM/...                          \"Acetaminophen 325 MG\"@en  ACETAMINOPHEN-325 MG TABL; ACETAMINOPHEN 325 M...   \n",
       "16  C0982960  [<http://purl.bioontology.org/ontology/RXNORM/...                          \"Acetaminophen 650 MG\"@en  ACETAMINOPHEN 650MG R; ACETAMINOPHEN UNISERT 6...   \n",
       "17  C2730233  [<http://purl.bioontology.org/ontology/RXNORM/...                     \"Morphine Sulfate 20 MG/ML\"@en  MORPHINE CONC SOL 20MG/1ML; MORPHINE SULF 20MG...   \n",
       "18  C2740060  [<http://purl.bioontology.org/ontology/RXNORM/...          \"Hydromorphone Hydrochloride 10 MG/ML\"@en  HYDROMORPHONE HCL-HP 10 MG/ML 5ML; HYDROMORPHO...   \n",
       "19  C2955077  [<http://purl.bioontology.org/ontology/RXNORM/...                 \"Oxycodone Hydrochloride 40 MG\"@en  OXYCODONE CR 40MG TAB; OXYCODONE 40 MG SRCAP; ...   \n",
       "20  C2740103  [<http://purl.bioontology.org/ontology/RXNORM/...           \"Hydromorphone Hydrochloride 2 MG/ML\"@en  HYDROMORPHONE (PF) 2 MG/ML SYRINGE 1 ML; HYDRO...   \n",
       "21  C2722697  [<http://purl.bioontology.org/ontology/RXNORM/...              \"Methadone Hydrochloride 10 MG/ML\"@en  METHADONE 10MG/ML SOLN 1ML; METHADONE 10MG/1ML...   \n",
       "22  C2740079  [<http://purl.bioontology.org/ontology/RXNORM/...              \"Hydromorphone Hydrochloride 4 MG\"@en  HYDROMORPHONE INJ PER 4 MG; HYDROMORPHONE INJ ...   \n",
       "23  C0774388  [<http://purl.bioontology.org/ontology/RXNORM/...  \"Naloxone Hydrochloride 0.4 MG/ML Injectable S...  NALOXONE INJ 0.4MG/ML 1ML SDV; NALOXONE 0.4 MG...   \n",
       "24  C0982762  [<http://purl.bioontology.org/ontology/RXNORM/...  \"Hydromorphone Hydrochloride 2 MG/ML Injectabl...  HYDROMORPHONE 2 MG/ML INJECTION 20 ML; HYDROMO...   \n",
       "25  C1656695  [<http://purl.bioontology.org/ontology/RXNORM/...                        \"Fentanyl / ropivacaine\"@en  RX-BUP/FENTANYL EPDRL 100ML; FENTANYL/NS 20MCG...   \n",
       "26  C0981646  [<http://purl.bioontology.org/ontology/RXNORM/...     \"Oxycodone Hydrochloride 15 MG Oral Tablet\"@en  OXYCODONE 15MG TABLET; OXYCODONE HCL 15MG SR T...   \n",
       "27  C1123450  [<http://purl.bioontology.org/ontology/RXNORM/...              \"Naloxone Hydrochloride 0.4 MG/ML\"@en  NALOXONE 0.4 MG/ML SOL; NALOXONE 0.4 MG/ML SOL...   \n",
       "28  C2722195  [<http://purl.bioontology.org/ontology/RXNORM/...                       \"Morphine Sulfate 100 MG\"@en  MORPHINE INJECTION 100MG; MORPHINE 100MG PF AM...   \n",
       "29  C0025376  [<http://purl.bioontology.org/ontology/UATC/N0...                                     \"pethidine\"@en  MEPERIDINE 300MG/30ML PCA; MEPERIDINE 100MG PC...   \n",
       "\n",
       "                                                 strs  lstrs  \n",
       "0   [xji630, xai970, xmc605, xoa951, xcw651, xpz89...    796  \n",
       "1   [xdh55, xae110, xgt730, xei548, xiy760, xib764...    617  \n",
       "2   [xew408, xom950, xdt21, xne672, xme896, xbh752...    492  \n",
       "3   [xmd919, xkz947, xgk337, xbk356, xqd582, xhr93...    269  \n",
       "4   [xmy789, xju61, xmb689, xla607, xen485, xpy615...    259  \n",
       "5   [xkc343, xcn812, xgb562, xdi474, xhv709, xhl82...    232  \n",
       "6   [xfh656, xpf295, xjc407, xoy872, xjf518, xit74...    197  \n",
       "7   [xgj541, xcu350, xgh468, xmn968, xfl133, xec65...    196  \n",
       "8   [xpv64, xbj314, xbv976, xbk904, xgj195, xbf835...    179  \n",
       "9   [xjo701, xkv618, xpi966, xeu649, xho40, xdd371...    135  \n",
       "10  [xdp396, xlv489, xbj280, xaj554, xeq162, xae26...    134  \n",
       "11  [xlq231, xnn627, xbm799, xfr881, xev801, xfs63...    126  \n",
       "12  [xae651, xaj283, xhx485, xcw810, xau783, xio56...    125  \n",
       "13  [xpy294, xbg510, xic896, xcj691, xlw949, xdn65...    114  \n",
       "14  [xad535, xkx609, xok621, xlm50, xlr47, xky290,...    112  \n",
       "15  [xcq620, xki723, xfl860, xkp71, xhb160, xjd789...    111  \n",
       "16  [xff796, xhm276, xeh200, xoe594, xch59, xbl63,...    108  \n",
       "17  [xai147, xkh530, xpz1000, xpt77, xky655, xqa68...    104  \n",
       "18  [xll462, xck442, xol469, xmu566, xhk550, xph34...    101  \n",
       "19  [xck919, xip229, xcs674, xgw814, xam959, xmg42...     97  \n",
       "20  [xet991, xkf43, xod917, xbc817, xev706, xdl579...     94  \n",
       "21  [xfq370, xiz333, xfm985, xpd514, xlb940, xeu11...     94  \n",
       "22  [xdf492, xgh398, xfz243, xct348, xcv31, xpr456...     90  \n",
       "23  [xcz884, xeu128, xcd280, xoc991, xlv345, xfv72...     88  \n",
       "24  [xja922, xdh201, xcy275, xaw723, xge485, xce21...     88  \n",
       "25  [xie972, xho787, xbp23, xft386, xfb441, xdf243...     85  \n",
       "26  [xau109, xll574, xeu409, xei396, xhl223, xld32...     85  \n",
       "27  [xno326, xmr569, xnk350, xbo629, xlo155, xos95...     83  \n",
       "28  [xdv309, xjw375, xnx59, xgq606, xbm595, xjx653...     82  \n",
       "29  [xnt121, xhm818, xlw480, xox446, xmz147, xgk91...     79  "
      ]
     },
     "execution_count": 51,
     "metadata": {},
     "output_type": "execute_result"
    }
   ],
   "source": [
    "cui_nodes_df = pd.DataFrame.from_dict(cui_nodes, orient=\"index\")\n",
    "cui_nodes_df = cui_nodes_df.sort_values(\"lstrs\", ascending=False)\n",
    "cui_nodes_df = cui_nodes_df[cui_nodes_df[\"lstrs\"] > 0]\n",
    "cui_nodes_df = cui_nodes_df[[\"ids\", \"lab\", \"labstrs\", \"strs\", \"lstrs\"]]\n",
    "cui_nodes_df = cui_nodes_df.reset_index()\n",
    "cui_nodes_df.to_csv(\"opioid_cui_mappings_ref.tsv\", sep=\"\\t\", index=None)\n",
    "print (cui_nodes_df.shape)\n",
    "cui_nodes_df.head(30)"
   ]
  },
  {
   "cell_type": "code",
   "execution_count": 52,
   "metadata": {
    "collapsed": false
   },
   "outputs": [
    {
     "name": "stdout",
     "output_type": "stream",
     "text": [
      "19215\n"
     ]
    }
   ],
   "source": [
    "mapped_rxcui_strs = set([])\n",
    "for a in list(rxcui_nodes_df[\"strs\"]): mapped_rxcui_strs = mapped_rxcui_strs.union(set(a))\n",
    "print (len(mapped_rxcui_strs))"
   ]
  },
  {
   "cell_type": "code",
   "execution_count": 53,
   "metadata": {
    "collapsed": false
   },
   "outputs": [
    {
     "name": "stdout",
     "output_type": "stream",
     "text": [
      "11477\n"
     ]
    }
   ],
   "source": [
    "mapped_cui_strs = set([])\n",
    "for a in list(cui_nodes_df[\"strs\"]): mapped_cui_strs = mapped_cui_strs.union(set(a))\n",
    "print (len(mapped_cui_strs))"
   ]
  },
  {
   "cell_type": "markdown",
   "metadata": {
    "collapsed": true
   },
   "source": [
    "### Check the occurrence of each UMLS CUI and RxNORM RxCUI in the FPM Database"
   ]
  },
  {
   "cell_type": "markdown",
   "metadata": {},
   "source": [
    "#### You can execute some query like q = lambda x: \"SELECT * FROM `data.All_Drugs_charge_master_pharmacy` WHERE Charge_Desc = '\" + x + \"'\", but repeated querying to the BigQuery table for each string does not make sense"
   ]
  },
  {
   "cell_type": "code",
   "execution_count": 7,
   "metadata": {
    "collapsed": true
   },
   "outputs": [],
   "source": [
    "%%bq query -n requests\n",
    "SELECT * FROM `data.All_Drugs_charge_master_pharmacy`"
   ]
  },
  {
   "cell_type": "code",
   "execution_count": 8,
   "metadata": {
    "collapsed": false
   },
   "outputs": [
    {
     "name": "stdout",
     "output_type": "stream",
     "text": [
      "(425059, 2)\n"
     ]
    },
    {
     "data": {
      "text/html": [
       "<div>\n",
       "<style scoped>\n",
       "    .dataframe tbody tr th:only-of-type {\n",
       "        vertical-align: middle;\n",
       "    }\n",
       "\n",
       "    .dataframe tbody tr th {\n",
       "        vertical-align: top;\n",
       "    }\n",
       "\n",
       "    .dataframe thead th {\n",
       "        text-align: right;\n",
       "    }\n",
       "</style>\n",
       "<table border=\"1\" class=\"dataframe\">\n",
       "  <thead>\n",
       "    <tr style=\"text-align: right;\">\n",
       "      <th></th>\n",
       "      <th>Charge_Desc</th>\n",
       "      <th>Count</th>\n",
       "    </tr>\n",
       "  </thead>\n",
       "  <tbody>\n",
       "    <tr>\n",
       "      <th>0</th>\n",
       "      <td>PHARM REV CODE 250</td>\n",
       "      <td>28940</td>\n",
       "    </tr>\n",
       "    <tr>\n",
       "      <th>1</th>\n",
       "      <td>HC PHARM REV CODE 250</td>\n",
       "      <td>24845</td>\n",
       "    </tr>\n",
       "    <tr>\n",
       "      <th>2</th>\n",
       "      <td>HC PHARM REV CODE 636 W HCPCS</td>\n",
       "      <td>19386</td>\n",
       "    </tr>\n",
       "    <tr>\n",
       "      <th>3</th>\n",
       "      <td>SOLN IV NSS 1000ML 2B1324</td>\n",
       "      <td>2814</td>\n",
       "    </tr>\n",
       "    <tr>\n",
       "      <th>4</th>\n",
       "      <td>.9% NACL 500ML</td>\n",
       "      <td>2105</td>\n",
       "    </tr>\n",
       "  </tbody>\n",
       "</table>\n",
       "</div>"
      ],
      "text/plain": [
       "                     Charge_Desc  Count\n",
       "0             PHARM REV CODE 250  28940\n",
       "1          HC PHARM REV CODE 250  24845\n",
       "2  HC PHARM REV CODE 636 W HCPCS  19386\n",
       "3      SOLN IV NSS 1000ML 2B1324   2814\n",
       "4                 .9% NACL 500ML   2105"
      ]
     },
     "execution_count": 8,
     "metadata": {},
     "output_type": "execute_result"
    }
   ],
   "source": [
    "df = requests.execute(output_options=bq.QueryOutput.dataframe()).result()\n",
    "df[\"Charge_Desc\"] = df[\"Charge_Desc\"].apply(lambda x: x.strip())\n",
    "print (df.shape)\n",
    "df.head()"
   ]
  },
  {
   "cell_type": "code",
   "execution_count": 9,
   "metadata": {
    "collapsed": true
   },
   "outputs": [],
   "source": [
    "df = df.set_index(\"Charge_Desc\")\n",
    "df = df.to_dict(orient=\"index\")"
   ]
  },
  {
   "cell_type": "code",
   "execution_count": 10,
   "metadata": {
    "collapsed": true
   },
   "outputs": [],
   "source": [
    "rxcui_nodes_df = pd.read_csv(\"opioid_rxcui_mappings.tsv\", sep=\"\\t\")\n",
    "cui_nodes_df = pd.read_csv(\"opioid_cui_mappings.tsv\", sep=\"\\t\")"
   ]
  },
  {
   "cell_type": "code",
   "execution_count": 12,
   "metadata": {
    "collapsed": true
   },
   "outputs": [],
   "source": [
    "error_strs = set([])\n",
    "\n",
    "def _get_act_lstrs(x):\n",
    "    _lst_count = []\n",
    "    ap = x.split(\"; \")\n",
    "    for k in ap: \n",
    "        if k in df: _lst_count.append(k)\n",
    "    return _lst_count\n",
    "\n",
    "def _get_oc_count(x):\n",
    "    _oc_count = []\n",
    "    ap = x.split(\"; \")\n",
    "    for k in ap: \n",
    "        if k in df: _oc_count.append(df[k][\"Count\"])\n",
    "        else: error_strs.add(k)\n",
    "    return sum(_oc_count)"
   ]
  },
  {
   "cell_type": "code",
   "execution_count": 13,
   "metadata": {
    "collapsed": true
   },
   "outputs": [],
   "source": [
    "rxcui_nodes_df_c = pd.concat([rxcui_nodes_df, \n",
    "                              rxcui_nodes_df[\"labstrs\"].apply(lambda x: _get_oc_count(x)).to_frame(name=\"oc_count\")], \n",
    "                             axis=1)"
   ]
  },
  {
   "cell_type": "code",
   "execution_count": 14,
   "metadata": {
    "collapsed": true
   },
   "outputs": [],
   "source": [
    "cui_nodes_df_c = pd.concat([cui_nodes_df, \n",
    "                            cui_nodes_df[\"labstrs\"].apply(lambda x: _get_oc_count(x)).to_frame(name=\"oc_count\")], \n",
    "                            axis=1)"
   ]
  },
  {
   "cell_type": "code",
   "execution_count": 15,
   "metadata": {
    "collapsed": false
   },
   "outputs": [
    {
     "data": {
      "text/plain": [
       "(2787,\n",
       " ['IPRATROPIUM-ALBUTEROL AE 20-100MC \"NARCAN INJ, 0.4MG/ML 1ML\"',\n",
       "  'HYDROMORPHONE 30MG/30MLPCA/4MG 25021-0113-82 - fluconazole 200 mg/100 mL-0.9% Sol',\n",
       "  'MORPHINE 0.5 MG/ML IN 1 ML 0.9% SODIUM CHLORIDE 1  00904-5058-60 - bisacodyl 10 mg Sup',\n",
       "  'NALBUPHINE 10MG/1ML AMPULE \"INJ, CANDIN ANTIGEN FOR TREATMENT OF WARTS, 0.3 CC\" 63459-0391-20 - bendamustine 100 mg INJ',\n",
       "  'FENTANYL (PF) 50 MCG/ML REPACKAGE SYRINGE \"MEDROXYPROGESTERONE AC INJ, 1MG \"',\n",
       "  'ERYTHROMYCIN 333MG TABLET UD \"HYDROMORPHONE, UP TO 4MG INJ\"',\n",
       "  'MEDROXYPROGESTERONE AC 1MG INJ \"ACETAMINOPHEN 325MG,TABLET\" duloxetine HCL 30mg Cap levothyroxine 0.15 mg Tab UD',\n",
       "  'CYTOXAN 500 MG IV \"INJ, OXYTOCIN 20 UNITS IN NS\" ##Fentanyl 250mcg/5mL inj (for Epidurals/Intrathec',\n",
       "  'B-COMPLEX WITH C- 00591-3214-72 - FENTANYL 100 MCG/HR ER FIL',\n",
       "  'OPIUM TINCT PED 10/1 1ML LQ 24338-0124-13 - ERYTHROMYCIN 333 MG EC TAB',\n",
       "  'OXYCODONE SR TAB 20 MG \"LACTOBACILLUS ACIDOPHILUS 100,000,000 CFU GRANULES\"',\n",
       "  'HYDROMORPHONE HCL PCA 30 ML plasma protein fraction 5% inj 250mL',\n",
       "  'MORPHINE 5 MG/ML PCA 25 mL \"RHO D IMMUNE GLOBULIN, HUMAN 300MCG\" 00173-0662-00 - lamivudine 100. mg Tab',\n",
       "  'MORPHINE 100MG/10ML \"ALUMINUM HYDROXIDE 120 MG/Ml Oral Susp, 1 mL\"',\n",
       "  'MEPERIDINE 50 MG/ML INJECTION',\n",
       "  'ESKALITH CR TAB 450MG propoxyphene cap 65mg',\n",
       "  'DEMEROL PER 100MG ##Albumin human 5% 50mL',\n",
       "  'SODIUM CL 0.45% 59011-0445-01 - hydromorphone 10.  Soln',\n",
       "  'NA CL INJ 10ML meperidine 50 mg tab',\n",
       "  'PROTAMINE SULF AMP 5 CC 00009-5140-01 - linezolid 600.  Soln \"BUDESONIDE DR & ER 3 MG CAPSULE,DELAYED,EXTENDED R\" ##Fentanyl PCA 50mcg/mL inj 100mL (Cadd-Solis) \"INJECTION, DENOSUMAB, 1 MG\"'])"
      ]
     },
     "execution_count": 15,
     "metadata": {},
     "output_type": "execute_result"
    }
   ],
   "source": [
    "len(error_strs), list(error_strs)[0:20]"
   ]
  },
  {
   "cell_type": "code",
   "execution_count": 16,
   "metadata": {
    "collapsed": true
   },
   "outputs": [],
   "source": [
    "rxcui_nodes_df_c.to_csv(\"opioid_rxcui_mappings_count.tsv\", sep=\"\\t\", index=None)\n",
    "cui_nodes_df_c.to_csv(\"opioid_cui_mappings_count.tsv\", sep=\"\\t\", index=None)"
   ]
  },
  {
   "cell_type": "code",
   "execution_count": 17,
   "metadata": {
    "collapsed": true
   },
   "outputs": [],
   "source": [
    "rxcui_nodes_df_c = pd.read_csv(\"opioid_rxcui_mappings_count.tsv\", sep=\"\\t\")\n",
    "cui_nodes_df_c = pd.read_csv(\"opioid_cui_mappings_count.tsv\", sep=\"\\t\")"
   ]
  },
  {
   "cell_type": "code",
   "execution_count": 36,
   "metadata": {
    "collapsed": false,
    "scrolled": true
   },
   "outputs": [
    {
     "data": {
      "text/plain": [
       "(351, 7)"
      ]
     },
     "execution_count": 36,
     "metadata": {},
     "output_type": "execute_result"
    }
   ],
   "source": [
    "cui_nodes_df_c[cui_nodes_df_c[\"oc_count\"] > 10].shape"
   ]
  },
  {
   "cell_type": "code",
   "execution_count": 97,
   "metadata": {
    "collapsed": true
   },
   "outputs": [],
   "source": [
    "plt.rcParams['figure.figsize'] = [10, 5]\n",
    "\n",
    "def plot_scatter_dist(_df_c, ctype=\"CUI\"):\n",
    "    ylim = np.max(_df_c[\"oc_count\"])\n",
    "    xlim = np.max(_df_c[\"lstrs\"])\n",
    "    plt.scatter(_df_c[\"lstrs\"], _df_c[\"oc_count\"], alpha=0.7)\n",
    "    plt.xscale('log')\n",
    "    plt.yscale('log')\n",
    "    plt.xlabel(\"Drug Strings Mapped to a \" + ctype, fontsize=16)\n",
    "    plt.ylabel(\"Total Observations for a \" + ctype, fontsize=16)\n",
    "    plt.ylim(1, ylim*1.5)\n",
    "    plt.plot([1, xlim], [100, 100], 'k-', lw=2)\n",
    "    plt.plot([1, xlim], [10, 10], 'k-', lw=2)\n",
    "    plt.text(xlim*0.1, 12, ctype + \"s above 10: \" + str(_df_c[_df_c[\"oc_count\"] > 10].shape[0]), fontsize=12)\n",
    "    plt.text(xlim*0.1, 120, ctype + \"s above 100: \" + str(_df_c[_df_c[\"oc_count\"] > 100].shape[0]), fontsize=12)\n",
    "    plt.show()"
   ]
  },
  {
   "cell_type": "code",
   "execution_count": 98,
   "metadata": {
    "collapsed": false
   },
   "outputs": [
    {
     "data": {
      "image/png": "[encoded data removed]",
      "text/plain": [
       "<Figure size 720x360 with 1 Axes>"
      ]
     },
     "metadata": {
      "needs_background": "light"
     },
     "output_type": "display_data"
    }
   ],
   "source": [
    "plot_scatter_dist(cui_nodes_df_c)"
   ]
  },
  {
   "cell_type": "code",
   "execution_count": 99,
   "metadata": {
    "collapsed": false
   },
   "outputs": [
    {
     "data": {
      "image/png": "[encoded data removed]",
      "text/plain": [
       "<Figure size 720x360 with 1 Axes>"
      ]
     },
     "metadata": {
      "needs_background": "light"
     },
     "output_type": "display_data"
    }
   ],
   "source": [
    "plot_scatter_dist(rxcui_nodes_df_c, \"RxCUI\")"
   ]
  },
  {
   "cell_type": "code",
   "execution_count": 102,
   "metadata": {
    "collapsed": false,
    "scrolled": true
   },
   "outputs": [
    {
     "data": {
      "text/html": [
       "<div>\n",
       "<style scoped>\n",
       "    .dataframe tbody tr th:only-of-type {\n",
       "        vertical-align: middle;\n",
       "    }\n",
       "\n",
       "    .dataframe tbody tr th {\n",
       "        vertical-align: top;\n",
       "    }\n",
       "\n",
       "    .dataframe thead th {\n",
       "        text-align: right;\n",
       "    }\n",
       "</style>\n",
       "<table border=\"1\" class=\"dataframe\">\n",
       "  <thead>\n",
       "    <tr style=\"text-align: right;\">\n",
       "      <th></th>\n",
       "      <th>index</th>\n",
       "      <th>ids</th>\n",
       "      <th>lab</th>\n",
       "      <th>labstrs</th>\n",
       "      <th>strs</th>\n",
       "      <th>lstrs</th>\n",
       "      <th>oc_count</th>\n",
       "    </tr>\n",
       "  </thead>\n",
       "  <tbody>\n",
       "    <tr>\n",
       "      <th>0</th>\n",
       "      <td>C0015846</td>\n",
       "      <td>['&lt;http://purl.bioontology.org/ontology/UATC/N...</td>\n",
       "      <td>\"fentanyl\"@en; \"fentanyl\"@en</td>\n",
       "      <td>FENTANYL VL 50MCG/ML 50ML (.5; FENTANYL 2500MC...</td>\n",
       "      <td>['xoc415', 'xdy821', 'xnr188', 'xcb318', 'xef9...</td>\n",
       "      <td>816</td>\n",
       "      <td>11418</td>\n",
       "    </tr>\n",
       "    <tr>\n",
       "      <th>1</th>\n",
       "      <td>C0026549</td>\n",
       "      <td>['&lt;http://purl.bioontology.org/ontology/UATC/N...</td>\n",
       "      <td>\"morphine\"@en</td>\n",
       "      <td>MORPHINE INJ 10MG/ML VIAL vancomycin 1250mg pr...</td>\n",
       "      <td>['xne475', 'xjy873', 'xel896', 'xbt178', 'xdv2...</td>\n",
       "      <td>597</td>\n",
       "      <td>6957</td>\n",
       "    </tr>\n",
       "    <tr>\n",
       "      <th>2</th>\n",
       "      <td>C0012306</td>\n",
       "      <td>['&lt;http://purl.bioontology.org/ontology/UATC/N...</td>\n",
       "      <td>\"hydromorphone\"@en</td>\n",
       "      <td>HYDROMORPHONE INTRTHEC CHG; HYDROMORPHONE IT P...</td>\n",
       "      <td>['xjf606', 'xdc709', 'xgg869', 'xnn815', 'xnv6...</td>\n",
       "      <td>292</td>\n",
       "      <td>3663</td>\n",
       "    </tr>\n",
       "    <tr>\n",
       "      <th>3</th>\n",
       "      <td>C2730170</td>\n",
       "      <td>['&lt;http://purl.bioontology.org/ontology/RXNORM...</td>\n",
       "      <td>\"Morphine Sulfate 10 MG\"@en</td>\n",
       "      <td>TESSALON \"INJ, MORPHINE SULFATE, UP TO 10 MG\";...</td>\n",
       "      <td>['xep3', 'xcg467', 'xpy550', 'xmf41', 'xho193'...</td>\n",
       "      <td>240</td>\n",
       "      <td>4978</td>\n",
       "    </tr>\n",
       "    <tr>\n",
       "      <th>4</th>\n",
       "      <td>C0030049</td>\n",
       "      <td>['&lt;http://purl.bioontology.org/ontology/UATC/N...</td>\n",
       "      <td>\"oxycodone\"@en</td>\n",
       "      <td>OXYCODONE-ASA TAB; OXYCODONE tab 5mg \"KENALOG ...</td>\n",
       "      <td>['xon175', 'xmq599', 'xlr667', 'xnr162', 'xnu1...</td>\n",
       "      <td>225</td>\n",
       "      <td>5215</td>\n",
       "    </tr>\n",
       "    <tr>\n",
       "      <th>5</th>\n",
       "      <td>C2730213</td>\n",
       "      <td>['&lt;http://purl.bioontology.org/ontology/RXNORM...</td>\n",
       "      <td>\"Morphine Sulfate 2 MG/ML\"@en</td>\n",
       "      <td>RCH SCREN-MORPHINE 2MG/ML 1ML CARP; MORPHINE 1...</td>\n",
       "      <td>['xhr626', 'xao867', 'xkn419', 'xki244', 'xjh5...</td>\n",
       "      <td>221</td>\n",
       "      <td>5096</td>\n",
       "    </tr>\n",
       "    <tr>\n",
       "      <th>6</th>\n",
       "      <td>C2730159</td>\n",
       "      <td>['&lt;http://purl.bioontology.org/ontology/RXNORM...</td>\n",
       "      <td>\"Morphine Sulfate 1 MG/ML\"@en</td>\n",
       "      <td>PHA-MORPHINE PF 10MG/10ML; MORPHINE 1MG POWDER...</td>\n",
       "      <td>['xko485', 'xat201', 'xjy630', 'xeq130', 'xhq4...</td>\n",
       "      <td>193</td>\n",
       "      <td>3077</td>\n",
       "    </tr>\n",
       "    <tr>\n",
       "      <th>7</th>\n",
       "      <td>C3213448</td>\n",
       "      <td>['&lt;http://purl.bioontology.org/ontology/RXNORM...</td>\n",
       "      <td>\"Fentanyl Injectable Product\"@en</td>\n",
       "      <td>DANTROLENE 20MG INJ VIAL \"##Fentanyl 1,200mcg ...</td>\n",
       "      <td>['xmh670', 'xeb678', 'xmo743', 'xcb360', 'xga6...</td>\n",
       "      <td>169</td>\n",
       "      <td>3737</td>\n",
       "    </tr>\n",
       "    <tr>\n",
       "      <th>8</th>\n",
       "      <td>C1125132</td>\n",
       "      <td>['&lt;http://purl.bioontology.org/ontology/RXNORM...</td>\n",
       "      <td>\"Fentanyl 0.1 MG\"@en</td>\n",
       "      <td>FENTANYL CITRATE 0.1MG INJ; FENTANYL (PER 0.1M...</td>\n",
       "      <td>['xaa420', 'xed413', 'xdx71', 'xoa708', 'xpz55...</td>\n",
       "      <td>129</td>\n",
       "      <td>3394</td>\n",
       "    </tr>\n",
       "    <tr>\n",
       "      <th>9</th>\n",
       "      <td>C1123147</td>\n",
       "      <td>['&lt;http://purl.bioontology.org/ontology/RXNORM...</td>\n",
       "      <td>\"Fentanyl 0.05 MG/ML\"@en</td>\n",
       "      <td>FENTANYL 0.05MG/ML AMPUL; FENTANYL (PF) 50 MCG...</td>\n",
       "      <td>['xir841', 'xka644', 'xjq571', 'xeh689', 'xjf6...</td>\n",
       "      <td>129</td>\n",
       "      <td>3313</td>\n",
       "    </tr>\n",
       "    <tr>\n",
       "      <th>10</th>\n",
       "      <td>C2740055</td>\n",
       "      <td>['&lt;http://purl.bioontology.org/ontology/RXNORM...</td>\n",
       "      <td>\"Hydromorphone Hydrochloride 1 MG/ML\"@en</td>\n",
       "      <td>HYDROMORPHONE 30 MG/30 ML IV DRIP; ERYTHROMYCI...</td>\n",
       "      <td>['xpw320', 'xel323', 'xac657', 'xjy90', 'xfr81...</td>\n",
       "      <td>128</td>\n",
       "      <td>2619</td>\n",
       "    </tr>\n",
       "    <tr>\n",
       "      <th>11</th>\n",
       "      <td>C0546864</td>\n",
       "      <td>['&lt;http://purl.bioontology.org/ontology/RXNORM...</td>\n",
       "      <td>\"Fentanyl Citrate\"@en</td>\n",
       "      <td>FENTANYL CITRATE-0.9%NACL (PF) 1100 MCG/55 ML ...</td>\n",
       "      <td>['xga382', 'xoo808', 'xoc735', 'xfp666', 'xbe9...</td>\n",
       "      <td>116</td>\n",
       "      <td>2433</td>\n",
       "    </tr>\n",
       "    <tr>\n",
       "      <th>12</th>\n",
       "      <td>C0982952</td>\n",
       "      <td>['&lt;http://purl.bioontology.org/ontology/RXNORM...</td>\n",
       "      <td>\"Acetaminophen 325 MG\"@en</td>\n",
       "      <td>ACETAMINOPHEN 325 MG RE SUPP 12 Each; ACETAMIN...</td>\n",
       "      <td>['xpc588', 'xpp208', 'xfw838', 'xen804', 'xde8...</td>\n",
       "      <td>109</td>\n",
       "      <td>2764</td>\n",
       "    </tr>\n",
       "    <tr>\n",
       "      <th>13</th>\n",
       "      <td>C2730233</td>\n",
       "      <td>['&lt;http://purl.bioontology.org/ontology/RXNORM...</td>\n",
       "      <td>\"Morphine Sulfate 20 MG/ML\"@en</td>\n",
       "      <td>Morphine IR 5 mg/0.25 ml Soln UD; AVODART 0.5M...</td>\n",
       "      <td>['xhf455', 'xcz755', 'xat55', 'xjk518', 'xht16...</td>\n",
       "      <td>105</td>\n",
       "      <td>1817</td>\n",
       "    </tr>\n",
       "    <tr>\n",
       "      <th>14</th>\n",
       "      <td>C2731217</td>\n",
       "      <td>['&lt;http://purl.bioontology.org/ontology/RXNORM...</td>\n",
       "      <td>\"Morphine Sulfate 4 MG/ML\"@en</td>\n",
       "      <td>MORPHINE SULFATE 20 MG/5ML OR SOLN; SYRINGE MO...</td>\n",
       "      <td>['xbp80', 'xpc477', 'xjk27', 'xhy430', 'xdt273...</td>\n",
       "      <td>104</td>\n",
       "      <td>2720</td>\n",
       "    </tr>\n",
       "    <tr>\n",
       "      <th>15</th>\n",
       "      <td>C0982960</td>\n",
       "      <td>['&lt;http://purl.bioontology.org/ontology/RXNORM...</td>\n",
       "      <td>\"Acetaminophen 650 MG\"@en</td>\n",
       "      <td>ACETAMINOPHEN 650MG SUPP       SA; ACETAMINOPH...</td>\n",
       "      <td>['xji78', 'xeo882', 'xao535', 'xkf265', 'xbj34...</td>\n",
       "      <td>103</td>\n",
       "      <td>3388</td>\n",
       "    </tr>\n",
       "    <tr>\n",
       "      <th>16</th>\n",
       "      <td>C2740060</td>\n",
       "      <td>['&lt;http://purl.bioontology.org/ontology/RXNORM...</td>\n",
       "      <td>\"Hydromorphone Hydrochloride 10 MG/ML\"@en</td>\n",
       "      <td>HYDROMORPHONE HP 10MG=1ML; HYDROMORPHONE HCL 1...</td>\n",
       "      <td>['xlv322', 'xob669', 'xog228', 'xoc851', 'xeg7...</td>\n",
       "      <td>102</td>\n",
       "      <td>1379</td>\n",
       "    </tr>\n",
       "    <tr>\n",
       "      <th>17</th>\n",
       "      <td>C0025376</td>\n",
       "      <td>['&lt;http://purl.bioontology.org/ontology/UATC/N...</td>\n",
       "      <td>\"pethidine\"@en</td>\n",
       "      <td>MEPERIDINE INJ PCA 300MG/30CC; ANECTINE 20MG/M...</td>\n",
       "      <td>['xfd126', 'xmp773', 'xcy627', 'xjh596', 'xat8...</td>\n",
       "      <td>98</td>\n",
       "      <td>708</td>\n",
       "    </tr>\n",
       "    <tr>\n",
       "      <th>18</th>\n",
       "      <td>C2722697</td>\n",
       "      <td>['&lt;http://purl.bioontology.org/ontology/RXNORM...</td>\n",
       "      <td>\"Methadone Hydrochloride 10 MG/ML\"@en</td>\n",
       "      <td>METHADONE 10MG/ML PO 1ML; METHADONE 10MG/ML 20...</td>\n",
       "      <td>['xni508', 'xoy36', 'xhc313', 'xof286', 'xnj47...</td>\n",
       "      <td>94</td>\n",
       "      <td>841</td>\n",
       "    </tr>\n",
       "    <tr>\n",
       "      <th>19</th>\n",
       "      <td>C2955077</td>\n",
       "      <td>['&lt;http://purl.bioontology.org/ontology/RXNORM...</td>\n",
       "      <td>\"Oxycodone Hydrochloride 40 MG\"@en</td>\n",
       "      <td>OXYCODONE HCL 40 MG TAB; OXYCODONE ER TAB 40 M...</td>\n",
       "      <td>['xom269', 'xft198', 'xdc225', 'xaz754', 'xls1...</td>\n",
       "      <td>92</td>\n",
       "      <td>2315</td>\n",
       "    </tr>\n",
       "    <tr>\n",
       "      <th>20</th>\n",
       "      <td>C2740103</td>\n",
       "      <td>['&lt;http://purl.bioontology.org/ontology/RXNORM...</td>\n",
       "      <td>\"Hydromorphone Hydrochloride 2 MG/ML\"@en</td>\n",
       "      <td>HYDROMORPHONE 2MG/ML SYR; HYDROMORPHONE 2MG/ML...</td>\n",
       "      <td>['xai756', 'xgw343', 'xbq606', 'xln832', 'xpy7...</td>\n",
       "      <td>91</td>\n",
       "      <td>2531</td>\n",
       "    </tr>\n",
       "    <tr>\n",
       "      <th>21</th>\n",
       "      <td>C0982762</td>\n",
       "      <td>['&lt;http://purl.bioontology.org/ontology/RXNORM...</td>\n",
       "      <td>\"Hydromorphone Hydrochloride 2 MG/ML Injectabl...</td>\n",
       "      <td>HYDROMORPHONE  2 MG/ML INJ SOLN; HYDROMORPHONE...</td>\n",
       "      <td>['xay791', 'xkw513', 'xja838', 'xbs657', 'xgu7...</td>\n",
       "      <td>87</td>\n",
       "      <td>2439</td>\n",
       "    </tr>\n",
       "    <tr>\n",
       "      <th>22</th>\n",
       "      <td>C0774388</td>\n",
       "      <td>['&lt;http://purl.bioontology.org/ontology/RXNORM...</td>\n",
       "      <td>\"Naloxone Hydrochloride 0.4 MG/ML Injectable S...</td>\n",
       "      <td>NALOXONE INJ 0.4MG/ML AMP; IV FAT EMULSION  10...</td>\n",
       "      <td>['xbx269', 'xoc898', 'xpm247', 'xlv311', 'xnf3...</td>\n",
       "      <td>84</td>\n",
       "      <td>2627</td>\n",
       "    </tr>\n",
       "    <tr>\n",
       "      <th>23</th>\n",
       "      <td>C0981646</td>\n",
       "      <td>['&lt;http://purl.bioontology.org/ontology/RXNORM...</td>\n",
       "      <td>\"Oxycodone Hydrochloride 15 MG Oral Tablet\"@en</td>\n",
       "      <td>OXYCODONE IR 15 MG TABLET; OXYCODONE  15 MG OR...</td>\n",
       "      <td>['xge848', 'xne263', 'xlb309', 'xeg865', 'xhl2...</td>\n",
       "      <td>83</td>\n",
       "      <td>1909</td>\n",
       "    </tr>\n",
       "    <tr>\n",
       "      <th>24</th>\n",
       "      <td>C0143993</td>\n",
       "      <td>['&lt;http://purl.bioontology.org/ontology/UATC/N...</td>\n",
       "      <td>\"sufentanil\"@en</td>\n",
       "      <td>HYDROXYZINE TAB 10MG UD        960870 ##Drug S...</td>\n",
       "      <td>['xln431', 'xda606', 'xci235', 'xcr206', 'xcp1...</td>\n",
       "      <td>82</td>\n",
       "      <td>1004</td>\n",
       "    </tr>\n",
       "    <tr>\n",
       "      <th>25</th>\n",
       "      <td>C1123450</td>\n",
       "      <td>['&lt;http://purl.bioontology.org/ontology/RXNORM...</td>\n",
       "      <td>\"Naloxone Hydrochloride 0.4 MG/ML\"@en</td>\n",
       "      <td>PPH 00409-1215-01 - NALOXONE 0.4MG/ML SDV; NAL...</td>\n",
       "      <td>['xmh191', 'xkz528', 'xdc382', 'xmq85', 'xpw78...</td>\n",
       "      <td>82</td>\n",
       "      <td>1876</td>\n",
       "    </tr>\n",
       "    <tr>\n",
       "      <th>26</th>\n",
       "      <td>C2740079</td>\n",
       "      <td>['&lt;http://purl.bioontology.org/ontology/RXNORM...</td>\n",
       "      <td>\"Hydromorphone Hydrochloride 4 MG\"@en</td>\n",
       "      <td>HYDROMORPHONE INJ-&gt;4MG; HYDROMORPHONE 4MG INJ ...</td>\n",
       "      <td>['xkh94', 'xbs427', 'xge691', 'xhh479', 'xbe85...</td>\n",
       "      <td>81</td>\n",
       "      <td>1936</td>\n",
       "    </tr>\n",
       "    <tr>\n",
       "      <th>27</th>\n",
       "      <td>C0066814</td>\n",
       "      <td>['&lt;http://purl.bioontology.org/ontology/RXNORM...</td>\n",
       "      <td>\"Morphine Sulfate\"@en</td>\n",
       "      <td>MORPHINE SULFATE 5MG PCA; RCH SCREN-NACL 0.9% ...</td>\n",
       "      <td>['xpu275', 'xjo99', 'xdg844', 'xki557', 'xdj14...</td>\n",
       "      <td>79</td>\n",
       "      <td>812</td>\n",
       "    </tr>\n",
       "    <tr>\n",
       "      <th>28</th>\n",
       "      <td>C0029112</td>\n",
       "      <td>['&lt;http://purl.bioontology.org/ontology/UATC/N...</td>\n",
       "      <td>\"opium\"@en</td>\n",
       "      <td>BELLADONNA &amp; OPIUM SUPP 1/2GR; BELLA/OPIUM SUP...</td>\n",
       "      <td>['xje240', 'xfg806', 'xom439', 'xdm441', 'xip2...</td>\n",
       "      <td>79</td>\n",
       "      <td>1079</td>\n",
       "    </tr>\n",
       "    <tr>\n",
       "      <th>29</th>\n",
       "      <td>C2722195</td>\n",
       "      <td>['&lt;http://purl.bioontology.org/ontology/RXNORM...</td>\n",
       "      <td>\"Morphine Sulfate 100 MG\"@en</td>\n",
       "      <td>PCA MORPHINE 100 ML CASSETTE; MORPHINE SULFATE...</td>\n",
       "      <td>['xea401', 'xfr73', 'xhx672', 'xln222', 'xpc58...</td>\n",
       "      <td>77</td>\n",
       "      <td>1037</td>\n",
       "    </tr>\n",
       "  </tbody>\n",
       "</table>\n",
       "</div>"
      ],
      "text/plain": [
       "       index                                                ids                                                lab                                            labstrs  \\\n",
       "0   C0015846  ['<http://purl.bioontology.org/ontology/UATC/N...                       \"fentanyl\"@en; \"fentanyl\"@en  FENTANYL VL 50MCG/ML 50ML (.5; FENTANYL 2500MC...   \n",
       "1   C0026549  ['<http://purl.bioontology.org/ontology/UATC/N...                                      \"morphine\"@en  MORPHINE INJ 10MG/ML VIAL vancomycin 1250mg pr...   \n",
       "2   C0012306  ['<http://purl.bioontology.org/ontology/UATC/N...                                 \"hydromorphone\"@en  HYDROMORPHONE INTRTHEC CHG; HYDROMORPHONE IT P...   \n",
       "3   C2730170  ['<http://purl.bioontology.org/ontology/RXNORM...                        \"Morphine Sulfate 10 MG\"@en  TESSALON \"INJ, MORPHINE SULFATE, UP TO 10 MG\";...   \n",
       "4   C0030049  ['<http://purl.bioontology.org/ontology/UATC/N...                                     \"oxycodone\"@en  OXYCODONE-ASA TAB; OXYCODONE tab 5mg \"KENALOG ...   \n",
       "5   C2730213  ['<http://purl.bioontology.org/ontology/RXNORM...                      \"Morphine Sulfate 2 MG/ML\"@en  RCH SCREN-MORPHINE 2MG/ML 1ML CARP; MORPHINE 1...   \n",
       "6   C2730159  ['<http://purl.bioontology.org/ontology/RXNORM...                      \"Morphine Sulfate 1 MG/ML\"@en  PHA-MORPHINE PF 10MG/10ML; MORPHINE 1MG POWDER...   \n",
       "7   C3213448  ['<http://purl.bioontology.org/ontology/RXNORM...                   \"Fentanyl Injectable Product\"@en  DANTROLENE 20MG INJ VIAL \"##Fentanyl 1,200mcg ...   \n",
       "8   C1125132  ['<http://purl.bioontology.org/ontology/RXNORM...                               \"Fentanyl 0.1 MG\"@en  FENTANYL CITRATE 0.1MG INJ; FENTANYL (PER 0.1M...   \n",
       "9   C1123147  ['<http://purl.bioontology.org/ontology/RXNORM...                           \"Fentanyl 0.05 MG/ML\"@en  FENTANYL 0.05MG/ML AMPUL; FENTANYL (PF) 50 MCG...   \n",
       "10  C2740055  ['<http://purl.bioontology.org/ontology/RXNORM...           \"Hydromorphone Hydrochloride 1 MG/ML\"@en  HYDROMORPHONE 30 MG/30 ML IV DRIP; ERYTHROMYCI...   \n",
       "11  C0546864  ['<http://purl.bioontology.org/ontology/RXNORM...                              \"Fentanyl Citrate\"@en  FENTANYL CITRATE-0.9%NACL (PF) 1100 MCG/55 ML ...   \n",
       "12  C0982952  ['<http://purl.bioontology.org/ontology/RXNORM...                          \"Acetaminophen 325 MG\"@en  ACETAMINOPHEN 325 MG RE SUPP 12 Each; ACETAMIN...   \n",
       "13  C2730233  ['<http://purl.bioontology.org/ontology/RXNORM...                     \"Morphine Sulfate 20 MG/ML\"@en  Morphine IR 5 mg/0.25 ml Soln UD; AVODART 0.5M...   \n",
       "14  C2731217  ['<http://purl.bioontology.org/ontology/RXNORM...                      \"Morphine Sulfate 4 MG/ML\"@en  MORPHINE SULFATE 20 MG/5ML OR SOLN; SYRINGE MO...   \n",
       "15  C0982960  ['<http://purl.bioontology.org/ontology/RXNORM...                          \"Acetaminophen 650 MG\"@en  ACETAMINOPHEN 650MG SUPP       SA; ACETAMINOPH...   \n",
       "16  C2740060  ['<http://purl.bioontology.org/ontology/RXNORM...          \"Hydromorphone Hydrochloride 10 MG/ML\"@en  HYDROMORPHONE HP 10MG=1ML; HYDROMORPHONE HCL 1...   \n",
       "17  C0025376  ['<http://purl.bioontology.org/ontology/UATC/N...                                     \"pethidine\"@en  MEPERIDINE INJ PCA 300MG/30CC; ANECTINE 20MG/M...   \n",
       "18  C2722697  ['<http://purl.bioontology.org/ontology/RXNORM...              \"Methadone Hydrochloride 10 MG/ML\"@en  METHADONE 10MG/ML PO 1ML; METHADONE 10MG/ML 20...   \n",
       "19  C2955077  ['<http://purl.bioontology.org/ontology/RXNORM...                 \"Oxycodone Hydrochloride 40 MG\"@en  OXYCODONE HCL 40 MG TAB; OXYCODONE ER TAB 40 M...   \n",
       "20  C2740103  ['<http://purl.bioontology.org/ontology/RXNORM...           \"Hydromorphone Hydrochloride 2 MG/ML\"@en  HYDROMORPHONE 2MG/ML SYR; HYDROMORPHONE 2MG/ML...   \n",
       "21  C0982762  ['<http://purl.bioontology.org/ontology/RXNORM...  \"Hydromorphone Hydrochloride 2 MG/ML Injectabl...  HYDROMORPHONE  2 MG/ML INJ SOLN; HYDROMORPHONE...   \n",
       "22  C0774388  ['<http://purl.bioontology.org/ontology/RXNORM...  \"Naloxone Hydrochloride 0.4 MG/ML Injectable S...  NALOXONE INJ 0.4MG/ML AMP; IV FAT EMULSION  10...   \n",
       "23  C0981646  ['<http://purl.bioontology.org/ontology/RXNORM...     \"Oxycodone Hydrochloride 15 MG Oral Tablet\"@en  OXYCODONE IR 15 MG TABLET; OXYCODONE  15 MG OR...   \n",
       "24  C0143993  ['<http://purl.bioontology.org/ontology/UATC/N...                                    \"sufentanil\"@en  HYDROXYZINE TAB 10MG UD        960870 ##Drug S...   \n",
       "25  C1123450  ['<http://purl.bioontology.org/ontology/RXNORM...              \"Naloxone Hydrochloride 0.4 MG/ML\"@en  PPH 00409-1215-01 - NALOXONE 0.4MG/ML SDV; NAL...   \n",
       "26  C2740079  ['<http://purl.bioontology.org/ontology/RXNORM...              \"Hydromorphone Hydrochloride 4 MG\"@en  HYDROMORPHONE INJ->4MG; HYDROMORPHONE 4MG INJ ...   \n",
       "27  C0066814  ['<http://purl.bioontology.org/ontology/RXNORM...                              \"Morphine Sulfate\"@en  MORPHINE SULFATE 5MG PCA; RCH SCREN-NACL 0.9% ...   \n",
       "28  C0029112  ['<http://purl.bioontology.org/ontology/UATC/N...                                         \"opium\"@en  BELLADONNA & OPIUM SUPP 1/2GR; BELLA/OPIUM SUP...   \n",
       "29  C2722195  ['<http://purl.bioontology.org/ontology/RXNORM...                       \"Morphine Sulfate 100 MG\"@en  PCA MORPHINE 100 ML CASSETTE; MORPHINE SULFATE...   \n",
       "\n",
       "                                                 strs  lstrs  oc_count  \n",
       "0   ['xoc415', 'xdy821', 'xnr188', 'xcb318', 'xef9...    816     11418  \n",
       "1   ['xne475', 'xjy873', 'xel896', 'xbt178', 'xdv2...    597      6957  \n",
       "2   ['xjf606', 'xdc709', 'xgg869', 'xnn815', 'xnv6...    292      3663  \n",
       "3   ['xep3', 'xcg467', 'xpy550', 'xmf41', 'xho193'...    240      4978  \n",
       "4   ['xon175', 'xmq599', 'xlr667', 'xnr162', 'xnu1...    225      5215  \n",
       "5   ['xhr626', 'xao867', 'xkn419', 'xki244', 'xjh5...    221      5096  \n",
       "6   ['xko485', 'xat201', 'xjy630', 'xeq130', 'xhq4...    193      3077  \n",
       "7   ['xmh670', 'xeb678', 'xmo743', 'xcb360', 'xga6...    169      3737  \n",
       "8   ['xaa420', 'xed413', 'xdx71', 'xoa708', 'xpz55...    129      3394  \n",
       "9   ['xir841', 'xka644', 'xjq571', 'xeh689', 'xjf6...    129      3313  \n",
       "10  ['xpw320', 'xel323', 'xac657', 'xjy90', 'xfr81...    128      2619  \n",
       "11  ['xga382', 'xoo808', 'xoc735', 'xfp666', 'xbe9...    116      2433  \n",
       "12  ['xpc588', 'xpp208', 'xfw838', 'xen804', 'xde8...    109      2764  \n",
       "13  ['xhf455', 'xcz755', 'xat55', 'xjk518', 'xht16...    105      1817  \n",
       "14  ['xbp80', 'xpc477', 'xjk27', 'xhy430', 'xdt273...    104      2720  \n",
       "15  ['xji78', 'xeo882', 'xao535', 'xkf265', 'xbj34...    103      3388  \n",
       "16  ['xlv322', 'xob669', 'xog228', 'xoc851', 'xeg7...    102      1379  \n",
       "17  ['xfd126', 'xmp773', 'xcy627', 'xjh596', 'xat8...     98       708  \n",
       "18  ['xni508', 'xoy36', 'xhc313', 'xof286', 'xnj47...     94       841  \n",
       "19  ['xom269', 'xft198', 'xdc225', 'xaz754', 'xls1...     92      2315  \n",
       "20  ['xai756', 'xgw343', 'xbq606', 'xln832', 'xpy7...     91      2531  \n",
       "21  ['xay791', 'xkw513', 'xja838', 'xbs657', 'xgu7...     87      2439  \n",
       "22  ['xbx269', 'xoc898', 'xpm247', 'xlv311', 'xnf3...     84      2627  \n",
       "23  ['xge848', 'xne263', 'xlb309', 'xeg865', 'xhl2...     83      1909  \n",
       "24  ['xln431', 'xda606', 'xci235', 'xcr206', 'xcp1...     82      1004  \n",
       "25  ['xmh191', 'xkz528', 'xdc382', 'xmq85', 'xpw78...     82      1876  \n",
       "26  ['xkh94', 'xbs427', 'xge691', 'xhh479', 'xbe85...     81      1936  \n",
       "27  ['xpu275', 'xjo99', 'xdg844', 'xki557', 'xdj14...     79       812  \n",
       "28  ['xje240', 'xfg806', 'xom439', 'xdm441', 'xip2...     79      1079  \n",
       "29  ['xea401', 'xfr73', 'xhx672', 'xln222', 'xpc58...     77      1037  "
      ]
     },
     "execution_count": 102,
     "metadata": {},
     "output_type": "execute_result"
    }
   ],
   "source": [
    "cui_nodes_df_c.head(30)"
   ]
  },
  {
   "cell_type": "code",
   "execution_count": 101,
   "metadata": {
    "collapsed": false
   },
   "outputs": [
    {
     "data": {
      "text/html": [
       "<div>\n",
       "<style scoped>\n",
       "    .dataframe tbody tr th:only-of-type {\n",
       "        vertical-align: middle;\n",
       "    }\n",
       "\n",
       "    .dataframe tbody tr th {\n",
       "        vertical-align: top;\n",
       "    }\n",
       "\n",
       "    .dataframe thead th {\n",
       "        text-align: right;\n",
       "    }\n",
       "</style>\n",
       "<table border=\"1\" class=\"dataframe\">\n",
       "  <thead>\n",
       "    <tr style=\"text-align: right;\">\n",
       "      <th></th>\n",
       "      <th>index</th>\n",
       "      <th>ids</th>\n",
       "      <th>lab</th>\n",
       "      <th>labstrs</th>\n",
       "      <th>strs</th>\n",
       "      <th>lstrs</th>\n",
       "      <th>oc_count</th>\n",
       "    </tr>\n",
       "  </thead>\n",
       "  <tbody>\n",
       "    <tr>\n",
       "      <th>0</th>\n",
       "      <td>7052</td>\n",
       "      <td>['&lt;http://purl.bioontology.org/ontology/RXNORM...</td>\n",
       "      <td>\"Morphine\"@en</td>\n",
       "      <td>AVODART 0.5MG TABLET morphine 20 mg/mL conc 30...</td>\n",
       "      <td>['xcz755', 'xhh69', 'xds349', 'xga705', 'xgf68...</td>\n",
       "      <td>3918</td>\n",
       "      <td>71557</td>\n",
       "    </tr>\n",
       "    <tr>\n",
       "      <th>1</th>\n",
       "      <td>4337</td>\n",
       "      <td>['&lt;http://purl.bioontology.org/ontology/RXNORM...</td>\n",
       "      <td>\"Fentanyl\"@en</td>\n",
       "      <td>FENTANYL 0.05MG/ML AMPUL; FENTANYL 1 MG/NACL 0...</td>\n",
       "      <td>['xir841', 'xcb318', 'xaq326', 'xhw770', 'xpv5...</td>\n",
       "      <td>2224</td>\n",
       "      <td>48134</td>\n",
       "    </tr>\n",
       "    <tr>\n",
       "      <th>2</th>\n",
       "      <td>3423</td>\n",
       "      <td>['&lt;http://purl.bioontology.org/ontology/RXNORM...</td>\n",
       "      <td>\"Hydromorphone\"@en</td>\n",
       "      <td>HYDROMORPHONE HP 10MG=1ML; HYDROMORPHONE HCL 1...</td>\n",
       "      <td>['xlv322', 'xob669', 'xhg377', 'xja838', 'xax6...</td>\n",
       "      <td>1598</td>\n",
       "      <td>33927</td>\n",
       "    </tr>\n",
       "    <tr>\n",
       "      <th>3</th>\n",
       "      <td>7804</td>\n",
       "      <td>['&lt;http://purl.bioontology.org/ontology/RXNORM...</td>\n",
       "      <td>\"Oxycodone\"@en</td>\n",
       "      <td>OXYCODONE tab 5mg \"KENALOG -40 VL 1ML...  ,,\";...</td>\n",
       "      <td>['xmq599', 'xnu118', 'xnd614', 'xnv260', 'xka8...</td>\n",
       "      <td>1343</td>\n",
       "      <td>33763</td>\n",
       "    </tr>\n",
       "    <tr>\n",
       "      <th>4</th>\n",
       "      <td>203177</td>\n",
       "      <td>['&lt;http://purl.bioontology.org/ontology/RXNORM...</td>\n",
       "      <td>\"Hydromorphone Hydrochloride\"@en</td>\n",
       "      <td>HYDROMORPHONE HP 10MG=1ML; HYDROMORPHONE HCL 1...</td>\n",
       "      <td>['xlv322', 'xob669', 'xpy631', 'xhg377', 'xja8...</td>\n",
       "      <td>1024</td>\n",
       "      <td>24999</td>\n",
       "    </tr>\n",
       "    <tr>\n",
       "      <th>5</th>\n",
       "      <td>82063</td>\n",
       "      <td>['&lt;http://purl.bioontology.org/ontology/RXNORM...</td>\n",
       "      <td>\"Oxycodone Hydrochloride\"@en</td>\n",
       "      <td>OXYCODONE 20MG TAB(S.R.); OXYCODONE HCL TAB 5M...</td>\n",
       "      <td>['xcf298', 'xbo310', 'xid402', 'xej153', 'xnd6...</td>\n",
       "      <td>949</td>\n",
       "      <td>23883</td>\n",
       "    </tr>\n",
       "    <tr>\n",
       "      <th>6</th>\n",
       "      <td>6754</td>\n",
       "      <td>['&lt;http://purl.bioontology.org/ontology/RXNORM...</td>\n",
       "      <td>\"Meperidine\"@en</td>\n",
       "      <td>MEPERIDINE HCL 100MG; MEPERIDINE 50MG/1ML INJ;...</td>\n",
       "      <td>['xhz915', 'xbp303', 'xoa767', 'xmi644', 'xph3...</td>\n",
       "      <td>895</td>\n",
       "      <td>18378</td>\n",
       "    </tr>\n",
       "    <tr>\n",
       "      <th>7</th>\n",
       "      <td>6813</td>\n",
       "      <td>['&lt;http://purl.bioontology.org/ontology/RXNORM...</td>\n",
       "      <td>\"Methadone\"@en</td>\n",
       "      <td>METHADONE HCL HEONATAL CON 0.5MG/ML; METHADONE...</td>\n",
       "      <td>['xlk27', 'xoy36', 'xjk698', 'xni836', 'xhc313...</td>\n",
       "      <td>695</td>\n",
       "      <td>12164</td>\n",
       "    </tr>\n",
       "    <tr>\n",
       "      <th>8</th>\n",
       "      <td>7242</td>\n",
       "      <td>['&lt;http://purl.bioontology.org/ontology/RXNORM...</td>\n",
       "      <td>\"Naloxone\"@en</td>\n",
       "      <td>IV FAT EMULSION  10% ##Naloxone 0.4mg/mL inj (...</td>\n",
       "      <td>['xoc898', 'xjt402', 'xnf343', 'xkz504', 'xhh9...</td>\n",
       "      <td>617</td>\n",
       "      <td>11912</td>\n",
       "    </tr>\n",
       "    <tr>\n",
       "      <th>9</th>\n",
       "      <td>142436</td>\n",
       "      <td>['&lt;http://purl.bioontology.org/ontology/RXNORM...</td>\n",
       "      <td>\"Fentanyl Citrate\"@en</td>\n",
       "      <td>FENTANYL 0.05MG/ML AMPUL; FENTANYL *R* INJ 50 ...</td>\n",
       "      <td>['xir841', 'xoe485', 'xfo167', 'xcn149', 'xog3...</td>\n",
       "      <td>579</td>\n",
       "      <td>13334</td>\n",
       "    </tr>\n",
       "  </tbody>\n",
       "</table>\n",
       "</div>"
      ],
      "text/plain": [
       "    index                                                ids                               lab                                            labstrs                                               strs  \\\n",
       "0    7052  ['<http://purl.bioontology.org/ontology/RXNORM...                     \"Morphine\"@en  AVODART 0.5MG TABLET morphine 20 mg/mL conc 30...  ['xcz755', 'xhh69', 'xds349', 'xga705', 'xgf68...   \n",
       "1    4337  ['<http://purl.bioontology.org/ontology/RXNORM...                     \"Fentanyl\"@en  FENTANYL 0.05MG/ML AMPUL; FENTANYL 1 MG/NACL 0...  ['xir841', 'xcb318', 'xaq326', 'xhw770', 'xpv5...   \n",
       "2    3423  ['<http://purl.bioontology.org/ontology/RXNORM...                \"Hydromorphone\"@en  HYDROMORPHONE HP 10MG=1ML; HYDROMORPHONE HCL 1...  ['xlv322', 'xob669', 'xhg377', 'xja838', 'xax6...   \n",
       "3    7804  ['<http://purl.bioontology.org/ontology/RXNORM...                    \"Oxycodone\"@en  OXYCODONE tab 5mg \"KENALOG -40 VL 1ML...  ,,\";...  ['xmq599', 'xnu118', 'xnd614', 'xnv260', 'xka8...   \n",
       "4  203177  ['<http://purl.bioontology.org/ontology/RXNORM...  \"Hydromorphone Hydrochloride\"@en  HYDROMORPHONE HP 10MG=1ML; HYDROMORPHONE HCL 1...  ['xlv322', 'xob669', 'xpy631', 'xhg377', 'xja8...   \n",
       "5   82063  ['<http://purl.bioontology.org/ontology/RXNORM...      \"Oxycodone Hydrochloride\"@en  OXYCODONE 20MG TAB(S.R.); OXYCODONE HCL TAB 5M...  ['xcf298', 'xbo310', 'xid402', 'xej153', 'xnd6...   \n",
       "6    6754  ['<http://purl.bioontology.org/ontology/RXNORM...                   \"Meperidine\"@en  MEPERIDINE HCL 100MG; MEPERIDINE 50MG/1ML INJ;...  ['xhz915', 'xbp303', 'xoa767', 'xmi644', 'xph3...   \n",
       "7    6813  ['<http://purl.bioontology.org/ontology/RXNORM...                    \"Methadone\"@en  METHADONE HCL HEONATAL CON 0.5MG/ML; METHADONE...  ['xlk27', 'xoy36', 'xjk698', 'xni836', 'xhc313...   \n",
       "8    7242  ['<http://purl.bioontology.org/ontology/RXNORM...                     \"Naloxone\"@en  IV FAT EMULSION  10% ##Naloxone 0.4mg/mL inj (...  ['xoc898', 'xjt402', 'xnf343', 'xkz504', 'xhh9...   \n",
       "9  142436  ['<http://purl.bioontology.org/ontology/RXNORM...             \"Fentanyl Citrate\"@en  FENTANYL 0.05MG/ML AMPUL; FENTANYL *R* INJ 50 ...  ['xir841', 'xoe485', 'xfo167', 'xcn149', 'xog3...   \n",
       "\n",
       "   lstrs  oc_count  \n",
       "0   3918     71557  \n",
       "1   2224     48134  \n",
       "2   1598     33927  \n",
       "3   1343     33763  \n",
       "4   1024     24999  \n",
       "5    949     23883  \n",
       "6    895     18378  \n",
       "7    695     12164  \n",
       "8    617     11912  \n",
       "9    579     13334  "
      ]
     },
     "execution_count": 101,
     "metadata": {},
     "output_type": "execute_result"
    }
   ],
   "source": [
    "rxcui_nodes_df_c.head(10)"
   ]
  },
  {
   "cell_type": "markdown",
   "metadata": {},
   "source": [
    "#### --------------------------------\n",
    "#### Reading the NetworkX gpickle file with Drug Strings and CUI/RxCUI nodes (FPM Drug Network)\n",
    "#### Adding Charge IDs to the different Drug Strings\n",
    "#### --------------------------------"
   ]
  },
  {
   "cell_type": "code",
   "execution_count": 14,
   "metadata": {
    "collapsed": true
   },
   "outputs": [],
   "source": [
    "aG = nx.read_gpickle(\"alldrugcodes_m_refined.gpickle\")"
   ]
  },
  {
   "cell_type": "code",
   "execution_count": 24,
   "metadata": {
    "collapsed": true
   },
   "outputs": [],
   "source": [
    "unmatched_charges = set([])\n",
    "drug_strs_with_charge = set(df[\"Charge_Desc\"])\n",
    "drug_strs_in_network = set([])\n",
    "for k in aG.nodes():\n",
    "    if aG.node[k]['ntype'] == \"drugstr\": drug_strs_in_network.add(aG.node[k][\"text\"])"
   ]
  },
  {
   "cell_type": "code",
   "execution_count": 25,
   "metadata": {
    "collapsed": false
   },
   "outputs": [
    {
     "data": {
      "text/plain": [
       "(345997, 390931)"
      ]
     },
     "execution_count": 25,
     "metadata": {},
     "output_type": "execute_result"
    }
   ],
   "source": [
    "# Drug strings with ChargeId, but not in network -- this is weird -- difference of ~ 50000 :/\n",
    "len(drug_strs_in_network), len(drug_strs_with_charge)"
   ]
  },
  {
   "cell_type": "code",
   "execution_count": 27,
   "metadata": {
    "collapsed": false
   },
   "outputs": [
    {
     "name": "stdout",
     "output_type": "stream",
     "text": [
      "1234\n"
     ]
    }
   ],
   "source": [
    "unmatched_charges = drug_strs_in_network - drug_strs_with_charge\n",
    "print (len(unmatched_charges)) #Drug Strings in network without associated charge id"
   ]
  },
  {
   "cell_type": "code",
   "execution_count": 49,
   "metadata": {
    "collapsed": true
   },
   "outputs": [],
   "source": [
    "adf = df[[\"Charge_ID\", \"Charge_Desc\"]]"
   ]
  },
  {
   "cell_type": "code",
   "execution_count": 34,
   "metadata": {
    "collapsed": true
   },
   "outputs": [],
   "source": [
    "adf = adf[0:50000]"
   ]
  },
  {
   "cell_type": "code",
   "execution_count": 50,
   "metadata": {
    "collapsed": false
   },
   "outputs": [
    {
     "name": "stdout",
     "output_type": "stream",
     "text": [
      "Charge_Desc\n",
      "                            {9087873, 5269892, 182021, 9077764, 26413449, ...\n",
      "A & D 45GM TP                                                       {7333321}\n",
      "A & D OINT                                                          {5551720}\n",
      "A & D OINT 1-1/2 OZ TUBE               {427385, 27316301, 29990637, 23189263}\n",
      "A & D OINT 2 OZ                                          {12116729, 22494460}\n",
      "dtype: object\n"
     ]
    }
   ],
   "source": [
    "def _comb(dfa):\n",
    "    return set(dfa[\"Charge_ID\"])\n",
    "    \n",
    "adf = adf.groupby(\"Charge_Desc\").apply(_comb)\n",
    "print (adf.head())"
   ]
  },
  {
   "cell_type": "code",
   "execution_count": 60,
   "metadata": {
    "collapsed": true
   },
   "outputs": [],
   "source": [
    "unmatched_charges_2 = set([])\n",
    "for k in aG.nodes():\n",
    "    if aG.node[k]['ntype'] == \"drugstr\": \n",
    "        if aG.node[k][\"text\"] in adf: ids = adf[aG.node[k][\"text\"]]\n",
    "        else: \n",
    "            unmatched_charges_2.add(aG.node[k][\"text\"])\n",
    "            ids = set([])\n",
    "        aG.node[k][\"charge_ids\"] = ids"
   ]
  },
  {
   "cell_type": "code",
   "execution_count": 61,
   "metadata": {
    "collapsed": false
   },
   "outputs": [
    {
     "name": "stdout",
     "output_type": "stream",
     "text": [
      "1234\n"
     ]
    }
   ],
   "source": [
    "print (len(unmatched_charges_2))"
   ]
  },
  {
   "cell_type": "code",
   "execution_count": 62,
   "metadata": {
    "collapsed": true
   },
   "outputs": [],
   "source": [
    "nx.write_gpickle(aG, \"all_drug_nodes_with_charge_id.gpickle\")"
   ]
  },
  {
   "cell_type": "code",
   "execution_count": 64,
   "metadata": {
    "collapsed": false
   },
   "outputs": [
    {
     "name": "stdout",
     "output_type": "stream",
     "text": [
      "xai508 {'text': 'BRIMONIDINE 0.2 % EYE DROPS 5 ML', 'name': 'BRIMONIDINE[13577,13588]', 'ntype': 'drugstr', 'charge_ids': {28629249, 29384848, 21607447, 21767322, 29361691, 29280926, 29475110, 29917746, 21575219, 29419955, 30287029, 26195250, 29580280, 6144825, 29771070, 29842497, 30118721, 23991116, 29816666, 25780187, 1296991, 11380320, 26147941, 29996517, 26137704, 24614890, 29259115, 29534188, 29534189, 26616171, 26500074, 26265072, 935540, 29378295, 30154872, 26139257, 8733051, 23006718, 30888447}}\n",
      "xkc357 {'text': 'TETRACYCLINE CAP 500', 'name': 'TETRACYCLINE[9603,9615]', 'ntype': 'drugstr', 'charge_ids': {1960072, 1960073, 5436806}}\n",
      "xao722 {'text': 'FLUTICASONE 16G NASAL', 'name': 'FLUTICASONE[19426,19437]', 'ntype': 'drugstr', 'charge_ids': {22258210, 12579236, 22463214, 4773135, 321518, 6565586, 22436595, 21604788, 11364127, 22725942, 22470527, 10566492, 5744158, 23050015}}\n",
      "xgj955 {'text': 'RILPIVIRINE 25MG TABLET', 'name': 'RILPIVIRINE[25471,25482]', 'ntype': 'drugstr', 'charge_ids': {1862106, 6345363, 24778530, 29817914}}\n",
      "xal930 {'text': 'PROPOFOL 1000MG/100ML VL', 'name': 'PROPOFOL[25370,25378]', 'ntype': 'drugstr', 'charge_ids': {29375004, 23201667, 23780004, 23107429, 29426084, 23423353, 22249035, 29321420, 29531021, 22474800, 24309777, 29480560, 29706964, 23779540, 29335895, 22633753, 22282268, 22376925}}\n",
      "xbv567 {'text': 'LEVETIRACETAM 100MG/ML 30ML SO', 'name': 'LEVETIRACETAM[15177,15190]', 'ntype': 'drugstr', 'charge_ids': {1203667, 1292477, 6005431}}\n",
      "xeq653 {'text': 'LORAZEPAM INJ 10MG', 'name': 'LORAZEPAM[17774,17783]', 'ntype': 'drugstr', 'charge_ids': {24381976, 24445924}}\n",
      "xoa834 {'text': 'PERTUZUMAB INJ 420MG/14ML VL', 'name': 'PERTUZUMAB[22965,22975]', 'ntype': 'drugstr', 'charge_ids': {4059885}}\n",
      "xdn824 {'text': 'NIFEDIPINE E-R TAB 60 MG', 'name': 'NIFEDIPINE[22652,22662]', 'ntype': 'drugstr', 'charge_ids': {24397159, 22169064, 22158666, 24439916, 22107821, 24638814, 25347583}}\n",
      "905026 {'ntype': 'rxcui'}\n"
     ]
    }
   ],
   "source": [
    "for k in aG.nodes()[0:10]:\n",
    "    print (k, aG.node[k])"
   ]
  },
  {
   "cell_type": "markdown",
   "metadata": {},
   "source": [
    "#### --------------------------------\n",
    "#### Abstract each RxCUI/CUI to an Opioid Generic Drug\n",
    "#### --------------------------------"
   ]
  },
  {
   "cell_type": "code",
   "execution_count": 59,
   "metadata": {
    "collapsed": true
   },
   "outputs": [],
   "source": [
    "aG = nx.read_gpickle(\"all_drug_nodes_with_charge_id.gpickle\")"
   ]
  },
  {
   "cell_type": "code",
   "execution_count": 54,
   "metadata": {
    "collapsed": false,
    "scrolled": true
   },
   "outputs": [
    {
     "data": {
      "text/html": [
       "<div>\n",
       "<style scoped>\n",
       "    .dataframe tbody tr th:only-of-type {\n",
       "        vertical-align: middle;\n",
       "    }\n",
       "\n",
       "    .dataframe tbody tr th {\n",
       "        vertical-align: top;\n",
       "    }\n",
       "\n",
       "    .dataframe thead th {\n",
       "        text-align: right;\n",
       "    }\n",
       "</style>\n",
       "<table border=\"1\" class=\"dataframe\">\n",
       "  <thead>\n",
       "    <tr style=\"text-align: right;\">\n",
       "      <th></th>\n",
       "      <th>index</th>\n",
       "      <th>cui_nodes</th>\n",
       "      <th>rxcui_nodes</th>\n",
       "      <th>label</th>\n",
       "    </tr>\n",
       "  </thead>\n",
       "  <tbody>\n",
       "    <tr>\n",
       "      <th>0</th>\n",
       "      <td>10597</td>\n",
       "      <td>set(['C0282365', 'C2928823'])</td>\n",
       "      <td>set(['105183', '1007909', '1293456', '168479',...</td>\n",
       "      <td>\"Tilidine\"@en</td>\n",
       "    </tr>\n",
       "    <tr>\n",
       "      <th>1</th>\n",
       "      <td>10689</td>\n",
       "      <td>set(['C0787304', 'C3206743', 'C3206742', 'C131...</td>\n",
       "      <td>set(['', '1293451', '835604', '835605', '83560...</td>\n",
       "      <td>\"Tramadol\"@en</td>\n",
       "    </tr>\n",
       "    <tr>\n",
       "      <th>2</th>\n",
       "      <td>135095</td>\n",
       "      <td>set(['C0982958', 'C0792388', 'C0688399', 'C071...</td>\n",
       "      <td>set(['', '996991', '315266', '996994', '993780...</td>\n",
       "      <td>\"Aspirin / Codeine\"@en</td>\n",
       "    </tr>\n",
       "    <tr>\n",
       "      <th>3</th>\n",
       "      <td>1545902</td>\n",
       "      <td>set(['C2344804', 'C2954940', 'C4294579', 'C071...</td>\n",
       "      <td>set(['1545909', '1545903', '1545902', '1545907...</td>\n",
       "      <td>\"Naloxone / Oxycodone\"@en</td>\n",
       "    </tr>\n",
       "    <tr>\n",
       "      <th>4</th>\n",
       "      <td>1551777</td>\n",
       "      <td>set(['C3859650', 'C3857236', 'C3858216', 'C385...</td>\n",
       "      <td>set(['1551777', '1601372', '1551779', '1551780...</td>\n",
       "      <td>\"naloxegol\"@en</td>\n",
       "    </tr>\n",
       "    <tr>\n",
       "      <th>5</th>\n",
       "      <td>17933</td>\n",
       "      <td>set(['C0770427'])</td>\n",
       "      <td>set(['235413', '17933'])</td>\n",
       "      <td>\"anileridine\"@en</td>\n",
       "    </tr>\n",
       "    <tr>\n",
       "      <th>6</th>\n",
       "      <td>1806700</td>\n",
       "      <td>set(['C2344804', 'C2954940', 'C4294578', 'C429...</td>\n",
       "      <td>set(['1545909', '1860151', '1545903', '1545907...</td>\n",
       "      <td>\"Naltrexone / Oxycodone\"@en</td>\n",
       "    </tr>\n",
       "    <tr>\n",
       "      <th>7</th>\n",
       "      <td>1819</td>\n",
       "      <td>set(['C3834489', 'C3467613', 'C3709966', 'C365...</td>\n",
       "      <td>set(['1544849', '1010608', '353391', '353390',...</td>\n",
       "      <td>\"Buprenorphine\"@en</td>\n",
       "    </tr>\n",
       "    <tr>\n",
       "      <th>8</th>\n",
       "      <td>1841</td>\n",
       "      <td>set(['C4073610', 'C4048621', 'C1248690', 'C381...</td>\n",
       "      <td>set(['1489987', '83373', '1809203', '371174', ...</td>\n",
       "      <td>\"Butorphanol\"@en</td>\n",
       "    </tr>\n",
       "    <tr>\n",
       "      <th>9</th>\n",
       "      <td>22713</td>\n",
       "      <td>set(['C1245817', 'C3212717', 'C0777940', 'C098...</td>\n",
       "      <td>set(['1098651', '315791', '315793', '315792', ...</td>\n",
       "      <td>\"dezocine\"@en</td>\n",
       "    </tr>\n",
       "    <tr>\n",
       "      <th>10</th>\n",
       "      <td>23088</td>\n",
       "      <td>set(['C3208000', 'C1329999', 'C0792323', 'C160...</td>\n",
       "      <td>set(['1236184', '1236185', '370763', '1236187'...</td>\n",
       "      <td>\"dihydrocodeine\"@en</td>\n",
       "    </tr>\n",
       "    <tr>\n",
       "      <th>11</th>\n",
       "      <td>236913</td>\n",
       "      <td>set(['C0772242'])</td>\n",
       "      <td>set(['236913', '236914'])</td>\n",
       "      <td>\"LEVOMETHADONE\"@en</td>\n",
       "    </tr>\n",
       "    <tr>\n",
       "      <th>12</th>\n",
       "      <td>2670</td>\n",
       "      <td>set(['C0723396', 'C2609578', 'C0719262', 'C097...</td>\n",
       "      <td>set(['', '994404', '996773', '996775', '100817...</td>\n",
       "      <td>\"Codeine\"@en</td>\n",
       "    </tr>\n",
       "    <tr>\n",
       "      <th>13</th>\n",
       "      <td>28863</td>\n",
       "      <td>set(['C3218140', 'C3218143', 'C0771049', 'C113...</td>\n",
       "      <td>set(['335165', '1163846', '105076', '372627', ...</td>\n",
       "      <td>\"lofexidine\"@en</td>\n",
       "    </tr>\n",
       "    <tr>\n",
       "      <th>14</th>\n",
       "      <td>32009</td>\n",
       "      <td>set(['C2929235'])</td>\n",
       "      <td>set(['1008330', '805008', '32009'])</td>\n",
       "      <td>\"normethadone\"@en</td>\n",
       "    </tr>\n",
       "    <tr>\n",
       "      <th>15</th>\n",
       "      <td>3289</td>\n",
       "      <td>set(['C3232698', 'C3232699', 'C3209372', 'C315...</td>\n",
       "      <td>set(['1426334', '1009091', '1050353', '1050352...</td>\n",
       "      <td>\"Dextromethorphan\"@en</td>\n",
       "    </tr>\n",
       "    <tr>\n",
       "      <th>16</th>\n",
       "      <td>3290</td>\n",
       "      <td>set(['C1129349', 'C1245813', 'C1128712', 'C320...</td>\n",
       "      <td>set(['104959', '237879', '250880', '318248', '...</td>\n",
       "      <td>\"Dextromoramide\"@en</td>\n",
       "    </tr>\n",
       "    <tr>\n",
       "      <th>17</th>\n",
       "      <td>3304</td>\n",
       "      <td>set(['C1245820', 'C1305987', 'C1305986', 'C079...</td>\n",
       "      <td>set(['1160339', '791554', '1160890', '1397904'...</td>\n",
       "      <td>\"Heroin\"@en</td>\n",
       "    </tr>\n",
       "    <tr>\n",
       "      <th>18</th>\n",
       "      <td>33431</td>\n",
       "      <td>set(['C0792573', 'C1247507', 'C2929657', 'C292...</td>\n",
       "      <td>set(['1008758', '1008759', '816721', '830884',...</td>\n",
       "      <td>\"pholcodine\"@en</td>\n",
       "    </tr>\n",
       "    <tr>\n",
       "      <th>19</th>\n",
       "      <td>3423</td>\n",
       "      <td>set(['C2740107', 'C2740105', 'C2740104', 'C274...</td>\n",
       "      <td>set(['1724341', '902738', '902737', '902736', ...</td>\n",
       "      <td>\"Hydromorphone\"@en</td>\n",
       "    </tr>\n",
       "    <tr>\n",
       "      <th>20</th>\n",
       "      <td>352362</td>\n",
       "      <td>set(['C2920936', 'C0709562', 'C0980777', 'C261...</td>\n",
       "      <td>set(['', '315259', '849903', '836408', '835604...</td>\n",
       "      <td>\"Acetaminophen / Tramadol\"@en</td>\n",
       "    </tr>\n",
       "    <tr>\n",
       "      <th>21</th>\n",
       "      <td>4166</td>\n",
       "      <td>set(['C2928208', 'C0770954', 'C2057529', 'C292...</td>\n",
       "      <td>set(['142424', '4166', '198864', '235782', '10...</td>\n",
       "      <td>\"Ethylmorphine\"@en</td>\n",
       "    </tr>\n",
       "    <tr>\n",
       "      <th>22</th>\n",
       "      <td>4337</td>\n",
       "      <td>set(['C1592382', 'C2961836', 'C0546864', 'C071...</td>\n",
       "      <td>set(['562462', '262219', '1296074', '1295170',...</td>\n",
       "      <td>\"Fentanyl\"@en</td>\n",
       "    </tr>\n",
       "    <tr>\n",
       "      <th>23</th>\n",
       "      <td>480</td>\n",
       "      <td>set(['C3209090', 'C0700562', 'C1186851', 'C405...</td>\n",
       "      <td>set(['211171', '1175508', '1723220', '1723221'...</td>\n",
       "      <td>\"Alfentanil\"@en</td>\n",
       "    </tr>\n",
       "    <tr>\n",
       "      <th>24</th>\n",
       "      <td>480639</td>\n",
       "      <td>set(['C2698078', 'C2344823', 'C2344824', 'C234...</td>\n",
       "      <td>set(['480639', '801731', '801730', '1166441', ...</td>\n",
       "      <td>\"alvimopan\"@en</td>\n",
       "    </tr>\n",
       "    <tr>\n",
       "      <th>25</th>\n",
       "      <td>484259</td>\n",
       "      <td>set(['C2954944', 'C4050802', 'C0713029', 'C405...</td>\n",
       "      <td>set(['', '1113313', '1049696', '1944541', '194...</td>\n",
       "      <td>\"Ibuprofen / Oxycodone\"@en</td>\n",
       "    </tr>\n",
       "    <tr>\n",
       "      <th>26</th>\n",
       "      <td>5489</td>\n",
       "      <td>set(['C3220795', 'C0546868', 'C1735424', 'C346...</td>\n",
       "      <td>set(['1595758', '1158563', '1595752', '859383'...</td>\n",
       "      <td>\"Hydrocodone\"@en</td>\n",
       "    </tr>\n",
       "    <tr>\n",
       "      <th>27</th>\n",
       "      <td>56795</td>\n",
       "      <td>set(['C0162792', 'C3216653', 'C4283241', 'C112...</td>\n",
       "      <td>set(['1809102', '1809104', '56795', '1809096',...</td>\n",
       "      <td>\"Sufentanil\"@en</td>\n",
       "    </tr>\n",
       "    <tr>\n",
       "      <th>28</th>\n",
       "      <td>6754</td>\n",
       "      <td>set(['C0717912', 'C1639501', 'C4048514', 'C271...</td>\n",
       "      <td>set(['861458', '861459', '861493', '282381', '...</td>\n",
       "      <td>\"Meperidine\"@en</td>\n",
       "    </tr>\n",
       "    <tr>\n",
       "      <th>29</th>\n",
       "      <td>6761</td>\n",
       "      <td>set(['C0793218', 'C0043281', 'C0358404', 'C124...</td>\n",
       "      <td>set(['376253', '372779', '251210', '213190', '...</td>\n",
       "      <td>\"Meptazinol\"@en</td>\n",
       "    </tr>\n",
       "    <tr>\n",
       "      <th>30</th>\n",
       "      <td>6813</td>\n",
       "      <td>set(['C0981584', 'C1134431', 'C0708063', 'C079...</td>\n",
       "      <td>set(['1990743', '1990742', '1990741', '1990745...</td>\n",
       "      <td>\"Methadone\"@en</td>\n",
       "    </tr>\n",
       "    <tr>\n",
       "      <th>31</th>\n",
       "      <td>7052</td>\n",
       "      <td>set(['C2730247', 'C2920421', 'C0066814', 'C273...</td>\n",
       "      <td>set(['863852', '895185', '863850', '863851', '...</td>\n",
       "      <td>\"Morphine\"@en</td>\n",
       "    </tr>\n",
       "    <tr>\n",
       "      <th>32</th>\n",
       "      <td>710303</td>\n",
       "      <td>set(['C0982958', 'C2920036', 'C0975852', 'C224...</td>\n",
       "      <td>set(['', '996718', '996719', '996712', '996710...</td>\n",
       "      <td>\"Codeine / Ibuprofen\"@en</td>\n",
       "    </tr>\n",
       "    <tr>\n",
       "      <th>33</th>\n",
       "      <td>7238</td>\n",
       "      <td>set(['C4282298', 'C4282291', 'C4307263', 'C124...</td>\n",
       "      <td>set(['1866543', '1866551', '904440', '904439',...</td>\n",
       "      <td>\"Nalbuphine\"@en</td>\n",
       "    </tr>\n",
       "    <tr>\n",
       "      <th>34</th>\n",
       "      <td>7242</td>\n",
       "      <td>set(['C3834489', 'C0358450', 'C3467613', 'C271...</td>\n",
       "      <td>set(['1010609', '1010608', '1545909', '353392'...</td>\n",
       "      <td>\"Naloxone\"@en</td>\n",
       "    </tr>\n",
       "    <tr>\n",
       "      <th>35</th>\n",
       "      <td>73032</td>\n",
       "      <td>set(['C4074468', 'C4074644', 'C3241431', 'C404...</td>\n",
       "      <td>set(['1729709', '1729710', '1187691', '153379'...</td>\n",
       "      <td>\"remifentanil\"@en</td>\n",
       "    </tr>\n",
       "    <tr>\n",
       "      <th>36</th>\n",
       "      <td>7533</td>\n",
       "      <td>set(['C3214786', 'C3214785', 'C2928891', 'C292...</td>\n",
       "      <td>set(['814051', '1160416', '393211', '1007979',...</td>\n",
       "      <td>\"Noscapine\"@en</td>\n",
       "    </tr>\n",
       "    <tr>\n",
       "      <th>37</th>\n",
       "      <td>7676</td>\n",
       "      <td>set(['C2929195', 'C0988280', 'C0724655', 'C321...</td>\n",
       "      <td>set(['1161039', '316409', '215597', '312104', ...</td>\n",
       "      <td>\"Opium\"@en</td>\n",
       "    </tr>\n",
       "    <tr>\n",
       "      <th>38</th>\n",
       "      <td>7804</td>\n",
       "      <td>set(['C2954944', 'C1238658', 'C3709400', 'C295...</td>\n",
       "      <td>set(['', '370158', '825243', '373196', '373195...</td>\n",
       "      <td>\"Oxycodone\"@en</td>\n",
       "    </tr>\n",
       "    <tr>\n",
       "      <th>39</th>\n",
       "      <td>787390</td>\n",
       "      <td>set(['C2369306', 'C3504617', 'C3504618', 'C350...</td>\n",
       "      <td>set(['854137', '1178797', '825409', '825408', ...</td>\n",
       "      <td>\"tapentadol\"@en</td>\n",
       "    </tr>\n",
       "    <tr>\n",
       "      <th>40</th>\n",
       "      <td>7894</td>\n",
       "      <td>set(['C1186852', 'C0795651', 'C1253751', 'C321...</td>\n",
       "      <td>set(['1164115', '1007585', '106507', '197726',...</td>\n",
       "      <td>\"Papaveretum\"@en</td>\n",
       "    </tr>\n",
       "    <tr>\n",
       "      <th>41</th>\n",
       "      <td>8001</td>\n",
       "      <td>set(['C4283757', 'C0693440', 'C1253694', 'C112...</td>\n",
       "      <td>set(['571791', '373273', '104973', '373276', '...</td>\n",
       "      <td>\"Pentazocine\"@en</td>\n",
       "    </tr>\n",
       "    <tr>\n",
       "      <th>42</th>\n",
       "      <td>8119</td>\n",
       "      <td>set(['C0355603'])</td>\n",
       "      <td>set(['104979', '1307265', '1144545', '8119'])</td>\n",
       "      <td>\"Phenazocine\"@en</td>\n",
       "    </tr>\n",
       "    <tr>\n",
       "      <th>43</th>\n",
       "      <td>8143</td>\n",
       "      <td>set(['C0358411'])</td>\n",
       "      <td>set(['1141129', '106508', '763296', '198660', ...</td>\n",
       "      <td>\"Phenoperidine\"@en</td>\n",
       "    </tr>\n",
       "    <tr>\n",
       "      <th>44</th>\n",
       "      <td>817579</td>\n",
       "      <td>set(['C1948263', 'C0982958', 'C0792388', 'C068...</td>\n",
       "      <td>set(['', '996991', '993767', '996994', '993780...</td>\n",
       "      <td>\"Acetaminophen / Codeine\"@en</td>\n",
       "    </tr>\n",
       "    <tr>\n",
       "      <th>45</th>\n",
       "      <td>8354</td>\n",
       "      <td>set([])</td>\n",
       "      <td>set(['313566', '8354', '284587', '1650696'])</td>\n",
       "      <td>\"Pirinitramide\"@en</td>\n",
       "    </tr>\n",
       "    <tr>\n",
       "      <th>46</th>\n",
       "      <td>8785</td>\n",
       "      <td>set(['C2370359', 'C2370700', 'C0305808', 'C124...</td>\n",
       "      <td>set(['849294', '1168815', '1151926', '1151927'...</td>\n",
       "      <td>\"Propoxyphene\"@en</td>\n",
       "    </tr>\n",
       "    <tr>\n",
       "      <th>47</th>\n",
       "      <td>979111</td>\n",
       "      <td>set(['C4276249', 'C3234561', 'C4275539', 'C427...</td>\n",
       "      <td>set(['1244061', '1156739', '979115', '979114',...</td>\n",
       "      <td>\"Methylnaltrexone bromide\"@en</td>\n",
       "    </tr>\n",
       "  </tbody>\n",
       "</table>\n",
       "</div>"
      ],
      "text/plain": [
       "      index                                          cui_nodes                                        rxcui_nodes                          label\n",
       "0     10597                      set(['C0282365', 'C2928823'])  set(['105183', '1007909', '1293456', '168479',...                  \"Tilidine\"@en\n",
       "1     10689  set(['C0787304', 'C3206743', 'C3206742', 'C131...  set(['', '1293451', '835604', '835605', '83560...                  \"Tramadol\"@en\n",
       "2    135095  set(['C0982958', 'C0792388', 'C0688399', 'C071...  set(['', '996991', '315266', '996994', '993780...         \"Aspirin / Codeine\"@en\n",
       "3   1545902  set(['C2344804', 'C2954940', 'C4294579', 'C071...  set(['1545909', '1545903', '1545902', '1545907...      \"Naloxone / Oxycodone\"@en\n",
       "4   1551777  set(['C3859650', 'C3857236', 'C3858216', 'C385...  set(['1551777', '1601372', '1551779', '1551780...                 \"naloxegol\"@en\n",
       "5     17933                                  set(['C0770427'])                           set(['235413', '17933'])               \"anileridine\"@en\n",
       "6   1806700  set(['C2344804', 'C2954940', 'C4294578', 'C429...  set(['1545909', '1860151', '1545903', '1545907...    \"Naltrexone / Oxycodone\"@en\n",
       "7      1819  set(['C3834489', 'C3467613', 'C3709966', 'C365...  set(['1544849', '1010608', '353391', '353390',...             \"Buprenorphine\"@en\n",
       "8      1841  set(['C4073610', 'C4048621', 'C1248690', 'C381...  set(['1489987', '83373', '1809203', '371174', ...               \"Butorphanol\"@en\n",
       "9     22713  set(['C1245817', 'C3212717', 'C0777940', 'C098...  set(['1098651', '315791', '315793', '315792', ...                  \"dezocine\"@en\n",
       "10    23088  set(['C3208000', 'C1329999', 'C0792323', 'C160...  set(['1236184', '1236185', '370763', '1236187'...            \"dihydrocodeine\"@en\n",
       "11   236913                                  set(['C0772242'])                          set(['236913', '236914'])             \"LEVOMETHADONE\"@en\n",
       "12     2670  set(['C0723396', 'C2609578', 'C0719262', 'C097...  set(['', '994404', '996773', '996775', '100817...                   \"Codeine\"@en\n",
       "13    28863  set(['C3218140', 'C3218143', 'C0771049', 'C113...  set(['335165', '1163846', '105076', '372627', ...                \"lofexidine\"@en\n",
       "14    32009                                  set(['C2929235'])                set(['1008330', '805008', '32009'])              \"normethadone\"@en\n",
       "15     3289  set(['C3232698', 'C3232699', 'C3209372', 'C315...  set(['1426334', '1009091', '1050353', '1050352...          \"Dextromethorphan\"@en\n",
       "16     3290  set(['C1129349', 'C1245813', 'C1128712', 'C320...  set(['104959', '237879', '250880', '318248', '...            \"Dextromoramide\"@en\n",
       "17     3304  set(['C1245820', 'C1305987', 'C1305986', 'C079...  set(['1160339', '791554', '1160890', '1397904'...                    \"Heroin\"@en\n",
       "18    33431  set(['C0792573', 'C1247507', 'C2929657', 'C292...  set(['1008758', '1008759', '816721', '830884',...                \"pholcodine\"@en\n",
       "19     3423  set(['C2740107', 'C2740105', 'C2740104', 'C274...  set(['1724341', '902738', '902737', '902736', ...             \"Hydromorphone\"@en\n",
       "20   352362  set(['C2920936', 'C0709562', 'C0980777', 'C261...  set(['', '315259', '849903', '836408', '835604...  \"Acetaminophen / Tramadol\"@en\n",
       "21     4166  set(['C2928208', 'C0770954', 'C2057529', 'C292...  set(['142424', '4166', '198864', '235782', '10...             \"Ethylmorphine\"@en\n",
       "22     4337  set(['C1592382', 'C2961836', 'C0546864', 'C071...  set(['562462', '262219', '1296074', '1295170',...                  \"Fentanyl\"@en\n",
       "23      480  set(['C3209090', 'C0700562', 'C1186851', 'C405...  set(['211171', '1175508', '1723220', '1723221'...                \"Alfentanil\"@en\n",
       "24   480639  set(['C2698078', 'C2344823', 'C2344824', 'C234...  set(['480639', '801731', '801730', '1166441', ...                 \"alvimopan\"@en\n",
       "25   484259  set(['C2954944', 'C4050802', 'C0713029', 'C405...  set(['', '1113313', '1049696', '1944541', '194...     \"Ibuprofen / Oxycodone\"@en\n",
       "26     5489  set(['C3220795', 'C0546868', 'C1735424', 'C346...  set(['1595758', '1158563', '1595752', '859383'...               \"Hydrocodone\"@en\n",
       "27    56795  set(['C0162792', 'C3216653', 'C4283241', 'C112...  set(['1809102', '1809104', '56795', '1809096',...                \"Sufentanil\"@en\n",
       "28     6754  set(['C0717912', 'C1639501', 'C4048514', 'C271...  set(['861458', '861459', '861493', '282381', '...                \"Meperidine\"@en\n",
       "29     6761  set(['C0793218', 'C0043281', 'C0358404', 'C124...  set(['376253', '372779', '251210', '213190', '...                \"Meptazinol\"@en\n",
       "30     6813  set(['C0981584', 'C1134431', 'C0708063', 'C079...  set(['1990743', '1990742', '1990741', '1990745...                 \"Methadone\"@en\n",
       "31     7052  set(['C2730247', 'C2920421', 'C0066814', 'C273...  set(['863852', '895185', '863850', '863851', '...                  \"Morphine\"@en\n",
       "32   710303  set(['C0982958', 'C2920036', 'C0975852', 'C224...  set(['', '996718', '996719', '996712', '996710...       \"Codeine / Ibuprofen\"@en\n",
       "33     7238  set(['C4282298', 'C4282291', 'C4307263', 'C124...  set(['1866543', '1866551', '904440', '904439',...                \"Nalbuphine\"@en\n",
       "34     7242  set(['C3834489', 'C0358450', 'C3467613', 'C271...  set(['1010609', '1010608', '1545909', '353392'...                  \"Naloxone\"@en\n",
       "35    73032  set(['C4074468', 'C4074644', 'C3241431', 'C404...  set(['1729709', '1729710', '1187691', '153379'...              \"remifentanil\"@en\n",
       "36     7533  set(['C3214786', 'C3214785', 'C2928891', 'C292...  set(['814051', '1160416', '393211', '1007979',...                 \"Noscapine\"@en\n",
       "37     7676  set(['C2929195', 'C0988280', 'C0724655', 'C321...  set(['1161039', '316409', '215597', '312104', ...                     \"Opium\"@en\n",
       "38     7804  set(['C2954944', 'C1238658', 'C3709400', 'C295...  set(['', '370158', '825243', '373196', '373195...                 \"Oxycodone\"@en\n",
       "39   787390  set(['C2369306', 'C3504617', 'C3504618', 'C350...  set(['854137', '1178797', '825409', '825408', ...                \"tapentadol\"@en\n",
       "40     7894  set(['C1186852', 'C0795651', 'C1253751', 'C321...  set(['1164115', '1007585', '106507', '197726',...               \"Papaveretum\"@en\n",
       "41     8001  set(['C4283757', 'C0693440', 'C1253694', 'C112...  set(['571791', '373273', '104973', '373276', '...               \"Pentazocine\"@en\n",
       "42     8119                                  set(['C0355603'])      set(['104979', '1307265', '1144545', '8119'])               \"Phenazocine\"@en\n",
       "43     8143                                  set(['C0358411'])  set(['1141129', '106508', '763296', '198660', ...             \"Phenoperidine\"@en\n",
       "44   817579  set(['C1948263', 'C0982958', 'C0792388', 'C068...  set(['', '996991', '993767', '996994', '993780...   \"Acetaminophen / Codeine\"@en\n",
       "45     8354                                            set([])       set(['313566', '8354', '284587', '1650696'])             \"Pirinitramide\"@en\n",
       "46     8785  set(['C2370359', 'C2370700', 'C0305808', 'C124...  set(['849294', '1168815', '1151926', '1151927'...              \"Propoxyphene\"@en\n",
       "47   979111  set(['C4276249', 'C3234561', 'C4275539', 'C427...  set(['1244061', '1156739', '979115', '979114',...  \"Methylnaltrexone bromide\"@en"
      ]
     },
     "execution_count": 54,
     "metadata": {},
     "output_type": "execute_result"
    }
   ],
   "source": [
    "#file generated in the Static drug network ipython notebook\n",
    "#@TODO: Update with new Rxnorm Mapper file since this one does not have \"Codeine\" Generic Drug in it!\n",
    "rxnorm_mapper = pd.read_csv(\"rxnorm_mapper_wcod.tsv\", sep=\"\\t\")\n",
    "rxnorm_mapper.head(48)"
   ]
  },
  {
   "cell_type": "code",
   "execution_count": 55,
   "metadata": {
    "collapsed": true
   },
   "outputs": [],
   "source": [
    "rxnorm_mapper = rxnorm_mapper.set_index(\"index\")\n",
    "rxnorm_mapper = rxnorm_mapper.to_dict(orient=\"index\")"
   ]
  },
  {
   "cell_type": "code",
   "execution_count": null,
   "metadata": {
    "collapsed": true
   },
   "outputs": [],
   "source": [
    "#the following combinations are included --- \n",
    "#\"Acetaminophen / Codeine\"@en - 817579\n",
    "#\"Codeine / Ibuprofen\"@en - 710303\n",
    "#\"Ibuprofen / Oxycodone\"@en - 484259\n",
    "#\"Acetaminophen / Tramadol\"@en - 352362\n",
    "#\"Naltrexone / Oxycodone\"@en - 1806700\n",
    "#\"Naloxone / Oxycodone\"@en - 1545902\n",
    "#\"Aspirin / Codeine\"@en - 135095"
   ]
  },
  {
   "cell_type": "code",
   "execution_count": 60,
   "metadata": {
    "collapsed": true
   },
   "outputs": [],
   "source": [
    "charge_mapper = {}\n",
    "for n in aG.nodes():\n",
    "    if aG.node[n][\"ntype\"] == \"drugstr\":\n",
    "        rxCuis = [k for k in aG[n] if aG[n][k][\"etype\"] == \"rxcuiedge\"]\n",
    "        cuis = [k for k in aG[n] if aG[n][k][\"etype\"] == \"cuiedge\"]\n",
    "        for a in aG.node[n][\"charge_ids\"]:\n",
    "            charge_mapper[a] = {\"rxcuis\": rxCuis, \"cuis\": cuis}"
   ]
  },
  {
   "cell_type": "code",
   "execution_count": 61,
   "metadata": {
    "collapsed": false
   },
   "outputs": [
    {
     "name": "stdout",
     "output_type": "stream",
     "text": [
      "1564811\n"
     ]
    }
   ],
   "source": [
    "print (len(charge_mapper))"
   ]
  },
  {
   "cell_type": "code",
   "execution_count": 62,
   "metadata": {
    "collapsed": false
   },
   "outputs": [
    {
     "name": "stdout",
     "output_type": "stream",
     "text": [
      "25165824 {'rxcuis': ['228396'], 'cuis': ['C0753357']}\n",
      "8388612 {'rxcuis': [], 'cuis': []}\n",
      "25165840 {'rxcuis': ['1313111'], 'cuis': []}\n",
      "25165852 {'rxcuis': ['8691'], 'cuis': ['C0033148']}\n",
      "35 {'rxcuis': ['1049615'], 'cuis': []}\n",
      "8388651 {'rxcuis': ['328682'], 'cuis': ['C1123644']}\n",
      "8388652 {'rxcuis': ['328682'], 'cuis': ['C1123644']}\n",
      "14106131 {'rxcuis': ['358819'], 'cuis': ['C1176960']}\n",
      "49 {'rxcuis': ['197604'], 'cuis': []}\n",
      "25165874 {'rxcuis': ['6902', '707702'], 'cuis': ['C0025815']}\n"
     ]
    }
   ],
   "source": [
    "for k in list(charge_mapper.keys())[0:10]:\n",
    "    print (k, charge_mapper[k])"
   ]
  },
  {
   "cell_type": "markdown",
   "metadata": {},
   "source": [
    "#### --------------------------------\n",
    "#### Generating and Saving two Big Query tables that map Charge Ids to CUI Ids and Charge IDS to RxCUI Ids\n",
    "#### This is done for future use\n",
    "#### --------------------------------"
   ]
  },
  {
   "cell_type": "code",
   "execution_count": 63,
   "metadata": {
    "collapsed": true
   },
   "outputs": [],
   "source": [
    "cid_rxcui = {}\n",
    "cid_cui = {}\n",
    "ccount1 = 0\n",
    "ccount2 = 0\n",
    "for k in charge_mapper:\n",
    "    for m in charge_mapper[k][\"rxcuis\"]:\n",
    "        cid_rxcui[ccount1] = {\"cid\": k, \"rxcui\": m}\n",
    "        ccount1 += 1\n",
    "    for m in charge_mapper[k][\"cuis\"]:\n",
    "        cid_cui[ccount2] = {\"cid\": k, \"cui\": m}\n",
    "        ccount2 += 1\n",
    "cid_rxcui_df = pd.DataFrame.from_dict(cid_rxcui, orient=\"index\")\n",
    "cid_cui_df = pd.DataFrame.from_dict(cid_cui, orient=\"index\")"
   ]
  },
  {
   "cell_type": "code",
   "execution_count": 64,
   "metadata": {
    "collapsed": false
   },
   "outputs": [
    {
     "data": {
      "text/plain": [
       "((1680032, 2), (1246547, 2))"
      ]
     },
     "execution_count": 64,
     "metadata": {},
     "output_type": "execute_result"
    }
   ],
   "source": [
    "cid_rxcui_df.shape, cid_cui_df.shape"
   ]
  },
  {
   "cell_type": "code",
   "execution_count": 105,
   "metadata": {
    "collapsed": false
   },
   "outputs": [
    {
     "name": "stderr",
     "output_type": "stream",
     "text": [
      "/home/maulikrk/anaconda3/lib/python3.5/site-packages/pandas_gbq/gbq.py:969: FutureWarning: verbose is deprecated and will be removed in a future version. Set logging level in order to vary verbosity\n",
      "  stacklevel=1,\n",
      "169it [10:32,  3.95s/it]\n"
     ]
    }
   ],
   "source": [
    "cid_rxcui_df.to_gbq(\"data.charge_id_to_rxcui\", \"bds-opioid\", chunksize=10000, verbose=True, \n",
    "                         reauth=False, if_exists='replace', private_key=None)"
   ]
  },
  {
   "cell_type": "code",
   "execution_count": 106,
   "metadata": {
    "collapsed": false
   },
   "outputs": [
    {
     "name": "stderr",
     "output_type": "stream",
     "text": [
      "125it [07:45,  3.82s/it]\n"
     ]
    }
   ],
   "source": [
    "cid_cui_df.to_gbq(\"data.charge_id_to_cui\", \"bds-opioid\", chunksize=10000, verbose=True, \n",
    "                         reauth=False, if_exists='replace', private_key=None)"
   ]
  },
  {
   "cell_type": "markdown",
   "metadata": {
    "collapsed": true
   },
   "source": [
    "#### --------------------------------\n",
    "#### Normalize Charge IDs to one of the ~40 Generic RxCUIs\n",
    "#### --------------------------------"
   ]
  },
  {
   "cell_type": "code",
   "execution_count": 65,
   "metadata": {
    "collapsed": false
   },
   "outputs": [
    {
     "name": "stdout",
     "output_type": "stream",
     "text": [
      "4956\n",
      "5188\n"
     ]
    }
   ],
   "source": [
    "rxcui_reverse_lookup = {}\n",
    "cui_reverse_lookup = {}\n",
    "for k in rxnorm_mapper:\n",
    "    cui_nodes = eval(rxnorm_mapper[k][\"cui_nodes\"])\n",
    "    rxcui_nodes = eval(rxnorm_mapper[k][\"rxcui_nodes\"])\n",
    "    for m in cui_nodes:\n",
    "        if not m in cui_reverse_lookup: cui_reverse_lookup[m] = []\n",
    "        cui_reverse_lookup[m].append(k)\n",
    "    for m in rxcui_nodes:\n",
    "        if not m in rxcui_reverse_lookup: rxcui_reverse_lookup[m] = []\n",
    "        rxcui_reverse_lookup[m].append(k)\n",
    "print (len(cui_reverse_lookup))\n",
    "print (len(rxcui_reverse_lookup))"
   ]
  },
  {
   "cell_type": "code",
   "execution_count": 66,
   "metadata": {
    "collapsed": true
   },
   "outputs": [],
   "source": [
    "charge_generic_mapper = {}\n",
    "for k in charge_mapper:\n",
    "    charge_generic_mapper[k] = set([])\n",
    "    for m in charge_mapper[k][\"rxcuis\"]: \n",
    "        if m in rxcui_reverse_lookup: \n",
    "            charge_generic_mapper[k] = charge_generic_mapper[k].union(set(rxcui_reverse_lookup[m]))\n",
    "    for m in charge_mapper[k][\"cuis\"]:\n",
    "        if m in cui_reverse_lookup:\n",
    "            charge_generic_mapper[k] = charge_generic_mapper[k].union(set(cui_reverse_lookup[m]))"
   ]
  },
  {
   "cell_type": "code",
   "execution_count": 67,
   "metadata": {
    "collapsed": true
   },
   "outputs": [],
   "source": [
    "#remove those charge ids with no Opioid-related generic RxCUIs\n",
    "for k in list(charge_generic_mapper.keys()):\n",
    "    if len(charge_generic_mapper[k]) == 0: del charge_generic_mapper[k]"
   ]
  },
  {
   "cell_type": "code",
   "execution_count": 68,
   "metadata": {
    "collapsed": false
   },
   "outputs": [
    {
     "name": "stdout",
     "output_type": "stream",
     "text": [
      "54737\n"
     ]
    }
   ],
   "source": [
    "print (len(charge_generic_mapper))"
   ]
  },
  {
   "cell_type": "code",
   "execution_count": 69,
   "metadata": {
    "collapsed": false
   },
   "outputs": [
    {
     "name": "stdout",
     "output_type": "stream",
     "text": [
      "35 {7804}\n",
      "25166019 {4337}\n",
      "9087695 {10689}\n",
      "766 {4337}\n",
      "767 {4337}\n",
      "25166654 {7804}\n",
      "4748626 {8001}\n",
      "25166977 {7052}\n",
      "1295 {7052}\n",
      "29361506 {7052}\n"
     ]
    }
   ],
   "source": [
    "for k in list(charge_generic_mapper.keys())[0:10]:\n",
    "    print (k, charge_generic_mapper[k])"
   ]
  },
  {
   "cell_type": "code",
   "execution_count": 70,
   "metadata": {
    "collapsed": true
   },
   "outputs": [],
   "source": [
    "# group Charge IDs according to Generic CUIs ... maybe more efficient for querying\n",
    "# Not sure if I did this before\n",
    "generic_cuis = {}\n",
    "for m in charge_generic_mapper:\n",
    "    for k in charge_generic_mapper[m]:\n",
    "        if k not in generic_cuis: generic_cuis[k] = set([])\n",
    "    generic_cuis[k].add(m)"
   ]
  },
  {
   "cell_type": "code",
   "execution_count": 71,
   "metadata": {
    "collapsed": true
   },
   "outputs": [],
   "source": [
    "ap = sorted({k: len(generic_cuis[k]) for k in generic_cuis}.items(), reverse=True, key=operator.itemgetter(1))"
   ]
  },
  {
   "cell_type": "code",
   "execution_count": 72,
   "metadata": {
    "collapsed": true
   },
   "outputs": [],
   "source": [
    "xvals = []\n",
    "yvals = []\n",
    "for k in ap:\n",
    "    xvals.append(rxnorm_mapper[k[0]][\"label\"][1:-4])\n",
    "    yvals.append(k[1])"
   ]
  },
  {
   "cell_type": "code",
   "execution_count": 81,
   "metadata": {
    "collapsed": false
   },
   "outputs": [
    {
     "data": {
      "text/html": [
       "<div>\n",
       "<style scoped>\n",
       "    .dataframe tbody tr th:only-of-type {\n",
       "        vertical-align: middle;\n",
       "    }\n",
       "\n",
       "    .dataframe tbody tr th {\n",
       "        vertical-align: top;\n",
       "    }\n",
       "\n",
       "    .dataframe thead th {\n",
       "        text-align: right;\n",
       "    }\n",
       "</style>\n",
       "<table border=\"1\" class=\"dataframe\">\n",
       "  <thead>\n",
       "    <tr style=\"text-align: right;\">\n",
       "      <th></th>\n",
       "      <th>0</th>\n",
       "      <th>1</th>\n",
       "    </tr>\n",
       "  </thead>\n",
       "  <tbody>\n",
       "    <tr>\n",
       "      <th>0</th>\n",
       "      <td>Morphine</td>\n",
       "      <td>9706</td>\n",
       "    </tr>\n",
       "    <tr>\n",
       "      <th>1</th>\n",
       "      <td>Fentanyl</td>\n",
       "      <td>6721</td>\n",
       "    </tr>\n",
       "    <tr>\n",
       "      <th>2</th>\n",
       "      <td>Hydromorphone</td>\n",
       "      <td>6252</td>\n",
       "    </tr>\n",
       "    <tr>\n",
       "      <th>3</th>\n",
       "      <td>Oxycodone</td>\n",
       "      <td>4111</td>\n",
       "    </tr>\n",
       "    <tr>\n",
       "      <th>4</th>\n",
       "      <td>Hydrocodone</td>\n",
       "      <td>4000</td>\n",
       "    </tr>\n",
       "  </tbody>\n",
       "</table>\n",
       "</div>"
      ],
      "text/plain": [
       "               0     1\n",
       "0       Morphine  9706\n",
       "1       Fentanyl  6721\n",
       "2  Hydromorphone  6252\n",
       "3      Oxycodone  4111\n",
       "4    Hydrocodone  4000"
      ]
     },
     "execution_count": 81,
     "metadata": {},
     "output_type": "execute_result"
    }
   ],
   "source": [
    "_mcount = pd.concat([pd.Series(xvals), pd.Series(yvals)], axis=1)\n",
    "_mcount = _mcount[_mcount[1] > 9]\n",
    "_mcount.to_csv(\"_mcount.tsv\", sep=\"\\t\", index=None)\n",
    "_mcount.head()"
   ]
  },
  {
   "cell_type": "code",
   "execution_count": 83,
   "metadata": {
    "collapsed": false
   },
   "outputs": [
    {
     "data": {
      "text/plain": [
       "(35, 2)"
      ]
     },
     "execution_count": 83,
     "metadata": {},
     "output_type": "execute_result"
    }
   ],
   "source": [
    "_mcount.shape"
   ]
  },
  {
   "cell_type": "code",
   "execution_count": 73,
   "metadata": {
    "collapsed": false
   },
   "outputs": [
    {
     "data": {
      "image/png": "[encoded data removed]",
      "text/plain": [
       "<Figure size 432x288 with 1 Axes>"
      ]
     },
     "metadata": {
      "needs_background": "light"
     },
     "output_type": "display_data"
    }
   ],
   "source": [
    "plt.bar(xvals, yvals)\n",
    "plt.plot(0, 10)\n",
    "plt.xticks(rotation=90)\n",
    "plt.yscale(\"Log\")\n",
    "plt.xlabel(\"Generic Opioid\", fontsize=16)\n",
    "plt.ylabel(\"Total Mapped Charge IDs\", fontsize=16)\n",
    "plt.plot([0, 35], [100, 100], 'k-', lw=2)\n",
    "plt.show()"
   ]
  },
  {
   "cell_type": "markdown",
   "metadata": {},
   "source": [
    "#### --------------------------------\n",
    "#### Generate Generic RxCUI x Zip Code Space Matrix \n",
    "#### --------------------------------"
   ]
  },
  {
   "cell_type": "code",
   "execution_count": 27,
   "metadata": {
    "collapsed": true
   },
   "outputs": [],
   "source": [
    "def _generate_space_matrix(gen_rxcui):\n",
    "    drug = re.sub(r'\\W+', '-', rxnorm_mapper[gen_rxcui][\"label\"][1:-4])\n",
    "    print (\"generating zip codes for\", drug)\n",
    "    q = \"SELECT Zip_code FROM `data.rxcui_zip` WHERE rxcui IN (\" + \",\".join([\"'\" + str(k) + \"'\" for k in list(eval(rxnorm_mapper[gen_rxcui][\"rxcui_nodes\"]))]) + \")\"\n",
    "    df = bq.Query(q).execute().result().to_dataframe()\n",
    "    print (\"retrieved zips:\", df.shape[0])\n",
    "    if df.shape[0] == 0: return None\n",
    "    _adf = df.groupby(\"Zip_code\").size().reset_index()\n",
    "    _adf.columns = [\"Zip_code\", \"number_occurrences\"]\n",
    "    _adf.to_csv(\"_zip_list/\" + drug + \".tsv\", sep=\"\\t\", index=None)"
   ]
  },
  {
   "cell_type": "code",
   "execution_count": 28,
   "metadata": {
    "collapsed": false,
    "scrolled": true
   },
   "outputs": [
    {
     "name": "stdout",
     "output_type": "stream",
     "text": [
      "10689 Tramadol\n",
      "generating zip codes for Tramadol\n",
      "retrieved zips: 4722210\n",
      "7804 Oxycodone\n",
      "generating zip codes for Oxycodone\n",
      "retrieved zips: 11284462\n",
      "7238 Nalbuphine\n",
      "generating zip codes for Nalbuphine\n",
      "retrieved zips: 395395\n",
      "8001 Pentazocine\n",
      "generating zip codes for Pentazocine\n",
      "retrieved zips: 6874\n",
      "73032 remifentanil\n",
      "generating zip codes for remifentanil\n",
      "retrieved zips: 106224\n",
      "7242 Naloxone\n",
      "generating zip codes for Naloxone\n",
      "retrieved zips: 1208237\n",
      "8119 Phenazocine\n",
      "generating zip codes for Phenazocine\n",
      "retrieved zips: 0\n",
      "7052 Morphine\n",
      "generating zip codes for Morphine\n",
      "retrieved zips: 11749731\n",
      "17933 anileridine\n",
      "generating zip codes for anileridine\n",
      "retrieved zips: 0\n",
      "979111 Methylnaltrexone bromide\n",
      "generating zip codes for Methylnaltrexone-bromide\n",
      "retrieved zips: 47485\n",
      "8143 Phenoperidine\n",
      "generating zip codes for Phenoperidine\n",
      "retrieved zips: 0\n",
      "8785 Propoxyphene\n",
      "generating zip codes for Propoxyphene\n",
      "retrieved zips: 196458\n",
      "8354 Pirinitramide\n",
      "generating zip codes for Pirinitramide\n",
      "retrieved zips: 165030\n",
      "7894 Papaveretum\n",
      "generating zip codes for Papaveretum\n",
      "retrieved zips: 1069\n",
      "3290 Dextromoramide\n",
      "generating zip codes for Dextromoramide\n",
      "retrieved zips: 25554\n",
      "1819 Buprenorphine\n",
      "generating zip codes for Buprenorphine\n",
      "retrieved zips: 129839\n",
      "710303 Codeine / Ibuprofen\n",
      "generating zip codes for Codeine-Ibuprofen\n",
      "retrieved zips: 45185\n",
      "6813 Methadone\n",
      "generating zip codes for Methadone\n",
      "retrieved zips: 1026280\n",
      "56795 Sufentanil\n",
      "generating zip codes for Sufentanil\n",
      "retrieved zips: 52134\n",
      "3423 Hydromorphone\n",
      "generating zip codes for Hydromorphone\n",
      "retrieved zips: 16234230\n",
      "480 Alfentanil\n",
      "generating zip codes for Alfentanil\n",
      "retrieved zips: 24867\n",
      "1551777 naloxegol\n",
      "generating zip codes for naloxegol\n",
      "retrieved zips: 0\n",
      "6754 Meperidine\n",
      "generating zip codes for Meperidine\n",
      "retrieved zips: 1595203\n",
      "484259 Ibuprofen / Oxycodone\n",
      "generating zip codes for Ibuprofen-Oxycodone\n",
      "retrieved zips: 1791538\n",
      "10597 Tilidine\n",
      "generating zip codes for Tilidine\n",
      "retrieved zips: 14\n"
     ]
    },
    {
     "ename": "ValueError",
     "evalue": "Length of passed values is 14, index implies 0",
     "output_type": "error",
     "traceback": [
      "\u001b[0;31m---------------------------------------------------------------------------\u001b[0m",
      "\u001b[0;31mValueError\u001b[0m                                Traceback (most recent call last)",
      "\u001b[0;32m<ipython-input-28-d0dfdf4d9f10>\u001b[0m in \u001b[0;36m<module>\u001b[0;34m\u001b[0m\n\u001b[1;32m      1\u001b[0m \u001b[0;32mfor\u001b[0m \u001b[0mk\u001b[0m \u001b[0;32min\u001b[0m \u001b[0mrxnorm_mapper\u001b[0m\u001b[0;34m:\u001b[0m\u001b[0;34m\u001b[0m\u001b[0m\n\u001b[1;32m      2\u001b[0m     \u001b[0mprint\u001b[0m \u001b[0;34m(\u001b[0m\u001b[0mk\u001b[0m\u001b[0;34m,\u001b[0m \u001b[0mrxnorm_mapper\u001b[0m\u001b[0;34m[\u001b[0m\u001b[0mk\u001b[0m\u001b[0;34m]\u001b[0m\u001b[0;34m[\u001b[0m\u001b[0;34m\"label\"\u001b[0m\u001b[0;34m]\u001b[0m\u001b[0;34m[\u001b[0m\u001b[0;36m1\u001b[0m\u001b[0;34m:\u001b[0m\u001b[0;34m-\u001b[0m\u001b[0;36m4\u001b[0m\u001b[0;34m]\u001b[0m\u001b[0;34m)\u001b[0m\u001b[0;34m\u001b[0m\u001b[0m\n\u001b[0;32m----> 3\u001b[0;31m     \u001b[0m_generate_space_matrix\u001b[0m\u001b[0;34m(\u001b[0m\u001b[0mk\u001b[0m\u001b[0;34m)\u001b[0m\u001b[0;34m\u001b[0m\u001b[0m\n\u001b[0m",
      "\u001b[0;32m<ipython-input-27-3f7d4ddecbf2>\u001b[0m in \u001b[0;36m_generate_space_matrix\u001b[0;34m(gen_rxcui)\u001b[0m\n\u001b[1;32m      6\u001b[0m     \u001b[0mprint\u001b[0m \u001b[0;34m(\u001b[0m\u001b[0;34m\"retrieved zips:\"\u001b[0m\u001b[0;34m,\u001b[0m \u001b[0mdf\u001b[0m\u001b[0;34m.\u001b[0m\u001b[0mshape\u001b[0m\u001b[0;34m[\u001b[0m\u001b[0;36m0\u001b[0m\u001b[0;34m]\u001b[0m\u001b[0;34m)\u001b[0m\u001b[0;34m\u001b[0m\u001b[0m\n\u001b[1;32m      7\u001b[0m     \u001b[0;32mif\u001b[0m \u001b[0mdf\u001b[0m\u001b[0;34m.\u001b[0m\u001b[0mshape\u001b[0m\u001b[0;34m[\u001b[0m\u001b[0;36m0\u001b[0m\u001b[0;34m]\u001b[0m \u001b[0;34m==\u001b[0m \u001b[0;36m0\u001b[0m\u001b[0;34m:\u001b[0m \u001b[0;32mreturn\u001b[0m \u001b[0;32mNone\u001b[0m\u001b[0;34m\u001b[0m\u001b[0m\n\u001b[0;32m----> 8\u001b[0;31m     \u001b[0m_adf\u001b[0m \u001b[0;34m=\u001b[0m \u001b[0mdf\u001b[0m\u001b[0;34m.\u001b[0m\u001b[0mgroupby\u001b[0m\u001b[0;34m(\u001b[0m\u001b[0;34m\"Zip_code\"\u001b[0m\u001b[0;34m)\u001b[0m\u001b[0;34m.\u001b[0m\u001b[0msize\u001b[0m\u001b[0;34m(\u001b[0m\u001b[0;34m)\u001b[0m\u001b[0;34m.\u001b[0m\u001b[0mreset_index\u001b[0m\u001b[0;34m(\u001b[0m\u001b[0;34m)\u001b[0m\u001b[0;34m\u001b[0m\u001b[0m\n\u001b[0m\u001b[1;32m      9\u001b[0m     \u001b[0m_adf\u001b[0m\u001b[0;34m.\u001b[0m\u001b[0mcolumns\u001b[0m \u001b[0;34m=\u001b[0m \u001b[0;34m[\u001b[0m\u001b[0;34m\"Zip_code\"\u001b[0m\u001b[0;34m,\u001b[0m \u001b[0;34m\"number_occurrences\"\u001b[0m\u001b[0;34m]\u001b[0m\u001b[0;34m\u001b[0m\u001b[0m\n\u001b[1;32m     10\u001b[0m     \u001b[0m_adf\u001b[0m\u001b[0;34m.\u001b[0m\u001b[0mto_csv\u001b[0m\u001b[0;34m(\u001b[0m\u001b[0;34m\"_zip_list/\"\u001b[0m \u001b[0;34m+\u001b[0m \u001b[0mdrug\u001b[0m \u001b[0;34m+\u001b[0m \u001b[0;34m\".tsv\"\u001b[0m\u001b[0;34m,\u001b[0m \u001b[0msep\u001b[0m\u001b[0;34m=\u001b[0m\u001b[0;34m\"\\t\"\u001b[0m\u001b[0;34m,\u001b[0m \u001b[0mindex\u001b[0m\u001b[0;34m=\u001b[0m\u001b[0;32mNone\u001b[0m\u001b[0;34m)\u001b[0m\u001b[0;34m\u001b[0m\u001b[0m\n",
      "\u001b[0;32m~/anaconda3/lib/python3.5/site-packages/pandas/core/groupby/groupby.py\u001b[0m in \u001b[0;36msize\u001b[0;34m(self)\u001b[0m\n\u001b[1;32m   1392\u001b[0m     \u001b[0;32mdef\u001b[0m \u001b[0msize\u001b[0m\u001b[0;34m(\u001b[0m\u001b[0mself\u001b[0m\u001b[0;34m)\u001b[0m\u001b[0;34m:\u001b[0m\u001b[0;34m\u001b[0m\u001b[0m\n\u001b[1;32m   1393\u001b[0m         \u001b[0;34m\"\"\"Compute group sizes\"\"\"\u001b[0m\u001b[0;34m\u001b[0m\u001b[0m\n\u001b[0;32m-> 1394\u001b[0;31m         \u001b[0mresult\u001b[0m \u001b[0;34m=\u001b[0m \u001b[0mself\u001b[0m\u001b[0;34m.\u001b[0m\u001b[0mgrouper\u001b[0m\u001b[0;34m.\u001b[0m\u001b[0msize\u001b[0m\u001b[0;34m(\u001b[0m\u001b[0;34m)\u001b[0m\u001b[0;34m\u001b[0m\u001b[0m\n\u001b[0m\u001b[1;32m   1395\u001b[0m \u001b[0;34m\u001b[0m\u001b[0m\n\u001b[1;32m   1396\u001b[0m         \u001b[0;32mif\u001b[0m \u001b[0misinstance\u001b[0m\u001b[0;34m(\u001b[0m\u001b[0mself\u001b[0m\u001b[0;34m.\u001b[0m\u001b[0mobj\u001b[0m\u001b[0;34m,\u001b[0m \u001b[0mSeries\u001b[0m\u001b[0;34m)\u001b[0m\u001b[0;34m:\u001b[0m\u001b[0;34m\u001b[0m\u001b[0m\n",
      "\u001b[0;32m~/anaconda3/lib/python3.5/site-packages/pandas/core/groupby/groupby.py\u001b[0m in \u001b[0;36msize\u001b[0;34m(self)\u001b[0m\n\u001b[1;32m   2314\u001b[0m         return Series(out,\n\u001b[1;32m   2315\u001b[0m                       \u001b[0mindex\u001b[0m\u001b[0;34m=\u001b[0m\u001b[0mself\u001b[0m\u001b[0;34m.\u001b[0m\u001b[0mresult_index\u001b[0m\u001b[0;34m,\u001b[0m\u001b[0;34m\u001b[0m\u001b[0m\n\u001b[0;32m-> 2316\u001b[0;31m                       dtype='int64')\n\u001b[0m\u001b[1;32m   2317\u001b[0m \u001b[0;34m\u001b[0m\u001b[0m\n\u001b[1;32m   2318\u001b[0m     \u001b[0;34m@\u001b[0m\u001b[0mcache_readonly\u001b[0m\u001b[0;34m\u001b[0m\u001b[0m\n",
      "\u001b[0;32m~/anaconda3/lib/python3.5/site-packages/pandas/core/series.py\u001b[0m in \u001b[0;36m__init__\u001b[0;34m(self, data, index, dtype, name, copy, fastpath)\u001b[0m\n\u001b[1;32m    260\u001b[0m                             \u001b[0;34m'Length of passed values is {val}, '\u001b[0m\u001b[0;34m\u001b[0m\u001b[0m\n\u001b[1;32m    261\u001b[0m                             \u001b[0;34m'index implies {ind}'\u001b[0m\u001b[0;34m\u001b[0m\u001b[0m\n\u001b[0;32m--> 262\u001b[0;31m                             .format(val=len(data), ind=len(index)))\n\u001b[0m\u001b[1;32m    263\u001b[0m                 \u001b[0;32mexcept\u001b[0m \u001b[0mTypeError\u001b[0m\u001b[0;34m:\u001b[0m\u001b[0;34m\u001b[0m\u001b[0m\n\u001b[1;32m    264\u001b[0m                     \u001b[0;32mpass\u001b[0m\u001b[0;34m\u001b[0m\u001b[0m\n",
      "\u001b[0;31mValueError\u001b[0m: Length of passed values is 14, index implies 0"
     ]
    }
   ],
   "source": [
    "for k in rxnorm_mapper:\n",
    "    print (k, rxnorm_mapper[k][\"label\"][1:-4])\n",
    "    _generate_space_matrix(k)"
   ]
  },
  {
   "cell_type": "markdown",
   "metadata": {},
   "source": [
    "#### View Zip Code Matrix"
   ]
  },
  {
   "cell_type": "code",
   "execution_count": 3,
   "metadata": {
    "collapsed": false
   },
   "outputs": [
    {
     "data": {
      "text/html": [
       "<div>\n",
       "<style scoped>\n",
       "    .dataframe tbody tr th:only-of-type {\n",
       "        vertical-align: middle;\n",
       "    }\n",
       "\n",
       "    .dataframe tbody tr th {\n",
       "        vertical-align: top;\n",
       "    }\n",
       "\n",
       "    .dataframe thead th {\n",
       "        text-align: right;\n",
       "    }\n",
       "</style>\n",
       "<table border=\"1\" class=\"dataframe\">\n",
       "  <thead>\n",
       "    <tr style=\"text-align: right;\">\n",
       "      <th></th>\n",
       "      <th>0</th>\n",
       "      <th>1</th>\n",
       "    </tr>\n",
       "  </thead>\n",
       "  <tbody>\n",
       "    <tr>\n",
       "      <th>0</th>\n",
       "      <td>1</td>\n",
       "      <td>NaN</td>\n",
       "    </tr>\n",
       "    <tr>\n",
       "      <th>1</th>\n",
       "      <td>2</td>\n",
       "      <td>NaN</td>\n",
       "    </tr>\n",
       "    <tr>\n",
       "      <th>2</th>\n",
       "      <td>3</td>\n",
       "      <td>NaN</td>\n",
       "    </tr>\n",
       "    <tr>\n",
       "      <th>3</th>\n",
       "      <td>4</td>\n",
       "      <td>NaN</td>\n",
       "    </tr>\n",
       "    <tr>\n",
       "      <th>4</th>\n",
       "      <td>5</td>\n",
       "      <td>mid-island, NY</td>\n",
       "    </tr>\n",
       "  </tbody>\n",
       "</table>\n",
       "</div>"
      ],
      "text/plain": [
       "   0               1\n",
       "0  1             NaN\n",
       "1  2             NaN\n",
       "2  3             NaN\n",
       "3  4             NaN\n",
       "4  5  mid-island, NY"
      ]
     },
     "execution_count": 3,
     "metadata": {},
     "output_type": "execute_result"
    }
   ],
   "source": [
    "# There is another zip codes flat file, which has latitude/longitude, but it has 5 digit zip codes!\n",
    "zip_codes = pd.read_csv(\"zip_codes.tsv\", sep=\"\\t\", header=None)\n",
    "zip_code_lookup = zip_codes.set_index(0).to_dict(orient=\"index\")\n",
    "zip_codes.head()"
   ]
  },
  {
   "cell_type": "code",
   "execution_count": 35,
   "metadata": {
    "collapsed": false
   },
   "outputs": [
    {
     "data": {
      "text/plain": [
       "{1: 'Cincinnati, OH'}"
      ]
     },
     "execution_count": 35,
     "metadata": {},
     "output_type": "execute_result"
    }
   ],
   "source": [
    "zip_code_lookup[452]"
   ]
  },
  {
   "cell_type": "code",
   "execution_count": 2,
   "metadata": {
    "collapsed": true
   },
   "outputs": [],
   "source": [
    "zip_locator = lambda x: zip_code_lookup[x][1] if x in zip_code_lookup else None\n",
    "\n",
    "def _view_drug_conc(drug_name):\n",
    "    drug_zips = pd.read_csv(\"_zip_list/\" + drug_name + \".tsv\", sep=\"\\t\")\n",
    "    drug_zips = pd.concat([drug_zips, drug_zips[\"Zip_code\"].apply(zip_locator).to_frame(name=\"region_name\")], axis=1)\n",
    "    drug_zips = drug_zips.sort_values(\"number_occurrences\", ascending=False)\n",
    "    return drug_zips"
   ]
  },
  {
   "cell_type": "code",
   "execution_count": 7,
   "metadata": {
    "collapsed": true
   },
   "outputs": [],
   "source": [
    "_zips = _view_drug_conc(\"Morphine\")"
   ]
  },
  {
   "cell_type": "code",
   "execution_count": 8,
   "metadata": {
    "collapsed": false
   },
   "outputs": [
    {
     "data": {
      "text/html": [
       "<div>\n",
       "<style scoped>\n",
       "    .dataframe tbody tr th:only-of-type {\n",
       "        vertical-align: middle;\n",
       "    }\n",
       "\n",
       "    .dataframe tbody tr th {\n",
       "        vertical-align: top;\n",
       "    }\n",
       "\n",
       "    .dataframe thead th {\n",
       "        text-align: right;\n",
       "    }\n",
       "</style>\n",
       "<table border=\"1\" class=\"dataframe\">\n",
       "  <thead>\n",
       "    <tr style=\"text-align: right;\">\n",
       "      <th></th>\n",
       "      <th>Zip_code</th>\n",
       "      <th>number_occurrences</th>\n",
       "      <th>region_name</th>\n",
       "    </tr>\n",
       "  </thead>\n",
       "  <tbody>\n",
       "    <tr>\n",
       "      <th>640</th>\n",
       "      <td>727</td>\n",
       "      <td>99275</td>\n",
       "      <td>north-western AR</td>\n",
       "    </tr>\n",
       "    <tr>\n",
       "      <th>537</th>\n",
       "      <td>606</td>\n",
       "      <td>75975</td>\n",
       "      <td>Chicago, IL</td>\n",
       "    </tr>\n",
       "    <tr>\n",
       "      <th>61</th>\n",
       "      <td>70</td>\n",
       "      <td>71181</td>\n",
       "      <td>Newark, NJ</td>\n",
       "    </tr>\n",
       "    <tr>\n",
       "      <th>62</th>\n",
       "      <td>71</td>\n",
       "      <td>64435</td>\n",
       "      <td>Newark, NJ</td>\n",
       "    </tr>\n",
       "    <tr>\n",
       "      <th>78</th>\n",
       "      <td>87</td>\n",
       "      <td>58342</td>\n",
       "      <td>Monmouth, NJ</td>\n",
       "    </tr>\n",
       "    <tr>\n",
       "      <th>132</th>\n",
       "      <td>152</td>\n",
       "      <td>54781</td>\n",
       "      <td>Pittsburgh, PA</td>\n",
       "    </tr>\n",
       "    <tr>\n",
       "      <th>250</th>\n",
       "      <td>277</td>\n",
       "      <td>50908</td>\n",
       "      <td>Durham, NC</td>\n",
       "    </tr>\n",
       "    <tr>\n",
       "      <th>248</th>\n",
       "      <td>275</td>\n",
       "      <td>50601</td>\n",
       "      <td>Raleigh, NC</td>\n",
       "    </tr>\n",
       "    <tr>\n",
       "      <th>652</th>\n",
       "      <td>741</td>\n",
       "      <td>46226</td>\n",
       "      <td>Tulsa, OK</td>\n",
       "    </tr>\n",
       "    <tr>\n",
       "      <th>651</th>\n",
       "      <td>740</td>\n",
       "      <td>41110</td>\n",
       "      <td>Tulsa, OK</td>\n",
       "    </tr>\n",
       "    <tr>\n",
       "      <th>131</th>\n",
       "      <td>151</td>\n",
       "      <td>39512</td>\n",
       "      <td>Pittsburgh, PA</td>\n",
       "    </tr>\n",
       "    <tr>\n",
       "      <th>287</th>\n",
       "      <td>315</td>\n",
       "      <td>38802</td>\n",
       "      <td>Waycross, GA</td>\n",
       "    </tr>\n",
       "    <tr>\n",
       "      <th>294</th>\n",
       "      <td>322</td>\n",
       "      <td>37438</td>\n",
       "      <td>Jacksonville, FL</td>\n",
       "    </tr>\n",
       "    <tr>\n",
       "      <th>130</th>\n",
       "      <td>150</td>\n",
       "      <td>36796</td>\n",
       "      <td>Pittsburgh, PA</td>\n",
       "    </tr>\n",
       "    <tr>\n",
       "      <th>136</th>\n",
       "      <td>156</td>\n",
       "      <td>34337</td>\n",
       "      <td>Greensburg, PA</td>\n",
       "    </tr>\n",
       "    <tr>\n",
       "      <th>419</th>\n",
       "      <td>460</td>\n",
       "      <td>33921</td>\n",
       "      <td>Indianapolis, IN</td>\n",
       "    </tr>\n",
       "    <tr>\n",
       "      <th>278</th>\n",
       "      <td>305</td>\n",
       "      <td>33742</td>\n",
       "      <td>Athens, GA</td>\n",
       "    </tr>\n",
       "    <tr>\n",
       "      <th>320</th>\n",
       "      <td>354</td>\n",
       "      <td>33634</td>\n",
       "      <td>Tuscaloosa, AL</td>\n",
       "    </tr>\n",
       "    <tr>\n",
       "      <th>348</th>\n",
       "      <td>383</td>\n",
       "      <td>32569</td>\n",
       "      <td>Jackson, TN</td>\n",
       "    </tr>\n",
       "    <tr>\n",
       "      <th>11</th>\n",
       "      <td>17</td>\n",
       "      <td>28785</td>\n",
       "      <td>central MA</td>\n",
       "    </tr>\n",
       "    <tr>\n",
       "      <th>304</th>\n",
       "      <td>333</td>\n",
       "      <td>25591</td>\n",
       "      <td>Fort Lauderdale, FL</td>\n",
       "    </tr>\n",
       "    <tr>\n",
       "      <th>249</th>\n",
       "      <td>276</td>\n",
       "      <td>24270</td>\n",
       "      <td>Raleigh, NC</td>\n",
       "    </tr>\n",
       "    <tr>\n",
       "      <th>412</th>\n",
       "      <td>452</td>\n",
       "      <td>23748</td>\n",
       "      <td>Cincinnati, OH</td>\n",
       "    </tr>\n",
       "    <tr>\n",
       "      <th>68</th>\n",
       "      <td>77</td>\n",
       "      <td>21741</td>\n",
       "      <td>Monmouth, NJ</td>\n",
       "    </tr>\n",
       "    <tr>\n",
       "      <th>689</th>\n",
       "      <td>782</td>\n",
       "      <td>21297</td>\n",
       "      <td>San Antonio, TX</td>\n",
       "    </tr>\n",
       "    <tr>\n",
       "      <th>773</th>\n",
       "      <td>900</td>\n",
       "      <td>21269</td>\n",
       "      <td>Los Angeles, CA</td>\n",
       "    </tr>\n",
       "    <tr>\n",
       "      <th>809</th>\n",
       "      <td>940</td>\n",
       "      <td>18889</td>\n",
       "      <td>San Francisco, CA</td>\n",
       "    </tr>\n",
       "    <tr>\n",
       "      <th>302</th>\n",
       "      <td>330</td>\n",
       "      <td>18215</td>\n",
       "      <td>southern FL</td>\n",
       "    </tr>\n",
       "    <tr>\n",
       "      <th>622</th>\n",
       "      <td>707</td>\n",
       "      <td>17263</td>\n",
       "      <td>Baton Rouge, LA</td>\n",
       "    </tr>\n",
       "    <tr>\n",
       "      <th>71</th>\n",
       "      <td>80</td>\n",
       "      <td>16186</td>\n",
       "      <td>southern NJ</td>\n",
       "    </tr>\n",
       "  </tbody>\n",
       "</table>\n",
       "</div>"
      ],
      "text/plain": [
       "     Zip_code  number_occurrences          region_name\n",
       "640       727               99275     north-western AR\n",
       "537       606               75975          Chicago, IL\n",
       "61         70               71181           Newark, NJ\n",
       "62         71               64435           Newark, NJ\n",
       "78         87               58342         Monmouth, NJ\n",
       "132       152               54781       Pittsburgh, PA\n",
       "250       277               50908           Durham, NC\n",
       "248       275               50601          Raleigh, NC\n",
       "652       741               46226            Tulsa, OK\n",
       "651       740               41110            Tulsa, OK\n",
       "131       151               39512       Pittsburgh, PA\n",
       "287       315               38802         Waycross, GA\n",
       "294       322               37438     Jacksonville, FL\n",
       "130       150               36796       Pittsburgh, PA\n",
       "136       156               34337       Greensburg, PA\n",
       "419       460               33921     Indianapolis, IN\n",
       "278       305               33742           Athens, GA\n",
       "320       354               33634       Tuscaloosa, AL\n",
       "348       383               32569          Jackson, TN\n",
       "11         17               28785           central MA\n",
       "304       333               25591  Fort Lauderdale, FL\n",
       "249       276               24270          Raleigh, NC\n",
       "412       452               23748       Cincinnati, OH\n",
       "68         77               21741         Monmouth, NJ\n",
       "689       782               21297      San Antonio, TX\n",
       "773       900               21269      Los Angeles, CA\n",
       "809       940               18889    San Francisco, CA\n",
       "302       330               18215          southern FL\n",
       "622       707               17263      Baton Rouge, LA\n",
       "71         80               16186          southern NJ"
      ]
     },
     "execution_count": 8,
     "metadata": {},
     "output_type": "execute_result"
    }
   ],
   "source": [
    "_zips.head(30)"
   ]
  },
  {
   "cell_type": "markdown",
   "metadata": {},
   "source": [
    "#### --------------------------------\n",
    "#### Generate Generic RxCUI x Year Time Matrix (2000 - 2015)\n",
    "#### --------------------------------"
   ]
  },
  {
   "cell_type": "code",
   "execution_count": 65,
   "metadata": {
    "collapsed": true
   },
   "outputs": [],
   "source": [
    "def _generate_month_matrix(gen_rxcui):\n",
    "    drug = re.sub(r'\\W+', '-', rxnorm_mapper[gen_rxcui][\"label\"][1:-4])\n",
    "    print (\"generating admit months\", drug)\n",
    "    q = \"SELECT Admit_month FROM `data.rxcui_year` WHERE rxcui IN (\" + \",\".join([\"'\" + str(k) + \"'\" for k in list(eval(rxnorm_mapper[gen_rxcui][\"rxcui_nodes\"]))]) + \")\"\n",
    "    df = bq.Query(q).execute().result().to_dataframe()\n",
    "    print (\"retrieved admit months:\", df.shape[0])\n",
    "    if df.shape[0] == 0: return None\n",
    "    _adf = df.groupby(\"Admit_month\").size().reset_index()\n",
    "    _adf.columns = [\"Admit_month\", \"number_occurrences\"]\n",
    "    _adf.to_csv(\"_admit_month/\" + drug + \".tsv\", sep=\"\\t\", index=None)\n",
    "    \n",
    "def _generate_year_matrix(gen_rxcui):\n",
    "    drug = re.sub(r'\\W+', '-', rxnorm_mapper[gen_rxcui][\"label\"][1:-4])\n",
    "    print (\"generating admit years\", drug)\n",
    "    q = \"SELECT Admit_month FROM `data.rxcui_year` WHERE rxcui IN (\" + \",\".join([\"'\" + str(k) + \"'\" for k in list(eval(rxnorm_mapper[gen_rxcui][\"rxcui_nodes\"]))]) + \")\"\n",
    "    df = bq.Query(q).execute().result().to_dataframe()\n",
    "    print (\"retrieved admit months:\", df.shape[0])\n",
    "    if df.shape[0] == 0: return None\n",
    "    df = pd.concat([df[\"Admit_month\"].apply(lambda x: str(x)[0:4]).to_frame(name='Admit_year'), df], axis=1)\n",
    "    del df[\"Admit_month\"]\n",
    "    _adf = df.groupby(\"Admit_year\").size().reset_index()\n",
    "    _adf.columns = [\"Admit_year\", \"number_occurrences\"]\n",
    "    _adf.to_csv(\"_admit_year/\" + drug + \".tsv\", sep=\"\\t\", index=None)"
   ]
  },
  {
   "cell_type": "code",
   "execution_count": 59,
   "metadata": {
    "collapsed": false
   },
   "outputs": [
    {
     "name": "stdout",
     "output_type": "stream",
     "text": [
      "generating admit months Sufentanil\n",
      "retrieved admit months: 52134\n"
     ]
    }
   ],
   "source": [
    "_generate_month_matrix(56795)"
   ]
  },
  {
   "cell_type": "code",
   "execution_count": null,
   "metadata": {
    "collapsed": false
   },
   "outputs": [
    {
     "name": "stdout",
     "output_type": "stream",
     "text": [
      "generating admit years Morphine\n"
     ]
    }
   ],
   "source": [
    "_generate_year_matrix(7052)"
   ]
  },
  {
   "cell_type": "code",
   "execution_count": 4,
   "metadata": {
    "collapsed": true
   },
   "outputs": [],
   "source": [
    "def _view_drug_conc_time(drug_name):\n",
    "    drug_m = pd.read_csv(\"_admit_year/\" + drug_name + \".tsv\", sep=\"\\t\")\n",
    "    drug_m = drug_m.sort_values(\"Admit_year\", ascending=False)\n",
    "    return drug_m"
   ]
  },
  {
   "cell_type": "code",
   "execution_count": 5,
   "metadata": {
    "collapsed": false
   },
   "outputs": [
    {
     "data": {
      "text/html": [
       "<div>\n",
       "<style scoped>\n",
       "    .dataframe tbody tr th:only-of-type {\n",
       "        vertical-align: middle;\n",
       "    }\n",
       "\n",
       "    .dataframe tbody tr th {\n",
       "        vertical-align: top;\n",
       "    }\n",
       "\n",
       "    .dataframe thead th {\n",
       "        text-align: right;\n",
       "    }\n",
       "</style>\n",
       "<table border=\"1\" class=\"dataframe\">\n",
       "  <thead>\n",
       "    <tr style=\"text-align: right;\">\n",
       "      <th></th>\n",
       "      <th>Admit_year</th>\n",
       "      <th>number_occurrences</th>\n",
       "    </tr>\n",
       "  </thead>\n",
       "  <tbody>\n",
       "    <tr>\n",
       "      <th>8</th>\n",
       "      <td>2016</td>\n",
       "      <td>3670</td>\n",
       "    </tr>\n",
       "    <tr>\n",
       "      <th>7</th>\n",
       "      <td>2015</td>\n",
       "      <td>4048</td>\n",
       "    </tr>\n",
       "    <tr>\n",
       "      <th>6</th>\n",
       "      <td>2014</td>\n",
       "      <td>5270</td>\n",
       "    </tr>\n",
       "    <tr>\n",
       "      <th>5</th>\n",
       "      <td>2013</td>\n",
       "      <td>7365</td>\n",
       "    </tr>\n",
       "    <tr>\n",
       "      <th>4</th>\n",
       "      <td>2012</td>\n",
       "      <td>7772</td>\n",
       "    </tr>\n",
       "    <tr>\n",
       "      <th>3</th>\n",
       "      <td>2011</td>\n",
       "      <td>11953</td>\n",
       "    </tr>\n",
       "    <tr>\n",
       "      <th>2</th>\n",
       "      <td>2010</td>\n",
       "      <td>9413</td>\n",
       "    </tr>\n",
       "    <tr>\n",
       "      <th>1</th>\n",
       "      <td>2009</td>\n",
       "      <td>2597</td>\n",
       "    </tr>\n",
       "    <tr>\n",
       "      <th>0</th>\n",
       "      <td>2008</td>\n",
       "      <td>46</td>\n",
       "    </tr>\n",
       "  </tbody>\n",
       "</table>\n",
       "</div>"
      ],
      "text/plain": [
       "   Admit_year  number_occurrences\n",
       "8        2016                3670\n",
       "7        2015                4048\n",
       "6        2014                5270\n",
       "5        2013                7365\n",
       "4        2012                7772\n",
       "3        2011               11953\n",
       "2        2010                9413\n",
       "1        2009                2597\n",
       "0        2008                  46"
      ]
     },
     "execution_count": 5,
     "metadata": {},
     "output_type": "execute_result"
    }
   ],
   "source": [
    "_drug_m = _view_drug_conc_time(\"Sufentanil\")\n",
    "_drug_m.head(30)"
   ]
  },
  {
   "cell_type": "code",
   "execution_count": 38,
   "metadata": {
    "collapsed": true
   },
   "outputs": [],
   "source": [
    "### Generate Space Time matrix\n",
    "def _generate_space_time_matrix(gen_rxcui):\n",
    "    drug = re.sub(r'\\W+', '-', rxnorm_mapper[gen_rxcui][\"label\"][1:-4])\n",
    "    print (\"generating zip codes for\", drug)\n",
    "    q = \"SELECT Zip_code, Admit_year FROM `data.rxcui_zip_year` WHERE rxcui IN (\" + \",\".join([\"'\" + str(k) + \"'\" for k in list(eval(rxnorm_mapper[gen_rxcui][\"rxcui_nodes\"]))]) + \")\"\n",
    "    df = bq.Query(q).execute().result().to_dataframe()\n",
    "    print (\"retrieved zips:\", df.shape[0])\n",
    "    if df.shape[0] == 0: return None\n",
    "    _adf = df.groupby([\"Zip_code\", \"Admit_year\"]).size().reset_index()\n",
    "    #print (_adf.head(30), _adf.shape)\n",
    "    _adf.columns = [\"Zip_code\", \"Admit_year\", \"number_occurrences\"]\n",
    "    _adf.to_csv(\"_year_zip/\" + drug + \".tsv\", sep=\"\\t\", index=None)"
   ]
  },
  {
   "cell_type": "code",
   "execution_count": 39,
   "metadata": {
    "collapsed": false
   },
   "outputs": [
    {
     "name": "stdout",
     "output_type": "stream",
     "text": [
      "generating zip codes for Sufentanil\n",
      "retrieved zips: 52134\n"
     ]
    }
   ],
   "source": [
    "_generate_space_time_matrix(56795)"
   ]
  },
  {
   "cell_type": "code",
   "execution_count": 40,
   "metadata": {
    "collapsed": true
   },
   "outputs": [],
   "source": [
    "def _view_drug_conc_zip_time(drug_name):\n",
    "    drug_m = pd.read_csv(\"_year_zip/\" + drug_name + \".tsv\", sep=\"\\t\")\n",
    "    drug_m = drug_m.sort_values(\"number_occurrences\", ascending=False)\n",
    "    return drug_m"
   ]
  },
  {
   "cell_type": "code",
   "execution_count": 41,
   "metadata": {
    "collapsed": false,
    "scrolled": true
   },
   "outputs": [
    {
     "data": {
      "text/html": [
       "<div>\n",
       "<style scoped>\n",
       "    .dataframe tbody tr th:only-of-type {\n",
       "        vertical-align: middle;\n",
       "    }\n",
       "\n",
       "    .dataframe tbody tr th {\n",
       "        vertical-align: top;\n",
       "    }\n",
       "\n",
       "    .dataframe thead th {\n",
       "        text-align: right;\n",
       "    }\n",
       "</style>\n",
       "<table border=\"1\" class=\"dataframe\">\n",
       "  <thead>\n",
       "    <tr style=\"text-align: right;\">\n",
       "      <th></th>\n",
       "      <th>Zip_code</th>\n",
       "      <th>Admit_year</th>\n",
       "      <th>number_occurrences</th>\n",
       "    </tr>\n",
       "  </thead>\n",
       "  <tbody>\n",
       "    <tr>\n",
       "      <th>58</th>\n",
       "      <td>80</td>\n",
       "      <td>2012</td>\n",
       "      <td>166</td>\n",
       "    </tr>\n",
       "    <tr>\n",
       "      <th>155</th>\n",
       "      <td>260</td>\n",
       "      <td>2012</td>\n",
       "      <td>145</td>\n",
       "    </tr>\n",
       "    <tr>\n",
       "      <th>188</th>\n",
       "      <td>278</td>\n",
       "      <td>2009</td>\n",
       "      <td>125</td>\n",
       "    </tr>\n",
       "    <tr>\n",
       "      <th>326</th>\n",
       "      <td>452</td>\n",
       "      <td>2009</td>\n",
       "      <td>107</td>\n",
       "    </tr>\n",
       "    <tr>\n",
       "      <th>441</th>\n",
       "      <td>606</td>\n",
       "      <td>2011</td>\n",
       "      <td>101</td>\n",
       "    </tr>\n",
       "    <tr>\n",
       "      <th>299</th>\n",
       "      <td>439</td>\n",
       "      <td>2012</td>\n",
       "      <td>100</td>\n",
       "    </tr>\n",
       "    <tr>\n",
       "      <th>440</th>\n",
       "      <td>606</td>\n",
       "      <td>2010</td>\n",
       "      <td>99</td>\n",
       "    </tr>\n",
       "    <tr>\n",
       "      <th>16</th>\n",
       "      <td>15</td>\n",
       "      <td>2009</td>\n",
       "      <td>82</td>\n",
       "    </tr>\n",
       "    <tr>\n",
       "      <th>442</th>\n",
       "      <td>606</td>\n",
       "      <td>2012</td>\n",
       "      <td>74</td>\n",
       "    </tr>\n",
       "    <tr>\n",
       "      <th>439</th>\n",
       "      <td>606</td>\n",
       "      <td>2009</td>\n",
       "      <td>71</td>\n",
       "    </tr>\n",
       "    <tr>\n",
       "      <th>56</th>\n",
       "      <td>80</td>\n",
       "      <td>2010</td>\n",
       "      <td>65</td>\n",
       "    </tr>\n",
       "    <tr>\n",
       "      <th>185</th>\n",
       "      <td>277</td>\n",
       "      <td>2010</td>\n",
       "      <td>63</td>\n",
       "    </tr>\n",
       "    <tr>\n",
       "      <th>354</th>\n",
       "      <td>460</td>\n",
       "      <td>2009</td>\n",
       "      <td>63</td>\n",
       "    </tr>\n",
       "    <tr>\n",
       "      <th>212</th>\n",
       "      <td>285</td>\n",
       "      <td>2009</td>\n",
       "      <td>62</td>\n",
       "    </tr>\n",
       "    <tr>\n",
       "      <th>176</th>\n",
       "      <td>275</td>\n",
       "      <td>2010</td>\n",
       "      <td>62</td>\n",
       "    </tr>\n",
       "    <tr>\n",
       "      <th>17</th>\n",
       "      <td>15</td>\n",
       "      <td>2010</td>\n",
       "      <td>61</td>\n",
       "    </tr>\n",
       "    <tr>\n",
       "      <th>65</th>\n",
       "      <td>81</td>\n",
       "      <td>2012</td>\n",
       "      <td>59</td>\n",
       "    </tr>\n",
       "    <tr>\n",
       "      <th>18</th>\n",
       "      <td>15</td>\n",
       "      <td>2011</td>\n",
       "      <td>58</td>\n",
       "    </tr>\n",
       "    <tr>\n",
       "      <th>50</th>\n",
       "      <td>77</td>\n",
       "      <td>2011</td>\n",
       "      <td>56</td>\n",
       "    </tr>\n",
       "    <tr>\n",
       "      <th>355</th>\n",
       "      <td>460</td>\n",
       "      <td>2010</td>\n",
       "      <td>56</td>\n",
       "    </tr>\n",
       "    <tr>\n",
       "      <th>177</th>\n",
       "      <td>275</td>\n",
       "      <td>2011</td>\n",
       "      <td>55</td>\n",
       "    </tr>\n",
       "    <tr>\n",
       "      <th>57</th>\n",
       "      <td>80</td>\n",
       "      <td>2011</td>\n",
       "      <td>54</td>\n",
       "    </tr>\n",
       "    <tr>\n",
       "      <th>186</th>\n",
       "      <td>277</td>\n",
       "      <td>2011</td>\n",
       "      <td>50</td>\n",
       "    </tr>\n",
       "    <tr>\n",
       "      <th>77</th>\n",
       "      <td>83</td>\n",
       "      <td>2012</td>\n",
       "      <td>49</td>\n",
       "    </tr>\n",
       "    <tr>\n",
       "      <th>49</th>\n",
       "      <td>77</td>\n",
       "      <td>2010</td>\n",
       "      <td>49</td>\n",
       "    </tr>\n",
       "    <tr>\n",
       "      <th>318</th>\n",
       "      <td>450</td>\n",
       "      <td>2009</td>\n",
       "      <td>46</td>\n",
       "    </tr>\n",
       "    <tr>\n",
       "      <th>374</th>\n",
       "      <td>469</td>\n",
       "      <td>2009</td>\n",
       "      <td>45</td>\n",
       "    </tr>\n",
       "    <tr>\n",
       "      <th>92</th>\n",
       "      <td>87</td>\n",
       "      <td>2010</td>\n",
       "      <td>45</td>\n",
       "    </tr>\n",
       "    <tr>\n",
       "      <th>238</th>\n",
       "      <td>296</td>\n",
       "      <td>2013</td>\n",
       "      <td>44</td>\n",
       "    </tr>\n",
       "    <tr>\n",
       "      <th>329</th>\n",
       "      <td>452</td>\n",
       "      <td>2012</td>\n",
       "      <td>41</td>\n",
       "    </tr>\n",
       "  </tbody>\n",
       "</table>\n",
       "</div>"
      ],
      "text/plain": [
       "     Zip_code  Admit_year  number_occurrences\n",
       "58         80        2012                 166\n",
       "155       260        2012                 145\n",
       "188       278        2009                 125\n",
       "326       452        2009                 107\n",
       "441       606        2011                 101\n",
       "299       439        2012                 100\n",
       "440       606        2010                  99\n",
       "16         15        2009                  82\n",
       "442       606        2012                  74\n",
       "439       606        2009                  71\n",
       "56         80        2010                  65\n",
       "185       277        2010                  63\n",
       "354       460        2009                  63\n",
       "212       285        2009                  62\n",
       "176       275        2010                  62\n",
       "17         15        2010                  61\n",
       "65         81        2012                  59\n",
       "18         15        2011                  58\n",
       "50         77        2011                  56\n",
       "355       460        2010                  56\n",
       "177       275        2011                  55\n",
       "57         80        2011                  54\n",
       "186       277        2011                  50\n",
       "77         83        2012                  49\n",
       "49         77        2010                  49\n",
       "318       450        2009                  46\n",
       "374       469        2009                  45\n",
       "92         87        2010                  45\n",
       "238       296        2013                  44\n",
       "329       452        2012                  41"
      ]
     },
     "execution_count": 41,
     "metadata": {},
     "output_type": "execute_result"
    }
   ],
   "source": [
    "_drug_m = _view_drug_conc_zip_time(\"Sufentanil\")\n",
    "_drug_m.head(30)"
   ]
  },
  {
   "cell_type": "code",
   "execution_count": 42,
   "metadata": {
    "collapsed": false
   },
   "outputs": [
    {
     "name": "stdout",
     "output_type": "stream",
     "text": [
      "10689 Tramadol\n",
      "generating zip codes for Tramadol\n",
      "retrieved zips: 4722210\n",
      "7804 Oxycodone\n",
      "generating zip codes for Oxycodone\n",
      "retrieved zips: 11284462\n",
      "7238 Nalbuphine\n",
      "generating zip codes for Nalbuphine\n",
      "retrieved zips: 395395\n",
      "8001 Pentazocine\n",
      "generating zip codes for Pentazocine\n",
      "retrieved zips: 6874\n",
      "73032 remifentanil\n",
      "generating zip codes for remifentanil\n",
      "retrieved zips: 106224\n",
      "7242 Naloxone\n",
      "generating zip codes for Naloxone\n",
      "retrieved zips: 1208237\n",
      "8119 Phenazocine\n",
      "generating zip codes for Phenazocine\n",
      "retrieved zips: 0\n",
      "7052 Morphine\n",
      "generating zip codes for Morphine\n",
      "retrieved zips: 11749731\n",
      "17933 anileridine\n",
      "generating zip codes for anileridine\n",
      "retrieved zips: 0\n",
      "979111 Methylnaltrexone bromide\n",
      "generating zip codes for Methylnaltrexone-bromide\n",
      "retrieved zips: 47485\n",
      "8143 Phenoperidine\n",
      "generating zip codes for Phenoperidine\n",
      "retrieved zips: 0\n",
      "8785 Propoxyphene\n",
      "generating zip codes for Propoxyphene\n",
      "retrieved zips: 196458\n",
      "8354 Pirinitramide\n",
      "generating zip codes for Pirinitramide\n",
      "retrieved zips: 165030\n",
      "7894 Papaveretum\n",
      "generating zip codes for Papaveretum\n",
      "retrieved zips: 1069\n",
      "3290 Dextromoramide\n",
      "generating zip codes for Dextromoramide\n",
      "retrieved zips: 25554\n",
      "1819 Buprenorphine\n",
      "generating zip codes for Buprenorphine\n",
      "retrieved zips: 129839\n",
      "710303 Codeine / Ibuprofen\n",
      "generating zip codes for Codeine-Ibuprofen\n",
      "retrieved zips: 45185\n",
      "6813 Methadone\n",
      "generating zip codes for Methadone\n",
      "retrieved zips: 1026280\n",
      "56795 Sufentanil\n",
      "generating zip codes for Sufentanil\n",
      "retrieved zips: 52134\n",
      "3423 Hydromorphone\n",
      "generating zip codes for Hydromorphone\n",
      "retrieved zips: 16234230\n",
      "480 Alfentanil\n",
      "generating zip codes for Alfentanil\n",
      "retrieved zips: 24867\n",
      "1551777 naloxegol\n",
      "generating zip codes for naloxegol\n",
      "retrieved zips: 0\n",
      "6754 Meperidine\n",
      "generating zip codes for Meperidine\n",
      "retrieved zips: 1595203\n",
      "484259 Ibuprofen / Oxycodone\n",
      "generating zip codes for Ibuprofen-Oxycodone\n",
      "retrieved zips: 1791538\n",
      "10597 Tilidine\n",
      "generating zip codes for Tilidine\n",
      "retrieved zips: 14\n",
      "Error found for  10597\n",
      "236913 LEVOMETHADONE\n",
      "generating zip codes for LEVOMETHADONE\n",
      "retrieved zips: 0\n",
      "3304 Heroin\n",
      "generating zip codes for Heroin\n",
      "retrieved zips: 1065786\n",
      "6761 Meptazinol\n",
      "generating zip codes for Meptazinol\n",
      "retrieved zips: 70\n",
      "Error found for  6761\n",
      "352362 Acetaminophen / Tramadol\n",
      "generating zip codes for Acetaminophen-Tramadol\n",
      "retrieved zips: 4446317\n",
      "817579 Acetaminophen / Codeine\n",
      "generating zip codes for Acetaminophen-Codeine\n",
      "retrieved zips: 1714394\n",
      "1806700 Naltrexone / Oxycodone\n",
      "generating zip codes for Naltrexone-Oxycodone\n",
      "retrieved zips: 953155\n",
      "1545902 Naloxone / Oxycodone\n",
      "generating zip codes for Naloxone-Oxycodone\n",
      "retrieved zips: 878565\n",
      "23088 dihydrocodeine\n",
      "generating zip codes for dihydrocodeine\n",
      "retrieved zips: 2\n",
      "Error found for  23088\n",
      "4337 Fentanyl\n",
      "generating zip codes for Fentanyl\n",
      "retrieved zips: 15794514\n",
      "135095 Aspirin / Codeine\n",
      "generating zip codes for Aspirin-Codeine\n",
      "retrieved zips: 1245420\n",
      "22713 dezocine\n",
      "generating zip codes for dezocine\n",
      "retrieved zips: 220\n",
      "28863 lofexidine\n",
      "generating zip codes for lofexidine\n",
      "retrieved zips: 0\n",
      "7676 Opium\n",
      "generating zip codes for Opium\n",
      "retrieved zips: 80922\n",
      "1841 Butorphanol\n",
      "generating zip codes for Butorphanol\n",
      "retrieved zips: 281034\n",
      "787390 tapentadol\n",
      "generating zip codes for tapentadol\n",
      "retrieved zips: 50244\n",
      "480639 alvimopan\n",
      "generating zip codes for alvimopan\n",
      "retrieved zips: 169361\n"
     ]
    }
   ],
   "source": [
    "for k in rxnorm_mapper:\n",
    "    print (k, rxnorm_mapper[k][\"label\"][1:-4])\n",
    "    try: _generate_space_time_matrix(k)\n",
    "    except: print (\"Error found for \", k)"
   ]
  },
  {
   "cell_type": "code",
   "execution_count": 45,
   "metadata": {
    "collapsed": true
   },
   "outputs": [],
   "source": [
    "def get_reqd_fileset(folder_path, exclusion_criteria=None):\n",
    "    \"A class of navigators on the file system\"\n",
    "    fileset = None\n",
    "    for root, dirs, files in os.walk(folder_path):\n",
    "        fileset = [x for x in files if not exclusion_criteria(x)] if exclusion_criteria else files\n",
    "    return fileset"
   ]
  },
  {
   "cell_type": "code",
   "execution_count": 56,
   "metadata": {
    "collapsed": false,
    "scrolled": true
   },
   "outputs": [
    {
     "name": "stdout",
     "output_type": "stream",
     "text": [
      "(15, 4)\n",
      "(908, 4)\n",
      "(3863, 4)\n",
      "(8554, 4)\n",
      "(9452, 4)\n",
      "(15169, 4)\n",
      "(15195, 4)\n",
      "(15721, 4)\n",
      "(17218, 4)\n",
      "(20243, 4)\n",
      "(21527, 4)\n",
      "(26912, 4)\n",
      "(26945, 4)\n",
      "(27458, 4)\n",
      "(27936, 4)\n",
      "(28012, 4)\n",
      "(28452, 4)\n",
      "(30397, 4)\n",
      "(32927, 4)\n",
      "(37509, 4)\n",
      "(40387, 4)\n",
      "(41885, 4)\n",
      "(43685, 4)\n",
      "(45895, 4)\n",
      "(46665, 4)\n",
      "(47092, 4)\n",
      "(52556, 4)\n",
      "(52664, 4)\n",
      "(57299, 4)\n",
      "(59708, 4)\n",
      "(62371, 4)\n",
      "(63304, 4)\n"
     ]
    }
   ],
   "source": [
    "drug_files = get_reqd_fileset(\"_year_zip\", lambda x: False if \".tsv\" in x else True)\n",
    "comb = None\n",
    "ccount = 0\n",
    "for m in drug_files:\n",
    "    drug_m = pd.read_csv(\"_year_zip/\" + m, sep=\"\\t\")\n",
    "    drug_name = m.split(\".\")[0]\n",
    "    drug_m = pd.concat([drug_m, pd.Series([drug_name for k in range(drug_m.shape[0])]).to_frame(name=\"opioid\")], axis=1)\n",
    "    if ccount == 0: comb = drug_m\n",
    "    else:\n",
    "        comb = pd.concat([comb, drug_m], axis=0)\n",
    "        comb = comb.reset_index()\n",
    "        del comb[\"index\"]\n",
    "    ccount += 1\n",
    "    print (comb.shape)"
   ]
  },
  {
   "cell_type": "code",
   "execution_count": 60,
   "metadata": {
    "collapsed": false
   },
   "outputs": [
    {
     "data": {
      "text/html": [
       "<div>\n",
       "<style scoped>\n",
       "    .dataframe tbody tr th:only-of-type {\n",
       "        vertical-align: middle;\n",
       "    }\n",
       "\n",
       "    .dataframe tbody tr th {\n",
       "        vertical-align: top;\n",
       "    }\n",
       "\n",
       "    .dataframe thead th {\n",
       "        text-align: right;\n",
       "    }\n",
       "</style>\n",
       "<table border=\"1\" class=\"dataframe\">\n",
       "  <thead>\n",
       "    <tr style=\"text-align: right;\">\n",
       "      <th></th>\n",
       "      <th>Zip_code</th>\n",
       "      <th>Admit_year</th>\n",
       "      <th>opioid</th>\n",
       "      <th>number_occurrences</th>\n",
       "    </tr>\n",
       "  </thead>\n",
       "  <tbody>\n",
       "    <tr>\n",
       "      <th>0</th>\n",
       "      <td>201</td>\n",
       "      <td>2012</td>\n",
       "      <td>dezocine</td>\n",
       "      <td>1</td>\n",
       "    </tr>\n",
       "    <tr>\n",
       "      <th>1</th>\n",
       "      <td>226</td>\n",
       "      <td>2014</td>\n",
       "      <td>dezocine</td>\n",
       "      <td>4</td>\n",
       "    </tr>\n",
       "    <tr>\n",
       "      <th>2</th>\n",
       "      <td>236</td>\n",
       "      <td>2011</td>\n",
       "      <td>dezocine</td>\n",
       "      <td>2</td>\n",
       "    </tr>\n",
       "    <tr>\n",
       "      <th>3</th>\n",
       "      <td>277</td>\n",
       "      <td>2009</td>\n",
       "      <td>dezocine</td>\n",
       "      <td>3</td>\n",
       "    </tr>\n",
       "    <tr>\n",
       "      <th>4</th>\n",
       "      <td>277</td>\n",
       "      <td>2010</td>\n",
       "      <td>dezocine</td>\n",
       "      <td>1</td>\n",
       "    </tr>\n",
       "  </tbody>\n",
       "</table>\n",
       "</div>"
      ],
      "text/plain": [
       "   Zip_code  Admit_year    opioid  number_occurrences\n",
       "0       201        2012  dezocine                   1\n",
       "1       226        2014  dezocine                   4\n",
       "2       236        2011  dezocine                   2\n",
       "3       277        2009  dezocine                   3\n",
       "4       277        2010  dezocine                   1"
      ]
     },
     "execution_count": 60,
     "metadata": {},
     "output_type": "execute_result"
    }
   ],
   "source": [
    "comb = comb[[\"Zip_code\", \"Admit_year\", \"opioid\", \"number_occurrences\"]]\n",
    "comb.head()"
   ]
  },
  {
   "cell_type": "code",
   "execution_count": 61,
   "metadata": {
    "collapsed": true
   },
   "outputs": [],
   "source": [
    "comb.to_csv(\"combined_opioid.tsv\", sep=\"\\t\", index=None)"
   ]
  },
  {
   "cell_type": "code",
   "execution_count": 1,
   "metadata": {
    "collapsed": true
   },
   "outputs": [],
   "source": [
    "import pandas as pd\n",
    "comb = pd.read_csv(\"combined_opioid.tsv\", sep=\"\\t\")"
   ]
  },
  {
   "cell_type": "code",
   "execution_count": 6,
   "metadata": {
    "collapsed": true
   },
   "outputs": [],
   "source": [
    "ap = comb[[\"Zip_code\", \"opioid\", \"number_occurrences\"]].groupby([\"Zip_code\", \"opioid\"]).sum()"
   ]
  },
  {
   "cell_type": "code",
   "execution_count": 9,
   "metadata": {
    "collapsed": true
   },
   "outputs": [],
   "source": [
    "ap = ap.reset_index()"
   ]
  },
  {
   "cell_type": "code",
   "execution_count": 13,
   "metadata": {
    "collapsed": true
   },
   "outputs": [],
   "source": [
    "ap = ap.sort_values(\"number_occurrences\", ascending=False)"
   ]
  },
  {
   "cell_type": "code",
   "execution_count": 19,
   "metadata": {
    "collapsed": true
   },
   "outputs": [],
   "source": [
    "import numpy as np\n",
    "ap = pd.concat([ap, np.log10(ap[\"number_occurrences\"]).to_frame(name=\"logn\")], axis=1)"
   ]
  },
  {
   "cell_type": "code",
   "execution_count": 16,
   "metadata": {
    "collapsed": true
   },
   "outputs": [],
   "source": [
    "ap.to_csv(\"zip_code_count.tsv\", sep=\"\\t\", index=None)"
   ]
  },
  {
   "cell_type": "code",
   "execution_count": 20,
   "metadata": {
    "collapsed": false
   },
   "outputs": [
    {
     "data": {
      "text/html": [
       "<div>\n",
       "<style scoped>\n",
       "    .dataframe tbody tr th:only-of-type {\n",
       "        vertical-align: middle;\n",
       "    }\n",
       "\n",
       "    .dataframe tbody tr th {\n",
       "        vertical-align: top;\n",
       "    }\n",
       "\n",
       "    .dataframe thead th {\n",
       "        text-align: right;\n",
       "    }\n",
       "</style>\n",
       "<table border=\"1\" class=\"dataframe\">\n",
       "  <thead>\n",
       "    <tr style=\"text-align: right;\">\n",
       "      <th></th>\n",
       "      <th>Zip_code</th>\n",
       "      <th>opioid</th>\n",
       "      <th>number_occurrences</th>\n",
       "      <th>logn</th>\n",
       "    </tr>\n",
       "  </thead>\n",
       "  <tbody>\n",
       "    <tr>\n",
       "      <th>2090</th>\n",
       "      <td>152</td>\n",
       "      <td>Fentanyl</td>\n",
       "      <td>143252</td>\n",
       "      <td>5.156101</td>\n",
       "    </tr>\n",
       "    <tr>\n",
       "      <th>7641</th>\n",
       "      <td>452</td>\n",
       "      <td>Oxycodone</td>\n",
       "      <td>133084</td>\n",
       "      <td>5.124126</td>\n",
       "    </tr>\n",
       "    <tr>\n",
       "      <th>940</th>\n",
       "      <td>71</td>\n",
       "      <td>Oxycodone</td>\n",
       "      <td>132565</td>\n",
       "      <td>5.122429</td>\n",
       "    </tr>\n",
       "    <tr>\n",
       "      <th>914</th>\n",
       "      <td>70</td>\n",
       "      <td>Oxycodone</td>\n",
       "      <td>124923</td>\n",
       "      <td>5.096642</td>\n",
       "    </tr>\n",
       "    <tr>\n",
       "      <th>1139</th>\n",
       "      <td>80</td>\n",
       "      <td>Fentanyl</td>\n",
       "      <td>124281</td>\n",
       "      <td>5.094405</td>\n",
       "    </tr>\n",
       "  </tbody>\n",
       "</table>\n",
       "</div>"
      ],
      "text/plain": [
       "      Zip_code     opioid  number_occurrences      logn\n",
       "2090       152   Fentanyl              143252  5.156101\n",
       "7641       452  Oxycodone              133084  5.124126\n",
       "940         71  Oxycodone              132565  5.122429\n",
       "914         70  Oxycodone              124923  5.096642\n",
       "1139        80   Fentanyl              124281  5.094405"
      ]
     },
     "execution_count": 20,
     "metadata": {},
     "output_type": "execute_result"
    }
   ],
   "source": [
    "ap.head()"
   ]
  },
  {
   "cell_type": "code",
   "execution_count": 22,
   "metadata": {
    "collapsed": true
   },
   "outputs": [],
   "source": [
    "comb1 = comb[comb[\"opioid\"].apply(lambda x: True if x in [\"Fentanyl\", \"Morphine\", \"Oxycodone\"] else False)]\n",
    "comb1 = comb1[comb1[\"Admit_year\"].apply(lambda x: True if x > 2008 and x < 2016 else False)]\n",
    "comb1 = pd.concat([comb1, comb1[\"Zip_code\"].apply(zip_locator).to_frame(name=\"region_name\")], axis=1)"
   ]
  },
  {
   "cell_type": "code",
   "execution_count": 23,
   "metadata": {
    "collapsed": false,
    "scrolled": true
   },
   "outputs": [
    {
     "data": {
      "text/html": [
       "<div>\n",
       "<style scoped>\n",
       "    .dataframe tbody tr th:only-of-type {\n",
       "        vertical-align: middle;\n",
       "    }\n",
       "\n",
       "    .dataframe tbody tr th {\n",
       "        vertical-align: top;\n",
       "    }\n",
       "\n",
       "    .dataframe thead th {\n",
       "        text-align: right;\n",
       "    }\n",
       "</style>\n",
       "<table border=\"1\" class=\"dataframe\">\n",
       "  <thead>\n",
       "    <tr style=\"text-align: right;\">\n",
       "      <th></th>\n",
       "      <th>Zip_code</th>\n",
       "      <th>Admit_year</th>\n",
       "      <th>opioid</th>\n",
       "      <th>number_occurrences</th>\n",
       "      <th>region_name</th>\n",
       "    </tr>\n",
       "  </thead>\n",
       "  <tbody>\n",
       "    <tr>\n",
       "      <th>55284</th>\n",
       "      <td>452</td>\n",
       "      <td>2011</td>\n",
       "      <td>Oxycodone</td>\n",
       "      <td>38836</td>\n",
       "      <td>Cincinnati, OH</td>\n",
       "    </tr>\n",
       "    <tr>\n",
       "      <th>55283</th>\n",
       "      <td>452</td>\n",
       "      <td>2010</td>\n",
       "      <td>Oxycodone</td>\n",
       "      <td>33870</td>\n",
       "      <td>Cincinnati, OH</td>\n",
       "    </tr>\n",
       "    <tr>\n",
       "      <th>53015</th>\n",
       "      <td>71</td>\n",
       "      <td>2011</td>\n",
       "      <td>Oxycodone</td>\n",
       "      <td>32562</td>\n",
       "      <td>Newark, NJ</td>\n",
       "    </tr>\n",
       "    <tr>\n",
       "      <th>53013</th>\n",
       "      <td>71</td>\n",
       "      <td>2009</td>\n",
       "      <td>Oxycodone</td>\n",
       "      <td>32252</td>\n",
       "      <td>Newark, NJ</td>\n",
       "    </tr>\n",
       "    <tr>\n",
       "      <th>53014</th>\n",
       "      <td>71</td>\n",
       "      <td>2010</td>\n",
       "      <td>Oxycodone</td>\n",
       "      <td>32100</td>\n",
       "      <td>Newark, NJ</td>\n",
       "    </tr>\n",
       "    <tr>\n",
       "      <th>53004</th>\n",
       "      <td>70</td>\n",
       "      <td>2009</td>\n",
       "      <td>Oxycodone</td>\n",
       "      <td>31126</td>\n",
       "      <td>Newark, NJ</td>\n",
       "    </tr>\n",
       "    <tr>\n",
       "      <th>55282</th>\n",
       "      <td>452</td>\n",
       "      <td>2009</td>\n",
       "      <td>Oxycodone</td>\n",
       "      <td>30879</td>\n",
       "      <td>Cincinnati, OH</td>\n",
       "    </tr>\n",
       "    <tr>\n",
       "      <th>10343</th>\n",
       "      <td>152</td>\n",
       "      <td>2010</td>\n",
       "      <td>Fentanyl</td>\n",
       "      <td>30578</td>\n",
       "      <td>Pittsburgh, PA</td>\n",
       "    </tr>\n",
       "    <tr>\n",
       "      <th>53005</th>\n",
       "      <td>70</td>\n",
       "      <td>2010</td>\n",
       "      <td>Oxycodone</td>\n",
       "      <td>30075</td>\n",
       "      <td>Newark, NJ</td>\n",
       "    </tr>\n",
       "    <tr>\n",
       "      <th>53006</th>\n",
       "      <td>70</td>\n",
       "      <td>2011</td>\n",
       "      <td>Oxycodone</td>\n",
       "      <td>28733</td>\n",
       "      <td>Newark, NJ</td>\n",
       "    </tr>\n",
       "    <tr>\n",
       "      <th>55285</th>\n",
       "      <td>452</td>\n",
       "      <td>2012</td>\n",
       "      <td>Oxycodone</td>\n",
       "      <td>28459</td>\n",
       "      <td>Cincinnati, OH</td>\n",
       "    </tr>\n",
       "    <tr>\n",
       "      <th>11217</th>\n",
       "      <td>275</td>\n",
       "      <td>2011</td>\n",
       "      <td>Fentanyl</td>\n",
       "      <td>28367</td>\n",
       "      <td>Raleigh, NC</td>\n",
       "    </tr>\n",
       "    <tr>\n",
       "      <th>11216</th>\n",
       "      <td>275</td>\n",
       "      <td>2010</td>\n",
       "      <td>Fentanyl</td>\n",
       "      <td>27374</td>\n",
       "      <td>Raleigh, NC</td>\n",
       "    </tr>\n",
       "    <tr>\n",
       "      <th>11233</th>\n",
       "      <td>277</td>\n",
       "      <td>2011</td>\n",
       "      <td>Fentanyl</td>\n",
       "      <td>26663</td>\n",
       "      <td>Durham, NC</td>\n",
       "    </tr>\n",
       "    <tr>\n",
       "      <th>11232</th>\n",
       "      <td>277</td>\n",
       "      <td>2010</td>\n",
       "      <td>Fentanyl</td>\n",
       "      <td>25428</td>\n",
       "      <td>Durham, NC</td>\n",
       "    </tr>\n",
       "    <tr>\n",
       "      <th>10344</th>\n",
       "      <td>152</td>\n",
       "      <td>2011</td>\n",
       "      <td>Fentanyl</td>\n",
       "      <td>24714</td>\n",
       "      <td>Pittsburgh, PA</td>\n",
       "    </tr>\n",
       "    <tr>\n",
       "      <th>9914</th>\n",
       "      <td>80</td>\n",
       "      <td>2010</td>\n",
       "      <td>Fentanyl</td>\n",
       "      <td>24450</td>\n",
       "      <td>southern NJ</td>\n",
       "    </tr>\n",
       "    <tr>\n",
       "      <th>9915</th>\n",
       "      <td>80</td>\n",
       "      <td>2011</td>\n",
       "      <td>Fentanyl</td>\n",
       "      <td>24330</td>\n",
       "      <td>southern NJ</td>\n",
       "    </tr>\n",
       "    <tr>\n",
       "      <th>10342</th>\n",
       "      <td>152</td>\n",
       "      <td>2009</td>\n",
       "      <td>Fentanyl</td>\n",
       "      <td>24107</td>\n",
       "      <td>Pittsburgh, PA</td>\n",
       "    </tr>\n",
       "    <tr>\n",
       "      <th>9822</th>\n",
       "      <td>70</td>\n",
       "      <td>2010</td>\n",
       "      <td>Fentanyl</td>\n",
       "      <td>23337</td>\n",
       "      <td>Newark, NJ</td>\n",
       "    </tr>\n",
       "    <tr>\n",
       "      <th>9823</th>\n",
       "      <td>70</td>\n",
       "      <td>2011</td>\n",
       "      <td>Fentanyl</td>\n",
       "      <td>22840</td>\n",
       "      <td>Newark, NJ</td>\n",
       "    </tr>\n",
       "    <tr>\n",
       "      <th>54281</th>\n",
       "      <td>277</td>\n",
       "      <td>2011</td>\n",
       "      <td>Oxycodone</td>\n",
       "      <td>22662</td>\n",
       "      <td>Durham, NC</td>\n",
       "    </tr>\n",
       "    <tr>\n",
       "      <th>11215</th>\n",
       "      <td>275</td>\n",
       "      <td>2009</td>\n",
       "      <td>Fentanyl</td>\n",
       "      <td>22471</td>\n",
       "      <td>Raleigh, NC</td>\n",
       "    </tr>\n",
       "    <tr>\n",
       "      <th>54280</th>\n",
       "      <td>277</td>\n",
       "      <td>2010</td>\n",
       "      <td>Oxycodone</td>\n",
       "      <td>21865</td>\n",
       "      <td>Durham, NC</td>\n",
       "    </tr>\n",
       "    <tr>\n",
       "      <th>24824</th>\n",
       "      <td>606</td>\n",
       "      <td>2010</td>\n",
       "      <td>Morphine</td>\n",
       "      <td>21836</td>\n",
       "      <td>Chicago, IL</td>\n",
       "    </tr>\n",
       "    <tr>\n",
       "      <th>13778</th>\n",
       "      <td>740</td>\n",
       "      <td>2009</td>\n",
       "      <td>Fentanyl</td>\n",
       "      <td>21212</td>\n",
       "      <td>Tulsa, OK</td>\n",
       "    </tr>\n",
       "    <tr>\n",
       "      <th>10346</th>\n",
       "      <td>152</td>\n",
       "      <td>2013</td>\n",
       "      <td>Fentanyl</td>\n",
       "      <td>20939</td>\n",
       "      <td>Pittsburgh, PA</td>\n",
       "    </tr>\n",
       "    <tr>\n",
       "      <th>11218</th>\n",
       "      <td>275</td>\n",
       "      <td>2012</td>\n",
       "      <td>Fentanyl</td>\n",
       "      <td>20582</td>\n",
       "      <td>Raleigh, NC</td>\n",
       "    </tr>\n",
       "    <tr>\n",
       "      <th>10345</th>\n",
       "      <td>152</td>\n",
       "      <td>2012</td>\n",
       "      <td>Fentanyl</td>\n",
       "      <td>20570</td>\n",
       "      <td>Pittsburgh, PA</td>\n",
       "    </tr>\n",
       "    <tr>\n",
       "      <th>24823</th>\n",
       "      <td>606</td>\n",
       "      <td>2009</td>\n",
       "      <td>Morphine</td>\n",
       "      <td>20496</td>\n",
       "      <td>Chicago, IL</td>\n",
       "    </tr>\n",
       "    <tr>\n",
       "      <th>...</th>\n",
       "      <td>...</td>\n",
       "      <td>...</td>\n",
       "      <td>...</td>\n",
       "      <td>...</td>\n",
       "      <td>...</td>\n",
       "    </tr>\n",
       "    <tr>\n",
       "      <th>13035</th>\n",
       "      <td>596</td>\n",
       "      <td>2015</td>\n",
       "      <td>Fentanyl</td>\n",
       "      <td>1</td>\n",
       "      <td>Helena, MT</td>\n",
       "    </tr>\n",
       "    <tr>\n",
       "      <th>55662</th>\n",
       "      <td>564</td>\n",
       "      <td>2010</td>\n",
       "      <td>Oxycodone</td>\n",
       "      <td>1</td>\n",
       "      <td>Brainerd, MN</td>\n",
       "    </tr>\n",
       "    <tr>\n",
       "      <th>15025</th>\n",
       "      <td>973</td>\n",
       "      <td>2013</td>\n",
       "      <td>Fentanyl</td>\n",
       "      <td>1</td>\n",
       "      <td>Salem, OR</td>\n",
       "    </tr>\n",
       "    <tr>\n",
       "      <th>55663</th>\n",
       "      <td>564</td>\n",
       "      <td>2013</td>\n",
       "      <td>Oxycodone</td>\n",
       "      <td>1</td>\n",
       "      <td>Brainerd, MN</td>\n",
       "    </tr>\n",
       "    <tr>\n",
       "      <th>55707</th>\n",
       "      <td>598</td>\n",
       "      <td>2012</td>\n",
       "      <td>Oxycodone</td>\n",
       "      <td>1</td>\n",
       "      <td>Missoula, MT</td>\n",
       "    </tr>\n",
       "    <tr>\n",
       "      <th>55705</th>\n",
       "      <td>598</td>\n",
       "      <td>2010</td>\n",
       "      <td>Oxycodone</td>\n",
       "      <td>1</td>\n",
       "      <td>Missoula, MT</td>\n",
       "    </tr>\n",
       "    <tr>\n",
       "      <th>52793</th>\n",
       "      <td>26</td>\n",
       "      <td>2011</td>\n",
       "      <td>Oxycodone</td>\n",
       "      <td>1</td>\n",
       "      <td>Cape Cod, MA</td>\n",
       "    </tr>\n",
       "    <tr>\n",
       "      <th>55703</th>\n",
       "      <td>597</td>\n",
       "      <td>2014</td>\n",
       "      <td>Oxycodone</td>\n",
       "      <td>1</td>\n",
       "      <td>Butte, MT</td>\n",
       "    </tr>\n",
       "    <tr>\n",
       "      <th>55702</th>\n",
       "      <td>597</td>\n",
       "      <td>2013</td>\n",
       "      <td>Oxycodone</td>\n",
       "      <td>1</td>\n",
       "      <td>Butte, MT</td>\n",
       "    </tr>\n",
       "    <tr>\n",
       "      <th>55700</th>\n",
       "      <td>596</td>\n",
       "      <td>2014</td>\n",
       "      <td>Oxycodone</td>\n",
       "      <td>1</td>\n",
       "      <td>Helena, MT</td>\n",
       "    </tr>\n",
       "    <tr>\n",
       "      <th>55699</th>\n",
       "      <td>596</td>\n",
       "      <td>2012</td>\n",
       "      <td>Oxycodone</td>\n",
       "      <td>1</td>\n",
       "      <td>Helena, MT</td>\n",
       "    </tr>\n",
       "    <tr>\n",
       "      <th>55697</th>\n",
       "      <td>596</td>\n",
       "      <td>2010</td>\n",
       "      <td>Oxycodone</td>\n",
       "      <td>1</td>\n",
       "      <td>Helena, MT</td>\n",
       "    </tr>\n",
       "    <tr>\n",
       "      <th>55696</th>\n",
       "      <td>594</td>\n",
       "      <td>2013</td>\n",
       "      <td>Oxycodone</td>\n",
       "      <td>1</td>\n",
       "      <td>Great Falls, MT</td>\n",
       "    </tr>\n",
       "    <tr>\n",
       "      <th>13041</th>\n",
       "      <td>597</td>\n",
       "      <td>2015</td>\n",
       "      <td>Fentanyl</td>\n",
       "      <td>1</td>\n",
       "      <td>Butte, MT</td>\n",
       "    </tr>\n",
       "    <tr>\n",
       "      <th>55693</th>\n",
       "      <td>590</td>\n",
       "      <td>2013</td>\n",
       "      <td>Oxycodone</td>\n",
       "      <td>1</td>\n",
       "      <td>Billings, MT</td>\n",
       "    </tr>\n",
       "    <tr>\n",
       "      <th>55690</th>\n",
       "      <td>587</td>\n",
       "      <td>2015</td>\n",
       "      <td>Oxycodone</td>\n",
       "      <td>1</td>\n",
       "      <td>Minot, ND</td>\n",
       "    </tr>\n",
       "    <tr>\n",
       "      <th>55689</th>\n",
       "      <td>586</td>\n",
       "      <td>2014</td>\n",
       "      <td>Oxycodone</td>\n",
       "      <td>1</td>\n",
       "      <td>Bismarck, ND</td>\n",
       "    </tr>\n",
       "    <tr>\n",
       "      <th>55681</th>\n",
       "      <td>577</td>\n",
       "      <td>2013</td>\n",
       "      <td>Oxycodone</td>\n",
       "      <td>1</td>\n",
       "      <td>Rapid City, SD</td>\n",
       "    </tr>\n",
       "    <tr>\n",
       "      <th>55680</th>\n",
       "      <td>577</td>\n",
       "      <td>2012</td>\n",
       "      <td>Oxycodone</td>\n",
       "      <td>1</td>\n",
       "      <td>Rapid City, SD</td>\n",
       "    </tr>\n",
       "    <tr>\n",
       "      <th>55678</th>\n",
       "      <td>577</td>\n",
       "      <td>2010</td>\n",
       "      <td>Oxycodone</td>\n",
       "      <td>1</td>\n",
       "      <td>Rapid City, SD</td>\n",
       "    </tr>\n",
       "    <tr>\n",
       "      <th>55677</th>\n",
       "      <td>575</td>\n",
       "      <td>2011</td>\n",
       "      <td>Oxycodone</td>\n",
       "      <td>1</td>\n",
       "      <td>Pierre, SD</td>\n",
       "    </tr>\n",
       "    <tr>\n",
       "      <th>55676</th>\n",
       "      <td>574</td>\n",
       "      <td>2009</td>\n",
       "      <td>Oxycodone</td>\n",
       "      <td>1</td>\n",
       "      <td>Aberdeen, SD</td>\n",
       "    </tr>\n",
       "    <tr>\n",
       "      <th>55675</th>\n",
       "      <td>573</td>\n",
       "      <td>2009</td>\n",
       "      <td>Oxycodone</td>\n",
       "      <td>1</td>\n",
       "      <td>Dakota Central, SD</td>\n",
       "    </tr>\n",
       "    <tr>\n",
       "      <th>23253</th>\n",
       "      <td>292</td>\n",
       "      <td>2015</td>\n",
       "      <td>Morphine</td>\n",
       "      <td>1</td>\n",
       "      <td>Columbia, SC</td>\n",
       "    </tr>\n",
       "    <tr>\n",
       "      <th>55673</th>\n",
       "      <td>571</td>\n",
       "      <td>2014</td>\n",
       "      <td>Oxycodone</td>\n",
       "      <td>1</td>\n",
       "      <td>Sioux Falls, SD</td>\n",
       "    </tr>\n",
       "    <tr>\n",
       "      <th>24873</th>\n",
       "      <td>613</td>\n",
       "      <td>2015</td>\n",
       "      <td>Morphine</td>\n",
       "      <td>1</td>\n",
       "      <td>La Salle, IL</td>\n",
       "    </tr>\n",
       "    <tr>\n",
       "      <th>55669</th>\n",
       "      <td>571</td>\n",
       "      <td>2010</td>\n",
       "      <td>Oxycodone</td>\n",
       "      <td>1</td>\n",
       "      <td>Sioux Falls, SD</td>\n",
       "    </tr>\n",
       "    <tr>\n",
       "      <th>55666</th>\n",
       "      <td>567</td>\n",
       "      <td>2014</td>\n",
       "      <td>Oxycodone</td>\n",
       "      <td>1</td>\n",
       "      <td>Grand Forks, ND</td>\n",
       "    </tr>\n",
       "    <tr>\n",
       "      <th>55664</th>\n",
       "      <td>565</td>\n",
       "      <td>2012</td>\n",
       "      <td>Oxycodone</td>\n",
       "      <td>1</td>\n",
       "      <td>Detroit Lakes, MN</td>\n",
       "    </tr>\n",
       "    <tr>\n",
       "      <th>22663</th>\n",
       "      <td>206</td>\n",
       "      <td>2013</td>\n",
       "      <td>Morphine</td>\n",
       "      <td>1</td>\n",
       "      <td>southern MD</td>\n",
       "    </tr>\n",
       "  </tbody>\n",
       "</table>\n",
       "<p>14742 rows × 5 columns</p>\n",
       "</div>"
      ],
      "text/plain": [
       "       Zip_code  Admit_year     opioid  number_occurrences         region_name\n",
       "55284       452        2011  Oxycodone               38836      Cincinnati, OH\n",
       "55283       452        2010  Oxycodone               33870      Cincinnati, OH\n",
       "53015        71        2011  Oxycodone               32562          Newark, NJ\n",
       "53013        71        2009  Oxycodone               32252          Newark, NJ\n",
       "53014        71        2010  Oxycodone               32100          Newark, NJ\n",
       "53004        70        2009  Oxycodone               31126          Newark, NJ\n",
       "55282       452        2009  Oxycodone               30879      Cincinnati, OH\n",
       "10343       152        2010   Fentanyl               30578      Pittsburgh, PA\n",
       "53005        70        2010  Oxycodone               30075          Newark, NJ\n",
       "53006        70        2011  Oxycodone               28733          Newark, NJ\n",
       "55285       452        2012  Oxycodone               28459      Cincinnati, OH\n",
       "11217       275        2011   Fentanyl               28367         Raleigh, NC\n",
       "11216       275        2010   Fentanyl               27374         Raleigh, NC\n",
       "11233       277        2011   Fentanyl               26663          Durham, NC\n",
       "11232       277        2010   Fentanyl               25428          Durham, NC\n",
       "10344       152        2011   Fentanyl               24714      Pittsburgh, PA\n",
       "9914         80        2010   Fentanyl               24450         southern NJ\n",
       "9915         80        2011   Fentanyl               24330         southern NJ\n",
       "10342       152        2009   Fentanyl               24107      Pittsburgh, PA\n",
       "9822         70        2010   Fentanyl               23337          Newark, NJ\n",
       "9823         70        2011   Fentanyl               22840          Newark, NJ\n",
       "54281       277        2011  Oxycodone               22662          Durham, NC\n",
       "11215       275        2009   Fentanyl               22471         Raleigh, NC\n",
       "54280       277        2010  Oxycodone               21865          Durham, NC\n",
       "24824       606        2010   Morphine               21836         Chicago, IL\n",
       "13778       740        2009   Fentanyl               21212           Tulsa, OK\n",
       "10346       152        2013   Fentanyl               20939      Pittsburgh, PA\n",
       "11218       275        2012   Fentanyl               20582         Raleigh, NC\n",
       "10345       152        2012   Fentanyl               20570      Pittsburgh, PA\n",
       "24823       606        2009   Morphine               20496         Chicago, IL\n",
       "...         ...         ...        ...                 ...                 ...\n",
       "13035       596        2015   Fentanyl                   1          Helena, MT\n",
       "55662       564        2010  Oxycodone                   1        Brainerd, MN\n",
       "15025       973        2013   Fentanyl                   1           Salem, OR\n",
       "55663       564        2013  Oxycodone                   1        Brainerd, MN\n",
       "55707       598        2012  Oxycodone                   1        Missoula, MT\n",
       "55705       598        2010  Oxycodone                   1        Missoula, MT\n",
       "52793        26        2011  Oxycodone                   1        Cape Cod, MA\n",
       "55703       597        2014  Oxycodone                   1           Butte, MT\n",
       "55702       597        2013  Oxycodone                   1           Butte, MT\n",
       "55700       596        2014  Oxycodone                   1          Helena, MT\n",
       "55699       596        2012  Oxycodone                   1          Helena, MT\n",
       "55697       596        2010  Oxycodone                   1          Helena, MT\n",
       "55696       594        2013  Oxycodone                   1     Great Falls, MT\n",
       "13041       597        2015   Fentanyl                   1           Butte, MT\n",
       "55693       590        2013  Oxycodone                   1        Billings, MT\n",
       "55690       587        2015  Oxycodone                   1           Minot, ND\n",
       "55689       586        2014  Oxycodone                   1        Bismarck, ND\n",
       "55681       577        2013  Oxycodone                   1      Rapid City, SD\n",
       "55680       577        2012  Oxycodone                   1      Rapid City, SD\n",
       "55678       577        2010  Oxycodone                   1      Rapid City, SD\n",
       "55677       575        2011  Oxycodone                   1          Pierre, SD\n",
       "55676       574        2009  Oxycodone                   1        Aberdeen, SD\n",
       "55675       573        2009  Oxycodone                   1  Dakota Central, SD\n",
       "23253       292        2015   Morphine                   1        Columbia, SC\n",
       "55673       571        2014  Oxycodone                   1     Sioux Falls, SD\n",
       "24873       613        2015   Morphine                   1        La Salle, IL\n",
       "55669       571        2010  Oxycodone                   1     Sioux Falls, SD\n",
       "55666       567        2014  Oxycodone                   1     Grand Forks, ND\n",
       "55664       565        2012  Oxycodone                   1   Detroit Lakes, MN\n",
       "22663       206        2013   Morphine                   1         southern MD\n",
       "\n",
       "[14742 rows x 5 columns]"
      ]
     },
     "execution_count": 23,
     "metadata": {},
     "output_type": "execute_result"
    }
   ],
   "source": [
    "comb1.sort_values(\"number_occurrences\", ascending=False)"
   ]
  },
  {
   "cell_type": "code",
   "execution_count": 11,
   "metadata": {
    "collapsed": true
   },
   "outputs": [],
   "source": [
    "comb1.to_csv(\"comb1.tsv\", sep=\"\\t\", index=None)"
   ]
  },
  {
   "cell_type": "code",
   "execution_count": 24,
   "metadata": {
    "collapsed": true
   },
   "outputs": [],
   "source": [
    "a = set(comb1[comb1[\"number_occurrences\"] > 10000][\"Zip_code\"])"
   ]
  },
  {
   "cell_type": "code",
   "execution_count": 25,
   "metadata": {
    "collapsed": false
   },
   "outputs": [
    {
     "name": "stdout",
     "output_type": "stream",
     "text": [
      "(649, 5)\n"
     ]
    }
   ],
   "source": [
    "comb1 = comb1[comb1[\"Zip_code\"].apply(lambda x: True if x in a else False)]\n",
    "print (comb1.shape)"
   ]
  },
  {
   "cell_type": "code",
   "execution_count": 26,
   "metadata": {
    "collapsed": true
   },
   "outputs": [],
   "source": [
    "comb1.to_csv(\"comb1_few.tsv\", sep=\"\\t\", index=None)"
   ]
  },
  {
   "cell_type": "code",
   "execution_count": 29,
   "metadata": {
    "collapsed": false
   },
   "outputs": [
    {
     "data": {
      "text/plain": [
       "{'Anaheim, CA': {'Zip_code': 928},\n",
       " 'Camden, NJ': {'Zip_code': 81},\n",
       " 'Chicago, IL': {'Zip_code': 606},\n",
       " 'Cincinnati, OH': {'Zip_code': 452},\n",
       " 'Durham, NC': {'Zip_code': 277},\n",
       " 'Fort Lauderdale, FL': {'Zip_code': 333},\n",
       " 'Forth Worth, TX': {'Zip_code': 761},\n",
       " 'Greensburg, PA': {'Zip_code': 156},\n",
       " 'Jackson, TN': {'Zip_code': 383},\n",
       " 'Jacksonville, FL': {'Zip_code': 322},\n",
       " 'Macon, GA': {'Zip_code': 312},\n",
       " 'Miami, FL': {'Zip_code': 331},\n",
       " 'Monmouth, NJ': {'Zip_code': 87},\n",
       " 'Newark, NJ': {'Zip_code': 71},\n",
       " 'Norfolk, VA': {'Zip_code': 236},\n",
       " 'Pittsburgh, PA': {'Zip_code': 152},\n",
       " 'Raleigh, NC': {'Zip_code': 276},\n",
       " 'Tulsa, OK': {'Zip_code': 741},\n",
       " 'Waycross, GA': {'Zip_code': 315},\n",
       " 'north-western AR': {'Zip_code': 727},\n",
       " 'northern TX': {'Zip_code': 750},\n",
       " 'southern NJ': {'Zip_code': 82}}"
      ]
     },
     "execution_count": 29,
     "metadata": {},
     "output_type": "execute_result"
    }
   ],
   "source": [
    "comb1[[\"Zip_code\", \"region_name\"]].set_index(\"region_name\").to_dict(orient=\"index\")"
   ]
  },
  {
   "cell_type": "code",
   "execution_count": 20,
   "metadata": {
    "collapsed": false
   },
   "outputs": [
    {
     "data": {
      "text/html": [
       "<div>\n",
       "<style scoped>\n",
       "    .dataframe tbody tr th:only-of-type {\n",
       "        vertical-align: middle;\n",
       "    }\n",
       "\n",
       "    .dataframe tbody tr th {\n",
       "        vertical-align: top;\n",
       "    }\n",
       "\n",
       "    .dataframe thead th {\n",
       "        text-align: right;\n",
       "    }\n",
       "</style>\n",
       "<table border=\"1\" class=\"dataframe\">\n",
       "  <thead>\n",
       "    <tr style=\"text-align: right;\">\n",
       "      <th></th>\n",
       "      <th>Zip_code</th>\n",
       "      <th>Admit_year</th>\n",
       "      <th>opioid</th>\n",
       "      <th>number_occurrences</th>\n",
       "      <th>region_name</th>\n",
       "    </tr>\n",
       "  </thead>\n",
       "  <tbody>\n",
       "    <tr>\n",
       "      <th>9922</th>\n",
       "      <td>81</td>\n",
       "      <td>2009</td>\n",
       "      <td>Fentanyl</td>\n",
       "      <td>8781</td>\n",
       "      <td>Camden, NJ</td>\n",
       "    </tr>\n",
       "    <tr>\n",
       "      <th>9923</th>\n",
       "      <td>81</td>\n",
       "      <td>2010</td>\n",
       "      <td>Fentanyl</td>\n",
       "      <td>9933</td>\n",
       "      <td>Camden, NJ</td>\n",
       "    </tr>\n",
       "    <tr>\n",
       "      <th>9924</th>\n",
       "      <td>81</td>\n",
       "      <td>2011</td>\n",
       "      <td>Fentanyl</td>\n",
       "      <td>11292</td>\n",
       "      <td>Camden, NJ</td>\n",
       "    </tr>\n",
       "    <tr>\n",
       "      <th>9925</th>\n",
       "      <td>81</td>\n",
       "      <td>2012</td>\n",
       "      <td>Fentanyl</td>\n",
       "      <td>7983</td>\n",
       "      <td>Camden, NJ</td>\n",
       "    </tr>\n",
       "    <tr>\n",
       "      <th>9926</th>\n",
       "      <td>81</td>\n",
       "      <td>2013</td>\n",
       "      <td>Fentanyl</td>\n",
       "      <td>6914</td>\n",
       "      <td>Camden, NJ</td>\n",
       "    </tr>\n",
       "    <tr>\n",
       "      <th>9927</th>\n",
       "      <td>81</td>\n",
       "      <td>2014</td>\n",
       "      <td>Fentanyl</td>\n",
       "      <td>5986</td>\n",
       "      <td>Camden, NJ</td>\n",
       "    </tr>\n",
       "    <tr>\n",
       "      <th>9928</th>\n",
       "      <td>81</td>\n",
       "      <td>2015</td>\n",
       "      <td>Fentanyl</td>\n",
       "      <td>2561</td>\n",
       "      <td>Camden, NJ</td>\n",
       "    </tr>\n",
       "    <tr>\n",
       "      <th>9929</th>\n",
       "      <td>81</td>\n",
       "      <td>2016</td>\n",
       "      <td>Fentanyl</td>\n",
       "      <td>12</td>\n",
       "      <td>Camden, NJ</td>\n",
       "    </tr>\n",
       "    <tr>\n",
       "      <th>21959</th>\n",
       "      <td>81</td>\n",
       "      <td>2009</td>\n",
       "      <td>Morphine</td>\n",
       "      <td>1344</td>\n",
       "      <td>Camden, NJ</td>\n",
       "    </tr>\n",
       "    <tr>\n",
       "      <th>21960</th>\n",
       "      <td>81</td>\n",
       "      <td>2010</td>\n",
       "      <td>Morphine</td>\n",
       "      <td>1039</td>\n",
       "      <td>Camden, NJ</td>\n",
       "    </tr>\n",
       "    <tr>\n",
       "      <th>21961</th>\n",
       "      <td>81</td>\n",
       "      <td>2011</td>\n",
       "      <td>Morphine</td>\n",
       "      <td>1323</td>\n",
       "      <td>Camden, NJ</td>\n",
       "    </tr>\n",
       "    <tr>\n",
       "      <th>21962</th>\n",
       "      <td>81</td>\n",
       "      <td>2012</td>\n",
       "      <td>Morphine</td>\n",
       "      <td>1154</td>\n",
       "      <td>Camden, NJ</td>\n",
       "    </tr>\n",
       "    <tr>\n",
       "      <th>21963</th>\n",
       "      <td>81</td>\n",
       "      <td>2013</td>\n",
       "      <td>Morphine</td>\n",
       "      <td>872</td>\n",
       "      <td>Camden, NJ</td>\n",
       "    </tr>\n",
       "    <tr>\n",
       "      <th>21964</th>\n",
       "      <td>81</td>\n",
       "      <td>2014</td>\n",
       "      <td>Morphine</td>\n",
       "      <td>797</td>\n",
       "      <td>Camden, NJ</td>\n",
       "    </tr>\n",
       "    <tr>\n",
       "      <th>21965</th>\n",
       "      <td>81</td>\n",
       "      <td>2015</td>\n",
       "      <td>Morphine</td>\n",
       "      <td>275</td>\n",
       "      <td>Camden, NJ</td>\n",
       "    </tr>\n",
       "    <tr>\n",
       "      <th>53100</th>\n",
       "      <td>81</td>\n",
       "      <td>2009</td>\n",
       "      <td>Oxycodone</td>\n",
       "      <td>1521</td>\n",
       "      <td>Camden, NJ</td>\n",
       "    </tr>\n",
       "    <tr>\n",
       "      <th>53101</th>\n",
       "      <td>81</td>\n",
       "      <td>2010</td>\n",
       "      <td>Oxycodone</td>\n",
       "      <td>1152</td>\n",
       "      <td>Camden, NJ</td>\n",
       "    </tr>\n",
       "    <tr>\n",
       "      <th>53102</th>\n",
       "      <td>81</td>\n",
       "      <td>2011</td>\n",
       "      <td>Oxycodone</td>\n",
       "      <td>1260</td>\n",
       "      <td>Camden, NJ</td>\n",
       "    </tr>\n",
       "    <tr>\n",
       "      <th>53103</th>\n",
       "      <td>81</td>\n",
       "      <td>2012</td>\n",
       "      <td>Oxycodone</td>\n",
       "      <td>1055</td>\n",
       "      <td>Camden, NJ</td>\n",
       "    </tr>\n",
       "    <tr>\n",
       "      <th>53104</th>\n",
       "      <td>81</td>\n",
       "      <td>2013</td>\n",
       "      <td>Oxycodone</td>\n",
       "      <td>598</td>\n",
       "      <td>Camden, NJ</td>\n",
       "    </tr>\n",
       "    <tr>\n",
       "      <th>53105</th>\n",
       "      <td>81</td>\n",
       "      <td>2014</td>\n",
       "      <td>Oxycodone</td>\n",
       "      <td>840</td>\n",
       "      <td>Camden, NJ</td>\n",
       "    </tr>\n",
       "    <tr>\n",
       "      <th>53106</th>\n",
       "      <td>81</td>\n",
       "      <td>2015</td>\n",
       "      <td>Oxycodone</td>\n",
       "      <td>320</td>\n",
       "      <td>Camden, NJ</td>\n",
       "    </tr>\n",
       "  </tbody>\n",
       "</table>\n",
       "</div>"
      ],
      "text/plain": [
       "       Zip_code  Admit_year     opioid  number_occurrences region_name\n",
       "9922         81        2009   Fentanyl                8781  Camden, NJ\n",
       "9923         81        2010   Fentanyl                9933  Camden, NJ\n",
       "9924         81        2011   Fentanyl               11292  Camden, NJ\n",
       "9925         81        2012   Fentanyl                7983  Camden, NJ\n",
       "9926         81        2013   Fentanyl                6914  Camden, NJ\n",
       "9927         81        2014   Fentanyl                5986  Camden, NJ\n",
       "9928         81        2015   Fentanyl                2561  Camden, NJ\n",
       "9929         81        2016   Fentanyl                  12  Camden, NJ\n",
       "21959        81        2009   Morphine                1344  Camden, NJ\n",
       "21960        81        2010   Morphine                1039  Camden, NJ\n",
       "21961        81        2011   Morphine                1323  Camden, NJ\n",
       "21962        81        2012   Morphine                1154  Camden, NJ\n",
       "21963        81        2013   Morphine                 872  Camden, NJ\n",
       "21964        81        2014   Morphine                 797  Camden, NJ\n",
       "21965        81        2015   Morphine                 275  Camden, NJ\n",
       "53100        81        2009  Oxycodone                1521  Camden, NJ\n",
       "53101        81        2010  Oxycodone                1152  Camden, NJ\n",
       "53102        81        2011  Oxycodone                1260  Camden, NJ\n",
       "53103        81        2012  Oxycodone                1055  Camden, NJ\n",
       "53104        81        2013  Oxycodone                 598  Camden, NJ\n",
       "53105        81        2014  Oxycodone                 840  Camden, NJ\n",
       "53106        81        2015  Oxycodone                 320  Camden, NJ"
      ]
     },
     "execution_count": 20,
     "metadata": {},
     "output_type": "execute_result"
    }
   ],
   "source": [
    "comb1[comb1[\"region_name\"] == 'Camden, NJ']"
   ]
  },
  {
   "cell_type": "code",
   "execution_count": null,
   "metadata": {
    "collapsed": true
   },
   "outputs": [],
   "source": [
    "comb1.to_csv(\"zip_code_count.tsv\", sep=\"\\t\", index=None)"
   ]
  },
  {
   "cell_type": "code",
   "execution_count": 54,
   "metadata": {
    "collapsed": false
   },
   "outputs": [
    {
     "data": {
      "text/plain": [
       "{'Acetaminophen-Codeine',\n",
       " 'Acetaminophen-Tramadol',\n",
       " 'Alfentanil',\n",
       " 'Aspirin-Codeine',\n",
       " 'Buprenorphine',\n",
       " 'Butorphanol',\n",
       " 'Codeine-Ibuprofen',\n",
       " 'Dextromoramide',\n",
       " 'Fentanyl',\n",
       " 'Heroin',\n",
       " 'Hydromorphone',\n",
       " 'Ibuprofen-Oxycodone',\n",
       " 'Meperidine',\n",
       " 'Methadone',\n",
       " 'Methylnaltrexone-bromide',\n",
       " 'Morphine',\n",
       " 'Nalbuphine',\n",
       " 'Naloxone',\n",
       " 'Naloxone-Oxycodone',\n",
       " 'Naltrexone-Oxycodone',\n",
       " 'Opium',\n",
       " 'Oxycodone',\n",
       " 'Papaveretum',\n",
       " 'Pentazocine',\n",
       " 'Pirinitramide',\n",
       " 'Propoxyphene',\n",
       " 'Sufentanil',\n",
       " 'Tramadol',\n",
       " 'alvimopan',\n",
       " 'dezocine',\n",
       " 'remifentanil',\n",
       " 'tapentadol'}"
      ]
     },
     "execution_count": 54,
     "metadata": {},
     "output_type": "execute_result"
    }
   ],
   "source": [
    "p = set(['Alfentanil', 'Codeine', 'Buprenorphine', 'Butorphanol','Dextromoramide',\n",
    "         'Fentanyl', 'Heroin', 'Hydromorphone', 'Meperidine', 'Methadone', 'Morphine', \n",
    "         'Nalbuphine', 'Opium','Oxycodone', 'Papaveretum', 'Pentazocine', \n",
    "         'Tapentadol', 'Sufentanil', 'Tramadol', 'Remifentanil'])"
   ]
  },
  {
   "cell_type": "code",
   "execution_count": null,
   "metadata": {
    "collapsed": true
   },
   "outputs": [],
   "source": []
  }
 ],
 "metadata": {
  "kernelspec": {
   "display_name": "Python 2",
   "language": "python",
   "name": "python2"
  },
  "language_info": {
   "codemirror_mode": {
    "name": "ipython",
    "version": 2
   },
   "file_extension": ".py",
   "mimetype": "text/x-python",
   "name": "python",
   "nbconvert_exporter": "python",
   "pygments_lexer": "ipython2",
   "version": "2.7.10"
  }
 },
 "nbformat": 4,
 "nbformat_minor": 2
}
