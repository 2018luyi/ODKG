{
 "cells": [
  {
   "cell_type": "markdown",
   "metadata": {},
   "source": [
    "### Import the Python packages"
   ]
  },
  {
   "cell_type": "code",
   "execution_count": 128,
   "metadata": {
    "collapsed": true
   },
   "outputs": [],
   "source": [
    "import rdflib\n",
    "import os, sys, json, re\n",
    "import pandas as pd\n",
    "import networkx as nx\n",
    "from copy import deepcopy"
   ]
  },
  {
   "cell_type": "markdown",
   "metadata": {},
   "source": [
    "### Read the RXNORM and ATC terminologies in Turtle format (downloaded from BioPortal website)"
   ]
  },
  {
   "cell_type": "code",
   "execution_count": 2,
   "metadata": {
    "collapsed": false
   },
   "outputs": [
    {
     "data": {
      "text/plain": [
       "<Graph identifier=Nb17982addba24159b35cfb9aa670fd0e (<class 'rdflib.graph.Graph'>)>"
      ]
     },
     "execution_count": 2,
     "metadata": {},
     "output_type": "execute_result"
    }
   ],
   "source": [
    "rxnorm = rdflib.Graph()\n",
    "rxnorm.parse(\"RXNORM.ttl\", format=\"turtle\") #http://bioportal.bioontology.org/ontologies/RXNORM\n",
    "atc = rdflib.Graph()\n",
    "atc.parse(\"ATC.ttl\", format=\"turtle\") #http://bioportal.bioontology.org/ontologies/ATC"
   ]
  },
  {
   "cell_type": "code",
   "execution_count": 62,
   "metadata": {
    "collapsed": true
   },
   "outputs": [],
   "source": [
    "# This is not required for this problem, since we start by selecting a set of ATC drug classes and navigate the graph, \n",
    "# but it is good to show RDF Lib allows this ...\n",
    "comb = rxnorm + atc"
   ]
  },
  {
   "cell_type": "markdown",
   "metadata": {},
   "source": [
    "### Exploring the RXNORM and ATC terminologies -- size, and predicates used"
   ]
  },
  {
   "cell_type": "code",
   "execution_count": 68,
   "metadata": {
    "collapsed": false
   },
   "outputs": [
    {
     "name": "stdout",
     "output_type": "stream",
     "text": [
      "2231734\n",
      "62567\n",
      "2293792\n"
     ]
    }
   ],
   "source": [
    "print len(rxnorm)\n",
    "print len(atc)\n",
    "print len(comb)"
   ]
  },
  {
   "cell_type": "code",
   "execution_count": 49,
   "metadata": {
    "collapsed": false
   },
   "outputs": [
    {
     "name": "stdout",
     "output_type": "stream",
     "text": [
      "(rdflib.term.URIRef(u'http://purl.bioontology.org/ontology/UATC/H01AC04'), rdflib.term.URIRef(u'http://bioportal.bioontology.org/ontologies/umls/tui'), rdflib.term.Literal(u'T116', datatype=rdflib.term.URIRef(u'http://www.w3.org/2001/XMLSchema#string')))\n"
     ]
    }
   ],
   "source": [
    "for m in atc:\n",
    "    print m\n",
    "    break"
   ]
  },
  {
   "cell_type": "code",
   "execution_count": 4,
   "metadata": {
    "collapsed": true
   },
   "outputs": [],
   "source": [
    "atcpreds = set([m for m in atc.predicates()])\n",
    "rxnormpreds = set([m for m in rxnorm.predicates()])"
   ]
  },
  {
   "cell_type": "code",
   "execution_count": 6,
   "metadata": {
    "collapsed": false
   },
   "outputs": [
    {
     "name": "stdout",
     "output_type": "stream",
     "text": [
      "http://purl.bioontology.org/ontology/UATC/IS_DRUG_CLASS\n",
      "http://bioportal.bioontology.org/ontologies/umls/cui\n",
      "http://www.w3.org/2002/07/owl#imports\n",
      "http://www.w3.org/1999/02/22-rdf-syntax-ns#type\n",
      "http://www.w3.org/2004/02/skos/core#prefLabel\n",
      "http://www.w3.org/2004/02/skos/core#notation\n",
      "http://www.w3.org/2004/02/skos/core#altLabel\n",
      "http://bioportal.bioontology.org/ontologies/umls/hasSTY\n",
      "http://www.w3.org/2000/01/rdf-schema#comment\n",
      "http://www.w3.org/2002/07/owl#versionInfo\n",
      "http://www.w3.org/2000/01/rdf-schema#subClassOf\n",
      "http://purl.bioontology.org/ontology/UATC/ATC_LEVEL\n",
      "http://www.w3.org/2000/01/rdf-schema#label\n",
      "http://bioportal.bioontology.org/ontologies/umls/tui\n"
     ]
    }
   ],
   "source": [
    "for m in atcpreds: print m"
   ]
  },
  {
   "cell_type": "code",
   "execution_count": 48,
   "metadata": {
    "collapsed": false,
    "scrolled": true
   },
   "outputs": [
    {
     "name": "stdout",
     "output_type": "stream",
     "text": [
      "http://purl.bioontology.org/ontology/RXNORM/AMBIGUITY_FLAG\n",
      "http://purl.bioontology.org/ontology/RXNORM/RXN_IN_EXPRESSED_FLAG\n",
      "http://purl.bioontology.org/ontology/RXNORM/RXN_QUANTITY\n",
      "http://www.w3.org/1999/02/22-rdf-syntax-ns#type\n",
      "http://purl.bioontology.org/ontology/RXNORM/has_doseformgroup\n",
      "http://purl.bioontology.org/ontology/RXNORM/has_ingredient\n",
      "http://purl.bioontology.org/ontology/RXNORM/contained_in\n",
      "http://www.w3.org/2004/02/skos/core#altLabel\n",
      "http://bioportal.bioontology.org/ontologies/umls/hasSTY\n",
      "http://purl.bioontology.org/ontology/RXNORM/RXN_STRENGTH\n",
      "http://www.w3.org/2000/01/rdf-schema#subClassOf\n",
      "http://www.w3.org/2004/02/skos/core#notation\n",
      "http://www.w3.org/2002/07/owl#versionInfo\n",
      "http://bioportal.bioontology.org/ontologies/umls/cui\n",
      "http://purl.bioontology.org/ontology/RXNORM/has_quantified_form\n",
      "http://purl.bioontology.org/ontology/RXNORM/part_of\n",
      "http://purl.bioontology.org/ontology/RXNORM/RXN_AVAILABLE_STRENGTH\n",
      "http://www.w3.org/2004/02/skos/core#prefLabel\n",
      "http://www.w3.org/2002/07/owl#imports\n",
      "http://purl.bioontology.org/ontology/RXNORM/RXN_BN_CARDINALITY\n",
      "http://purl.bioontology.org/ontology/RXNORM/RXN_QUALITATIVE_DISTINCTION\n",
      "http://purl.bioontology.org/ontology/RXNORM/tradename_of\n",
      "http://purl.bioontology.org/ontology/RXNORM/isa\n",
      "http://purl.bioontology.org/ontology/RXNORM/NDC\n",
      "http://purl.bioontology.org/ontology/RXNORM/dose_form_of\n",
      "http://purl.bioontology.org/ontology/RXNORM/reformulated_to\n",
      "http://purl.bioontology.org/ontology/RXNORM/RXTERM_FORM\n",
      "http://purl.bioontology.org/ontology/RXNORM/contains\n",
      "http://purl.bioontology.org/ontology/RXNORM/has_part\n",
      "http://purl.bioontology.org/ontology/RXNORM/constitutes\n",
      "http://purl.bioontology.org/ontology/RXNORM/precise_ingredient_of\n",
      "http://purl.bioontology.org/ontology/RXNORM/quantified_form_of\n",
      "http://www.w3.org/2000/01/rdf-schema#comment\n",
      "http://purl.bioontology.org/ontology/RXNORM/doseformgroup_of\n",
      "http://purl.bioontology.org/ontology/RXNORM/RXN_OBSOLETED\n",
      "http://purl.bioontology.org/ontology/RXNORM/has_ingredients\n",
      "http://purl.bioontology.org/ontology/RXNORM/consists_of\n",
      "http://purl.bioontology.org/ontology/RXNORM/inverse_isa\n",
      "http://purl.bioontology.org/ontology/RXNORM/RXN_HUMAN_DRUG\n",
      "http://bioportal.bioontology.org/ontologies/umls/tui\n",
      "http://purl.bioontology.org/ontology/RXNORM/ingredient_of\n",
      "http://purl.bioontology.org/ontology/RXNORM/ORIG_SOURCE\n",
      "http://purl.bioontology.org/ontology/RXNORM/RXAUI\n",
      "http://purl.bioontology.org/ontology/RXNORM/has_form\n",
      "http://purl.bioontology.org/ontology/RXNORM/has_tradename\n",
      "http://purl.bioontology.org/ontology/RXNORM/ingredients_of\n",
      "http://purl.bioontology.org/ontology/RXNORM/has_precise_ingredient\n",
      "http://purl.bioontology.org/ontology/RXNORM/RXCUI\n",
      "http://purl.bioontology.org/ontology/RXNORM/has_dose_form\n",
      "http://purl.bioontology.org/ontology/RXNORM/form_of\n",
      "http://purl.bioontology.org/ontology/RXNORM/ORIG_CODE\n",
      "http://purl.bioontology.org/ontology/RXNORM/RXN_ACTIVATED\n",
      "http://www.w3.org/2000/01/rdf-schema#label\n",
      "http://purl.bioontology.org/ontology/RXNORM/RXN_VET_DRUG\n",
      "http://purl.bioontology.org/ontology/RXNORM/reformulation_of\n"
     ]
    }
   ],
   "source": [
    "for m in rxnormpreds: print m"
   ]
  },
  {
   "cell_type": "markdown",
   "metadata": {},
   "source": [
    "### Based on the predicates -- Helper functions to extract content (drugs, CUIs, dose forms, etc.) from the RXNORM and ATC terminologies, related to Opioid-Drugs"
   ]
  },
  {
   "cell_type": "code",
   "execution_count": 131,
   "metadata": {
    "collapsed": true
   },
   "outputs": [],
   "source": [
    "UMLS_CUI_PRED = rdflib.term.URIRef(\"http://bioportal.bioontology.org/ontologies/umls/cui\")\n",
    "RXNORM_CUI_PRED = rdflib.term.URIRef(\"http://purl.bioontology.org/ontology/RXNORM/RXCUI\")\n",
    "\n",
    "def get_sample_subjects(pred, graph, size=10):\n",
    "    ccount = 0\n",
    "    subjects = []\n",
    "    for s in graph.subjects(predicate=pred):\n",
    "        ccount += 1\n",
    "        subjects.append(s)\n",
    "        if ccount > size: break\n",
    "    return subjects\n",
    "\n",
    "def get_sample_objects(pred, graph, size=10):\n",
    "    ccount = 0\n",
    "    objects = []\n",
    "    for o in graph.objects(predicate=pred):\n",
    "        ccount += 1\n",
    "        objects.append(o)\n",
    "        if ccount > size: break\n",
    "    return objects\n",
    "\n",
    "def get_children(uri, graph):\n",
    "    children = [m for m in graph.subjects(predicate=rdflib.RDFS.subClassOf, object=uri)]\n",
    "    return children\n",
    "\n",
    "def get_descendants(uri, graph, level=None):\n",
    "    # This retrieves all descendants as a list\n",
    "    descendants = set([])\n",
    "    parents = [uri]\n",
    "    lccount = 0\n",
    "    level = 10 if not level else level\n",
    "    while True:\n",
    "        lccount += 1\n",
    "        if lccount > level: break\n",
    "        children = set([])\n",
    "        for k in parents: \n",
    "            children = children.union(set(get_children(k, graph)))\n",
    "        parents = children\n",
    "        descendants = descendants.union(children)\n",
    "        if len(parents) == 0: break\n",
    "    return descendants\n",
    "\n",
    "def get_descendants_hier(uri, graph, level=None):\n",
    "    # This retrieves all descendants as a directed tree/network\n",
    "    descendants = nx.DiGraph()\n",
    "    parents = [uri]\n",
    "    lccount = 0\n",
    "    level = 10 if not level else level\n",
    "    descendants.add_node(uri)\n",
    "    while True:\n",
    "        lccount += 1\n",
    "        if lccount > level: break\n",
    "        children = set([])\n",
    "        for k in parents: \n",
    "            _children = set(get_children(k, graph))\n",
    "            for m in _children: descendants.add_edge(k, m, etype=\"subclassOf\")\n",
    "            children = children.union(_children)\n",
    "        parents = children\n",
    "        if len(parents) == 0: break\n",
    "    return descendants\n",
    "\n",
    "def get_preferred_label(uri, graph):\n",
    "    labels = [k[1].n3() for k in graph.preferredLabel(uri)]\n",
    "    return labels\n",
    "\n",
    "def get_objects(uri, pred, graph):\n",
    "    objects = []\n",
    "    for o in graph.objects(subject=uri, predicate=pred): objects.append(o)\n",
    "    return objects\n",
    "\n",
    "def get_subjects(uri, pred, graph):\n",
    "    subjects = []\n",
    "    for s in graph.subjects(object=uri, predicate=pred): subjects.append(s)\n",
    "    return subjects\n",
    "\n",
    "def get_cui_codes(uri, graph):\n",
    "    objects = get_objects(uri, UMLS_CUI_PRED, graph)\n",
    "    return objects\n",
    "\n",
    "def get_rxcui_codes(uri, graph):\n",
    "    objects = get_objects(uri, RXNORM_CUI_PRED, graph)\n",
    "    return objects\n",
    "\n",
    "def get_rxnorm_ids(uri, graph):\n",
    "    #get rxnorm ids likned to a cui\n",
    "    subjects = get_subjects(uri, UMLS_CUI_PRED, graph)\n",
    "    return subjects\n",
    "\n",
    "first_cap_re = re.compile('(.)([A-Z][a-z]+)')\n",
    "all_cap_re = re.compile('([a-z0-9])([A-Z])')\n",
    "\n",
    "def parse_camel_case(name):\n",
    "    s1 = first_cap_re.sub(r'\\1_\\2', name)\n",
    "    return all_cap_re.sub(r'\\1_\\2', s1).lower()\n",
    "\n",
    "def parse_uri_token(token):\n",
    "    prop = parse_camel_case(token)\n",
    "    pparts = re.split(\"[-_]\", prop)\n",
    "    name = \" \".join([x.title() for x in pparts])\n",
    "    return name\n",
    "\n",
    "def parseURI(uri):\n",
    "    nparts = re.split(\"[#:/]\", uri)\n",
    "    name = parse_uri_token(nparts[len(nparts)-1])\n",
    "    return name"
   ]
  },
  {
   "cell_type": "markdown",
   "metadata": {},
   "source": [
    "### Testing these helper functions "
   ]
  },
  {
   "cell_type": "code",
   "execution_count": 52,
   "metadata": {
    "collapsed": false,
    "scrolled": true
   },
   "outputs": [
    {
     "data": {
      "text/plain": [
       "[rdflib.term.URIRef(u'http://purl.bioontology.org/ontology/UATC/N02AC'),\n",
       " rdflib.term.URIRef(u'http://purl.bioontology.org/ontology/UATC/N02AB'),\n",
       " rdflib.term.URIRef(u'http://purl.bioontology.org/ontology/UATC/N02AA'),\n",
       " rdflib.term.URIRef(u'http://purl.bioontology.org/ontology/UATC/N02AG'),\n",
       " rdflib.term.URIRef(u'http://purl.bioontology.org/ontology/UATC/N02AF'),\n",
       " rdflib.term.URIRef(u'http://purl.bioontology.org/ontology/UATC/N02AE'),\n",
       " rdflib.term.URIRef(u'http://purl.bioontology.org/ontology/UATC/N02AD'),\n",
       " rdflib.term.URIRef(u'http://purl.bioontology.org/ontology/UATC/N02AJ'),\n",
       " rdflib.term.URIRef(u'http://purl.bioontology.org/ontology/UATC/N02AJ09'),\n",
       " rdflib.term.URIRef(u'http://purl.bioontology.org/ontology/UATC/N02AJ08')]"
      ]
     },
     "execution_count": 52,
     "metadata": {},
     "output_type": "execute_result"
    }
   ],
   "source": [
    "list(get_descendants(rdflib.term.URIRef('http://purl.bioontology.org/ontology/UATC/N02A'), atc))[0:10]"
   ]
  },
  {
   "cell_type": "code",
   "execution_count": 10,
   "metadata": {
    "collapsed": false
   },
   "outputs": [
    {
     "data": {
      "text/plain": [
       "[u'\"OPIOID ANALGESICS\"@en']"
      ]
     },
     "execution_count": 10,
     "metadata": {},
     "output_type": "execute_result"
    }
   ],
   "source": [
    "get_preferred_label(rdflib.term.URIRef('http://purl.bioontology.org/ontology/UATC/N02A'), atc)"
   ]
  },
  {
   "cell_type": "code",
   "execution_count": 11,
   "metadata": {
    "collapsed": false
   },
   "outputs": [
    {
     "data": {
      "text/plain": [
       "[rdflib.term.Literal(u'ATC LEVEL'),\n",
       " rdflib.term.Literal(u'ATC'),\n",
       " rdflib.term.Literal(u'Is Drug Class'),\n",
       " rdflib.term.Literal(u'Semantic type UMLS property')]"
      ]
     },
     "execution_count": 11,
     "metadata": {},
     "output_type": "execute_result"
    }
   ],
   "source": [
    "get_sample_objects(rdflib.term.URIRef('http://www.w3.org/2000/01/rdf-schema#label'), atc)"
   ]
  },
  {
   "cell_type": "code",
   "execution_count": 39,
   "metadata": {
    "collapsed": false
   },
   "outputs": [
    {
     "data": {
      "text/plain": [
       "'C3653996'"
      ]
     },
     "execution_count": 39,
     "metadata": {},
     "output_type": "execute_result"
    }
   ],
   "source": [
    "str(get_cui_codes(rdflib.term.URIRef(u'http://purl.bioontology.org/ontology/UATC/N02AA'), atc)[0])"
   ]
  },
  {
   "cell_type": "code",
   "execution_count": 43,
   "metadata": {
    "collapsed": false
   },
   "outputs": [
    {
     "data": {
      "text/plain": [
       "[rdflib.term.URIRef(u'http://purl.bioontology.org/ontology/RXNORM/1441383')]"
      ]
     },
     "execution_count": 43,
     "metadata": {},
     "output_type": "execute_result"
    }
   ],
   "source": [
    "# weirdly you need to keep the datatype in here, otherwise the query does not work ... (datatype info is retrieved from atc graph)\n",
    "get_rxnorm_ids(rdflib.term.Literal(u'C3668758', datatype=rdflib.term.URIRef(u'http://www.w3.org/2001/XMLSchema#string')), rxnorm)"
   ]
  },
  {
   "cell_type": "code",
   "execution_count": 53,
   "metadata": {
    "collapsed": false
   },
   "outputs": [
    {
     "data": {
      "text/plain": [
       "[rdflib.term.URIRef(u'http://purl.bioontology.org/ontology/RXNORM/375556'),\n",
       " rdflib.term.URIRef(u'http://purl.bioontology.org/ontology/RXNORM/313363'),\n",
       " rdflib.term.URIRef(u'http://purl.bioontology.org/ontology/RXNORM/245925'),\n",
       " rdflib.term.URIRef(u'http://purl.bioontology.org/ontology/RXNORM/854846'),\n",
       " rdflib.term.URIRef(u'http://purl.bioontology.org/ontology/RXNORM/1722357'),\n",
       " rdflib.term.URIRef(u'http://purl.bioontology.org/ontology/RXNORM/858264'),\n",
       " rdflib.term.URIRef(u'http://purl.bioontology.org/ontology/RXNORM/1918227'),\n",
       " rdflib.term.URIRef(u'http://purl.bioontology.org/ontology/RXNORM/1242231'),\n",
       " rdflib.term.URIRef(u'http://purl.bioontology.org/ontology/RXNORM/968643'),\n",
       " rdflib.term.URIRef(u'http://purl.bioontology.org/ontology/RXNORM/371986')]"
      ]
     },
     "execution_count": 53,
     "metadata": {},
     "output_type": "execute_result"
    }
   ],
   "source": [
    "list(get_subjects(rdflib.term.URIRef(u'http://purl.bioontology.org/ontology/RXNORM/316965'), \n",
    "             rdflib.term.URIRef(u'http://purl.bioontology.org/ontology/RXNORM/has_dose_form'), rxnorm))[0:10]"
   ]
  },
  {
   "cell_type": "code",
   "execution_count": 40,
   "metadata": {
    "collapsed": false
   },
   "outputs": [
    {
     "data": {
      "text/plain": [
       "[rdflib.term.Literal(u'C3668758', datatype=rdflib.term.URIRef(u'http://www.w3.org/2001/XMLSchema#string'))]"
      ]
     },
     "execution_count": 40,
     "metadata": {},
     "output_type": "execute_result"
    }
   ],
   "source": [
    "get_cui_codes(rdflib.term.URIRef(u'http://purl.bioontology.org/ontology/RXNORM/1441383'), rxnorm)"
   ]
  },
  {
   "cell_type": "code",
   "execution_count": 67,
   "metadata": {
    "collapsed": false
   },
   "outputs": [
    {
     "data": {
      "text/plain": [
       "[rdflib.term.URIRef(u'http://purl.bioontology.org/ontology/RXNORM/1806700'),\n",
       " rdflib.term.URIRef(u'http://purl.bioontology.org/ontology/UATC/N02AA56')]"
      ]
     },
     "execution_count": 67,
     "metadata": {},
     "output_type": "execute_result"
    }
   ],
   "source": [
    "# weirdly you need to keep the datatype in here, otherwise the query does not work ... (datatype info is retrieved from atc graph)\n",
    "get_rxnorm_ids(rdflib.term.Literal(u'C4282509', datatype=rdflib.term.URIRef(u'http://www.w3.org/2001/XMLSchema#string')), comb)"
   ]
  },
  {
   "cell_type": "markdown",
   "metadata": {},
   "source": [
    "### This is the main code to generate an OPIOID related Drug Network with CUIs, RxNorm Ids, ATC ids, dose etc."
   ]
  },
  {
   "cell_type": "code",
   "execution_count": 248,
   "metadata": {
    "collapsed": true
   },
   "outputs": [],
   "source": [
    "def get_opioid_drugs_atc(atc_hiercs):\n",
    "    # I am generating a networkx DiGraph data structure so as to add other type of URIs (RxNorm IDs etc.)\n",
    "    #return Cui, label, iris\n",
    "    opioid_drugs = nx.DiGraph()\n",
    "    for a in atc_hiercs:\n",
    "        _drugs = get_descendants_hier(rdflib.term.URIRef(a), atc)\n",
    "        for k in _drugs.nodes(): \n",
    "            opioid_drugs.add_node(k.n3(), rdfid=k, label=get_preferred_label(k, atc)[0], ntype=\"atc_id\")\n",
    "            cui_codes = get_cui_codes(k, atc)\n",
    "            for m in cui_codes:\n",
    "                opioid_drugs.add_node(str(m), rdfid=m, label=str(m), ntype=\"cui_id\")\n",
    "                opioid_drugs.add_edge(k.n3(), str(m), etype=\"has_cui\")\n",
    "        for k in _drugs.edges():\n",
    "            opioid_drugs.add_edge(k[0].n3(), k[1].n3(), etype=\"subclassOf\")\n",
    "    return opioid_drugs\n",
    "\n",
    "def extend_rxnorm_network(opioid_drugs, ntype=\"rxnorm_id\", extype=\"rxnorm_id_ext\"):\n",
    "    ### Extend the Opioid Drug Network with generic RXNorm IDs to include other drug formulations \n",
    "    ### (E.g. morphine to morphine sulphate 40mg to morphine sulphate 40mg oral tablet \n",
    "    ### (basically a 2-degree hop on the Rxnorm graph)\n",
    "    opioid_drugs_ext = deepcopy(opioid_drugs)\n",
    "    for m in opioid_drugs.nodes():\n",
    "        if opioid_drugs.node[m][\"ntype\"] == ntype: \n",
    "            #print opioid_drugs.node[m]\n",
    "            rxcuis = []\n",
    "            rxauis = []\n",
    "            for k in rxnorm.predicate_objects(subject=opioid_drugs.node[m][\"rdfid\"]): \n",
    "                (a, b) = (k[0].n3(), k[1].n3())\n",
    "                if \"http://purl.bioontology.org/ontology/RXNORM/\" in a: \n",
    "                    if a[1:len(a)-1] == \"http://purl.bioontology.org/ontology/RXNORM/RXCUI\": rxcuis.append(str(k[1]))\n",
    "                    elif a[1:len(a)-1] == \"http://purl.bioontology.org/ontology/RXNORM/RXAUI\": rxauis.append(str(k[1]))\n",
    "                    else:\n",
    "                        etype = parseURI(a[1:len(a)-1])\n",
    "                        if not etype in allowed_etypes: continue\n",
    "                        lab = get_preferred_label(k[1], rxnorm)\n",
    "                        lab = lab[0] if len(lab) > 0 else \"\"\n",
    "                        if not opioid_drugs_ext.has_node(k[1].n3()):    \n",
    "                            opioid_drugs_ext.add_node(k[1].n3(), ntype=extype, rdfid=k[1], label=lab)\n",
    "                            cui_codes = get_cui_codes(k[1], rxnorm)\n",
    "                            for n in cui_codes:\n",
    "                                opioid_drugs_ext.add_node(str(n), rdfid=n, label=str(n), ntype=\"cui_id\")\n",
    "                                opioid_drugs_ext.add_edge(k[1].n3(), str(n), etype=\"has_cui\")\n",
    "                        opioid_drugs_ext.add_edge(m, k[1].n3(), etype=etype)\n",
    "            opioid_drugs_ext.node[m][\"rxcuis\"] = \":-:\".join(rxcuis)\n",
    "            opioid_drugs_ext.node[m][\"rxauis\"] = \":-:\".join(rxauis)\n",
    "    return opioid_drugs_ext\n",
    "\n",
    "def annotate_rxnorm_network(opioid_drugs, ntype=\"rxnorm_id_ext_1\"):\n",
    "    opioid_drugs_ext = deepcopy(opioid_drugs)\n",
    "    for m in opioid_drugs.nodes():\n",
    "        if opioid_drugs.node[m][\"ntype\"] == ntype: \n",
    "            rxcuis = []\n",
    "            rxauis = []\n",
    "            for k in rxnorm.predicate_objects(subject=opioid_drugs.node[m][\"rdfid\"]): \n",
    "                (a, b) = (k[0].n3(), k[1].n3())\n",
    "                if \"http://purl.bioontology.org/ontology/RXNORM/\" in a: \n",
    "                    if a[1:len(a)-1] == \"http://purl.bioontology.org/ontology/RXNORM/RXCUI\": rxcuis.append(str(k[1]))\n",
    "                    elif a[1:len(a)-1] == \"http://purl.bioontology.org/ontology/RXNORM/RXAUI\": rxauis.append(str(k[1]))\n",
    "            opioid_drugs_ext.node[m][\"rxcuis\"] = \":-:\".join(rxcuis)\n",
    "            opioid_drugs_ext.node[m][\"rxauis\"] = \":-:\".join(rxauis)\n",
    "    return opioid_drugs_ext"
   ]
  },
  {
   "cell_type": "markdown",
   "metadata": {},
   "source": [
    "#### ATC has different hierarchies related to Opioid Drugs\n",
    "##### http://purl.bioontology.org/ontology/UATC/N07BC \"Drugs used in opioid dependence\"\n",
    "##### http://purl.bioontology.org/ontology/UATC/N02A \"Opioid Analgesics\"\n",
    "##### http://purl.bioontology.org/ontology/UATC/N01AH \"Opioid Anasthetics\" \n",
    "##### http://purl.bioontology.org/ontology/UATC/A06AH \"Peripheral opioid receptor antagonists\" (am retrieving these as well, can be excluded)\n",
    "##### TODO: http://purl.bioontology.org/ontology/UATC/R05DA \"Opium Alkaloids\""
   ]
  },
  {
   "cell_type": "code",
   "execution_count": 243,
   "metadata": {
    "collapsed": true
   },
   "outputs": [],
   "source": [
    "atc_hiercs = [\"http://purl.bioontology.org/ontology/UATC/N02A\", \"http://purl.bioontology.org/ontology/UATC/N01AH\", \n",
    "              \"http://purl.bioontology.org/ontology/UATC/N07BC\", \"http://purl.bioontology.org/ontology/UATC/A06AH\"]\n",
    "opioid_drugs = get_opioid_drugs_atc(atc_hiercs)"
   ]
  },
  {
   "cell_type": "code",
   "execution_count": 244,
   "metadata": {
    "collapsed": true
   },
   "outputs": [],
   "source": [
    "for m in opioid_drugs.nodes():\n",
    "    if not opioid_drugs.node[m][\"ntype\"] == \"cui_id\": continue\n",
    "    a = get_rxnorm_ids(opioid_drugs.node[m][\"rdfid\"], rxnorm)\n",
    "    for p in a: \n",
    "        opioid_drugs.add_node(p.n3(), rdfid=p, label=get_preferred_label(p, rxnorm)[0], ntype=\"rxnorm_id\")\n",
    "        opioid_drugs.add_edge(m, p.n3(), etype=\"has_rxnorm\")"
   ]
  },
  {
   "cell_type": "code",
   "execution_count": 312,
   "metadata": {
    "collapsed": true
   },
   "outputs": [],
   "source": [
    "# available Edge types: set([u'Has Form', u'Rxn Strength', u'Constitutes', u'Rxn In Expressed Flag', u'Has Dose Form', \n",
    "#         u'Inverse Isa', u'Has Part', 'subclassOf', u'Part Of', u'Rxn Available Strength', u'Rxn Obsoleted', \n",
    "#         u'Rxn Quantity', u'Rxn Human Drug', u'Rxterm Form', u'Ndc', u'Has Doseformgroup', u'Has Precise Ingredient', \n",
    "#         u'Isa', 'has_cui', u'Rxn Activated', u'Ingredient Of', u'Ingredients Of', u'Consists Of', u'Has Ingredient', \n",
    "#         u'Precise Ingredient Of', u'Form Of', u'Has Tradename', 'has_rxnorm', u'Rxn Bn Cardinality'])\n",
    "'''allowed_etypes = set([u'Has Form', u'Constitutes', u'Has Dose Form', u'Has Part', 'subclassOf', u'Part Of', \n",
    "                      u'Rxterm Form', u'Has Doseformgroup', u'Has Precise Ingredient', 'has_cui', u'Ingredient Of', \n",
    "                      u'Ingredients Of', u'Consists Of', u'Has Ingredient', u'Precise Ingredient Of', u'Form Of', \n",
    "                      u'Has Tradename', 'has_rxnorm'])\n",
    "'''\n",
    "### Ignore Has Part, Has Precise Ingredient, Has Ingredient, since \"Acetaminophen /Codeine\" has Codeine has an opioid, \n",
    "### but including these edges will retrieve CUIs for Acetaminophen which is not an opiate\n",
    "### Ignore Has Dose Form, Has DoseFormGroup since e.g. instances are \"Cartridge, Injectable Product, Pill, etc.\n",
    "allowed_etypes = set([u'Has Form', u'Constitutes', 'subclassOf', u'Part Of', \n",
    "                      u'Rxterm Form', 'has_cui', u'Ingredient Of', u'Ingredients Of', \n",
    "                      u'Consists Of', u'Precise Ingredient Of', u'Form Of', u'Has Tradename', 'has_rxnorm'])"
   ]
  },
  {
   "cell_type": "code",
   "execution_count": 313,
   "metadata": {
    "collapsed": true
   },
   "outputs": [],
   "source": [
    "opioid_drugs_ext = extend_rxnorm_network(opioid_drugs)\n",
    "opioid_drugs_ext = extend_rxnorm_network(opioid_drugs_ext, \"rxnorm_id_ext\", \"rxnorm_id_ext_1\")\n",
    "opioid_drugs_ext = annotate_rxnorm_network(opioid_drugs_ext, \"rxnorm_id_ext\")"
   ]
  },
  {
   "cell_type": "markdown",
   "metadata": {},
   "source": [
    "### Explore the Opioid Drug Network"
   ]
  },
  {
   "cell_type": "code",
   "execution_count": 256,
   "metadata": {
    "collapsed": true
   },
   "outputs": [],
   "source": [
    "def _get_node_set(G, node_type):\n",
    "    node_set = []\n",
    "    for m in G.nodes():\n",
    "        if G.node[m][\"ntype\"] == node_type:\n",
    "            node_set.append(m)\n",
    "    return node_set\n",
    "\n",
    "def _get_node_count(G, node_type):\n",
    "    node_set = _get_node_set(G, node_type)\n",
    "    return len(node_set)\n",
    "\n",
    "def get_different_formulations(G, rxnorm_gen_node):\n",
    "    e_groups = {}\n",
    "    for k in G[rxnorm_gen_node]: \n",
    "        e = G[rxnorm_gen_node][k][\"etype\"]\n",
    "        if not e in e_groups: e_groups[e] = [] \n",
    "        e_groups[e].append(G.node[k][\"label\"])\n",
    "    for m in e_groups:\n",
    "        print \"----------\"\n",
    "        print m\n",
    "        print \"----------\"\n",
    "        for k in e_groups[m]: print k\n",
    "            \n",
    "def get_specific_network(G, rxnorm_gen_node):\n",
    "    descendants = nx.descendants(G, rxnorm_gen_node)\n",
    "    descendants = descendants.union(set([rxnorm_gen_node]))\n",
    "    subG = nx.subgraph(G, list(descendants))\n",
    "    return subG"
   ]
  },
  {
   "cell_type": "code",
   "execution_count": 314,
   "metadata": {
    "collapsed": false
   },
   "outputs": [
    {
     "name": "stdout",
     "output_type": "stream",
     "text": [
      "3995 5160\n"
     ]
    }
   ],
   "source": [
    "print len(opioid_drugs_ext.nodes()), len(opioid_drugs_ext.edges())\n",
    "#len(unopioid.nodes()), len(unopioid.edges())"
   ]
  },
  {
   "cell_type": "code",
   "execution_count": 315,
   "metadata": {
    "collapsed": false
   },
   "outputs": [
    {
     "name": "stdout",
     "output_type": "stream",
     "text": [
      "set([u'Ingredients Of', u'Has Form', 'subclassOf', u'Form Of', u'Part Of', u'Rxterm Form', u'Ingredient Of', u'Consists Of', u'Constitutes', u'Has Tradename', 'has_cui', 'has_rxnorm', u'Precise Ingredient Of'])\n"
     ]
    }
   ],
   "source": [
    "etypes = set([])\n",
    "for k in opioid_drugs_ext.edges(): \n",
    "    etype = opioid_drugs_ext[k[0]][k[1]][\"etype\"]\n",
    "    etypes.add(etype)\n",
    "print etypes"
   ]
  },
  {
   "cell_type": "code",
   "execution_count": 316,
   "metadata": {
    "collapsed": false
   },
   "outputs": [
    {
     "name": "stdout",
     "output_type": "stream",
     "text": [
      "<http://purl.bioontology.org/ontology/RXNORM/3304> \"Heroin\"@en\n",
      "<http://purl.bioontology.org/ontology/RXNORM/3290> \"Dextromoramide\"@en\n",
      "<http://purl.bioontology.org/ontology/RXNORM/22713> \"dezocine\"@en\n",
      "<http://purl.bioontology.org/ontology/RXNORM/236913> \"LEVOMETHADONE\"@en\n",
      "<http://purl.bioontology.org/ontology/RXNORM/484259> \"Ibuprofen / Oxycodone\"@en\n",
      "<http://purl.bioontology.org/ontology/RXNORM/1841> \"Butorphanol\"@en\n",
      "<http://purl.bioontology.org/ontology/RXNORM/7676> \"Opium\"@en\n",
      "<http://purl.bioontology.org/ontology/RXNORM/8119> \"Phenazocine\"@en\n",
      "<http://purl.bioontology.org/ontology/RXNORM/1806700> \"Naltrexone / Oxycodone\"@en\n",
      "<http://purl.bioontology.org/ontology/RXNORM/56795> \"Sufentanil\"@en\n",
      "<http://purl.bioontology.org/ontology/RXNORM/7238> \"Nalbuphine\"@en\n",
      "<http://purl.bioontology.org/ontology/RXNORM/8001> \"Pentazocine\"@en\n",
      "<http://purl.bioontology.org/ontology/RXNORM/17933> \"anileridine\"@en\n",
      "<http://purl.bioontology.org/ontology/RXNORM/8785> \"Propoxyphene\"@en\n",
      "<http://purl.bioontology.org/ontology/RXNORM/10689> \"Tramadol\"@en\n",
      "<http://purl.bioontology.org/ontology/RXNORM/73032> \"remifentanil\"@en\n",
      "<http://purl.bioontology.org/ontology/RXNORM/10597> \"Tilidine\"@en\n",
      "<http://purl.bioontology.org/ontology/RXNORM/7052> \"Morphine\"@en\n",
      "<http://purl.bioontology.org/ontology/RXNORM/23088> \"dihydrocodeine\"@en\n",
      "<http://purl.bioontology.org/ontology/RXNORM/8354> \"Pirinitramide\"@en\n",
      "<http://purl.bioontology.org/ontology/RXNORM/3423> \"Hydromorphone\"@en\n",
      "<http://purl.bioontology.org/ontology/RXNORM/1551777> \"naloxegol\"@en\n",
      "<http://purl.bioontology.org/ontology/RXNORM/352362> \"Acetaminophen / Tramadol\"@en\n",
      "<http://purl.bioontology.org/ontology/RXNORM/710303> \"Codeine / Ibuprofen\"@en\n",
      "<http://purl.bioontology.org/ontology/RXNORM/135095> \"Aspirin / Codeine\"@en\n",
      "<http://purl.bioontology.org/ontology/RXNORM/979111> \"Methylnaltrexone bromide\"@en\n",
      "<http://purl.bioontology.org/ontology/RXNORM/4337> \"Fentanyl\"@en\n",
      "<http://purl.bioontology.org/ontology/RXNORM/6813> \"Methadone\"@en\n",
      "<http://purl.bioontology.org/ontology/RXNORM/8143> \"Phenoperidine\"@en\n",
      "<http://purl.bioontology.org/ontology/RXNORM/817579> \"Acetaminophen / Codeine\"@en\n",
      "<http://purl.bioontology.org/ontology/RXNORM/6761> \"Meptazinol\"@en\n",
      "<http://purl.bioontology.org/ontology/RXNORM/7804> \"Oxycodone\"@en\n",
      "<http://purl.bioontology.org/ontology/RXNORM/6754> \"Meperidine\"@en\n",
      "<http://purl.bioontology.org/ontology/RXNORM/1545902> \"Naloxone / Oxycodone\"@en\n",
      "<http://purl.bioontology.org/ontology/RXNORM/480639> \"alvimopan\"@en\n",
      "<http://purl.bioontology.org/ontology/RXNORM/787390> \"tapentadol\"@en\n",
      "<http://purl.bioontology.org/ontology/RXNORM/28863> \"lofexidine\"@en\n",
      "<http://purl.bioontology.org/ontology/RXNORM/7242> \"Naloxone\"@en\n",
      "<http://purl.bioontology.org/ontology/RXNORM/1819> \"Buprenorphine\"@en\n",
      "<http://purl.bioontology.org/ontology/RXNORM/7894> \"Papaveretum\"@en\n",
      "<http://purl.bioontology.org/ontology/RXNORM/480> \"Alfentanil\"@en\n"
     ]
    }
   ],
   "source": [
    "rxnorm_set = _get_node_set(opioid_drugs_ext, \"rxnorm_id\")\n",
    "for k in rxnorm_set:\n",
    "    print k, opioid_drugs_ext.node[k][\"label\"]"
   ]
  },
  {
   "cell_type": "code",
   "execution_count": 317,
   "metadata": {
    "collapsed": false,
    "scrolled": true
   },
   "outputs": [
    {
     "name": "stdout",
     "output_type": "stream",
     "text": [
      "----------\n",
      "Part Of\n",
      "----------\n",
      "\"Atropine / Morphine\"@en\n",
      "\"attapulgite / Morphine\"@en\n",
      "\"Cyclizine / Morphine\"@en\n",
      "\"guaiacolsulfonate / Morphine\"@en\n",
      "\"Morphine / Naltrexone\"@en\n",
      "\"bismuth subcarbonate / Morphine\"@en\n",
      "----------\n",
      "Has Tradename\n",
      "----------\n",
      "\"Infumorph\"@en\n",
      "\"MS Contin\"@en\n",
      "\"Morphabond\"@en\n",
      "\"Embeda\"@en\n",
      "\"Arymo\"@en\n",
      "\"Astramorph\"@en\n",
      "\"Avinza\"@en\n",
      "\"Duramorph\"@en\n",
      "\"Kadian\"@en\n",
      "----------\n",
      "Ingredient Of\n",
      "----------\n",
      "\"Morphine Oral Product\"@en\n",
      "\"Morphine Sulfate 6.67 MG/ML\"@en\n",
      "\"Morphine Sulfate 14.3 MG/ML\"@en\n",
      "\"Morphine Rectal Suppository\"@en\n",
      "\"Morphine Auto-Injector\"@en\n",
      "\"Morphine Sulfate 20 MG/ML\"@en\n",
      "\"Morphine Sulfate 150 MG\"@en\n",
      "\"Morphine Injection\"@en\n",
      "\"Morphine Sulfate 10 MG\"@en\n",
      "\"Morphine Rectal Product\"@en\n",
      "\"Morphine Sulfate 50 MG\"@en\n",
      "\"Morphine Sulfate 4 MG/ML\"@en\n",
      "\"Morphine Sulfate 30 MG\"@en\n",
      "\"Morphine Injectable Product\"@en\n",
      "\"Morphine Sulfate 2 MG/ML\"@en\n",
      "\"Morphine Sulfate 6 MG/ML\"@en\n",
      "\"Morphine Oral Tablet\"@en\n",
      "\"Atropine / Morphine Injectable Product\"@en\n",
      "\"Morphine Sulfate 45 MG\"@en\n",
      "\"Morphine Sulfate 130 MG\"@en\n",
      "\"Morphine Sulfate 35 MG\"@en\n",
      "\"Morphine Injectable Solution\"@en\n",
      "\"Morphine Oral Capsule\"@en\n",
      "\"Morphine Sulfate 25 MG/ML\"@en\n",
      "\"Morphine Sulfate 15 MG/ML\"@en\n",
      "\"Atropine / Morphine Injectable Solution\"@en\n",
      "\"Morphine Oral Solution\"@en\n",
      "\"Morphine Sulfate 15 MG\"@en\n",
      "\"Morphine Oral Liquid Product\"@en\n",
      "\"Morphine hydrochloride 40 MG\"@en\n",
      "\"Morphine Sulfate 30 MG/ML\"@en\n",
      "\"Morphine Sulfate 25 MG\"@en\n",
      "\"Morphine Sulfate 0.5 MG/ML\"@en\n",
      "\"Morphine Sulfate 50 MG/ML\"@en\n",
      "\"Morphine Sulfate 3 MG/ML\"@en\n",
      "\"Morphine Sulfate 75 MG\"@en\n",
      "\"Morphine Sulfate 10 MG/ML\"@en\n",
      "\"Morphine Sulfate 8 MG/ML\"@en\n",
      "\"Morphine Extended Release Oral Capsule\"@en\n",
      "\"Morphine / Naltrexone Pill\"@en\n",
      "\"Morphine Sulfate 100 MG\"@en\n",
      "\"Morphine Sulfate 5 MG/ML\"@en\n",
      "\"Morphine Oral Suspension\"@en\n",
      "\"Morphine Sulfate 200 MG\"@en\n",
      "\"Morphine / Naltrexone Oral Product\"@en\n",
      "\"Morphine Sulfate 20 MG\"@en\n",
      "\"Morphine Prefilled Syringe\"@en\n",
      "\"Morphine Pill\"@en\n",
      "\"Morphine Sulfate 70 MG\"@en\n",
      "\"Morphine Sulfate 80 MG\"@en\n",
      "\"Morphine Sulfate 5 MG\"@en\n",
      "\"Morphine Sulfate 60 MG\"@en\n",
      "\"Morphine Cartridge\"@en\n",
      "\"Morphine Sulfate 40 MG\"@en\n",
      "\"Morphine Sulfate 120 MG\"@en\n",
      "\"Morphine Extended Release Oral Tablet\"@en\n",
      "\"Morphine / Naltrexone Extended Release Oral Capsule\"@en\n",
      "\"Morphine Sulfate 1 MG/ML\"@en\n",
      "\"Morphine Sulfate 90 MG\"@en\n",
      "----------\n",
      "Has Form\n",
      "----------\n",
      "\"Morphine hydrochloride\"@en\n",
      "\"Morphine Sulfate\"@en\n",
      "\"MORPHINE TARTRATE\"@en\n"
     ]
    }
   ],
   "source": [
    "#<http://purl.bioontology.org/ontology/RXNORM/7052>, Morphine\n",
    "get_different_formulations(opioid_drugs_ext, \"<http://purl.bioontology.org/ontology/RXNORM/7052>\")"
   ]
  },
  {
   "cell_type": "code",
   "execution_count": 318,
   "metadata": {
    "collapsed": false
   },
   "outputs": [
    {
     "name": "stdout",
     "output_type": "stream",
     "text": [
      "587 752\n"
     ]
    }
   ],
   "source": [
    "morphineG = get_specific_network(opioid_drugs_ext, \"<http://purl.bioontology.org/ontology/RXNORM/7052>\")\n",
    "print len(morphineG.nodes()), len(morphineG.edges())"
   ]
  },
  {
   "cell_type": "code",
   "execution_count": 320,
   "metadata": {
    "collapsed": false
   },
   "outputs": [
    {
     "name": "stdout",
     "output_type": "stream",
     "text": [
      "\"Morphine\"@en Has Tradename \"Duramorph\"@en\n"
     ]
    }
   ],
   "source": [
    "ap = nx.shortest_path(morphineG, \"<http://purl.bioontology.org/ontology/RXNORM/7052>\", \"<http://purl.bioontology.org/ontology/RXNORM/203355>\")\n",
    "for a in range(len(ap)-1):\n",
    "    print morphineG.node[ap[a]][\"label\"], morphineG[ap[a]][ap[a+1]][\"etype\"], morphineG.node[ap[a+1]][\"label\"]"
   ]
  },
  {
   "cell_type": "markdown",
   "metadata": {},
   "source": [
    "### Saving and Printing the Opioid Drug Network"
   ]
  },
  {
   "cell_type": "code",
   "execution_count": 322,
   "metadata": {
    "collapsed": true
   },
   "outputs": [],
   "source": [
    "nx.write_gpickle(opioid_drugs_ext, \"opioid_drugs_ext_main.gpickle\")"
   ]
  },
  {
   "cell_type": "code",
   "execution_count": 325,
   "metadata": {
    "collapsed": true
   },
   "outputs": [],
   "source": [
    "def save_network_viz(G, file_name):\n",
    "    #removing RDF uris\n",
    "    aG = deepcopy(G)\n",
    "    for k in aG.nodes(): aG.node[k][\"rdfid\"] = \"\"\n",
    "    nx.write_gpickle(aG, file_name + \".gpickle\")\n",
    "    nx.write_graphml(aG, file_name + \".graphml\") #printing purposes"
   ]
  },
  {
   "cell_type": "code",
   "execution_count": 326,
   "metadata": {
    "collapsed": true
   },
   "outputs": [],
   "source": [
    "save_network_viz(opioid_drugs_ext, \"opioid_drugs_ext\")"
   ]
  },
  {
   "cell_type": "code",
   "execution_count": 327,
   "metadata": {
    "collapsed": true
   },
   "outputs": [],
   "source": [
    "save_network_viz(morphineG, \"morphineG\")"
   ]
  },
  {
   "cell_type": "code",
   "execution_count": null,
   "metadata": {
    "collapsed": true
   },
   "outputs": [],
   "source": []
  }
 ],
 "metadata": {
  "kernelspec": {
   "display_name": "Python 2",
   "language": "python",
   "name": "python2"
  },
  "language_info": {
   "codemirror_mode": {
    "name": "ipython",
    "version": 2
   },
   "file_extension": ".py",
   "mimetype": "text/x-python",
   "name": "python",
   "nbconvert_exporter": "python",
   "pygments_lexer": "ipython2",
   "version": "2.7.10"
  }
 },
 "nbformat": 4,
 "nbformat_minor": 1
}
